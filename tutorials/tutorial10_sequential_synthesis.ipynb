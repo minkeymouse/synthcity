{
 "cells": [
  {
   "cell_type": "markdown",
   "metadata": {
    "vscode": {
     "languageId": "plaintext"
    }
   },
   "source": [
    "# Tutorial 10: Sequential Synthesis\n",
    "In this tutorial, we explore the **Sequential Synthesis** approach using\n",
    "the `syn_seq` plugin in `synthcity`. Sequential synthesis allows us to\n",
    "model variables one-by-one (column-by-column), using conditional relationships\n",
    "learned from the real data. The main idea is:\n",
    "1. Synthesize the first variable (often with sample-without-replacement, \"SWR\"),\n",
    "2. Then synthesize the second variable conditioned on the first,\n",
    "3. And so on for each subsequent variable.\n",
    "This approach can better preserve complex dependencies among columns than\n",
    "simple marginal or naive methods.\n",
    "We'll demonstrate this using the **diabetes** dataset, just like other tutorials,\n",
    "and compare the resulting synthetic data.\n"
   ]
  },
  {
   "cell_type": "code",
   "execution_count": 1,
   "metadata": {},
   "outputs": [
    {
     "name": "stdout",
     "output_type": "stream",
     "text": [
      "Requirement already satisfied: synthcity in c:\\users\\hsrhe\\anaconda3\\envs\\syn_seq\\lib\\site-packages (0.2.11)\n",
      "Requirement already satisfied: importlib-metadata in c:\\users\\hsrhe\\anaconda3\\envs\\syn_seq\\lib\\site-packages (from synthcity) (8.5.0)\n",
      "Requirement already satisfied: pandas>=2.1 in c:\\users\\hsrhe\\anaconda3\\envs\\syn_seq\\lib\\site-packages (from synthcity) (2.2.3)\n",
      "Requirement already satisfied: torch<2.3,>=2.1 in c:\\users\\hsrhe\\anaconda3\\envs\\syn_seq\\lib\\site-packages (from synthcity) (2.2.2)\n",
      "Requirement already satisfied: scikit-learn>=1.2 in c:\\users\\hsrhe\\anaconda3\\envs\\syn_seq\\lib\\site-packages (from synthcity) (1.6.0)\n",
      "Requirement already satisfied: nflows>=0.14 in c:\\users\\hsrhe\\anaconda3\\envs\\syn_seq\\lib\\site-packages (from synthcity) (0.14)\n",
      "Requirement already satisfied: numpy<2.0,>=1.20 in c:\\users\\hsrhe\\anaconda3\\envs\\syn_seq\\lib\\site-packages (from synthcity) (1.26.4)\n",
      "Requirement already satisfied: lifelines<0.30.0,>=0.29.0 in c:\\users\\hsrhe\\anaconda3\\envs\\syn_seq\\lib\\site-packages (from synthcity) (0.29.0)\n",
      "Requirement already satisfied: opacus>=1.3 in c:\\users\\hsrhe\\anaconda3\\envs\\syn_seq\\lib\\site-packages (from synthcity) (1.5.2)\n",
      "Requirement already satisfied: networkx<3.0,>2.0 in c:\\users\\hsrhe\\anaconda3\\envs\\syn_seq\\lib\\site-packages (from synthcity) (2.8.8)\n",
      "Requirement already satisfied: decaf-synthetic-data>=0.1.6 in c:\\users\\hsrhe\\anaconda3\\envs\\syn_seq\\lib\\site-packages (from synthcity) (0.1.6)\n",
      "Requirement already satisfied: optuna>=3.1 in c:\\users\\hsrhe\\anaconda3\\envs\\syn_seq\\lib\\site-packages (from synthcity) (4.1.0)\n",
      "Requirement already satisfied: shap in c:\\users\\hsrhe\\anaconda3\\envs\\syn_seq\\lib\\site-packages (from synthcity) (0.46.0)\n",
      "Requirement already satisfied: tenacity in c:\\users\\hsrhe\\anaconda3\\envs\\syn_seq\\lib\\site-packages (from synthcity) (9.0.0)\n",
      "Requirement already satisfied: tqdm in c:\\users\\hsrhe\\anaconda3\\envs\\syn_seq\\lib\\site-packages (from synthcity) (4.67.1)\n",
      "Requirement already satisfied: loguru in c:\\users\\hsrhe\\anaconda3\\envs\\syn_seq\\lib\\site-packages (from synthcity) (0.7.3)\n",
      "Requirement already satisfied: pydantic>=2.0 in c:\\users\\hsrhe\\anaconda3\\envs\\syn_seq\\lib\\site-packages (from synthcity) (2.10.4)\n",
      "Requirement already satisfied: cloudpickle in c:\\users\\hsrhe\\anaconda3\\envs\\syn_seq\\lib\\site-packages (from synthcity) (3.1.0)\n",
      "Requirement already satisfied: scipy in c:\\users\\hsrhe\\anaconda3\\envs\\syn_seq\\lib\\site-packages (from synthcity) (1.13.1)\n",
      "Requirement already satisfied: xgboost<3.0.0 in c:\\users\\hsrhe\\anaconda3\\envs\\syn_seq\\lib\\site-packages (from synthcity) (2.1.3)\n",
      "Requirement already satisfied: geomloss in c:\\users\\hsrhe\\anaconda3\\envs\\syn_seq\\lib\\site-packages (from synthcity) (0.2.6)\n",
      "Requirement already satisfied: pgmpy in c:\\users\\hsrhe\\anaconda3\\envs\\syn_seq\\lib\\site-packages (from synthcity) (0.1.26)\n",
      "Requirement already satisfied: redis in c:\\users\\hsrhe\\anaconda3\\envs\\syn_seq\\lib\\site-packages (from synthcity) (5.2.1)\n",
      "Requirement already satisfied: pycox in c:\\users\\hsrhe\\anaconda3\\envs\\syn_seq\\lib\\site-packages (from synthcity) (0.3.0)\n",
      "Requirement already satisfied: xgbse>=0.3.1 in c:\\users\\hsrhe\\anaconda3\\envs\\syn_seq\\lib\\site-packages (from synthcity) (0.3.3)\n",
      "Requirement already satisfied: pykeops in c:\\users\\hsrhe\\anaconda3\\envs\\syn_seq\\lib\\site-packages (from synthcity) (2.2.3)\n",
      "Requirement already satisfied: fflows in c:\\users\\hsrhe\\anaconda3\\envs\\syn_seq\\lib\\site-packages (from synthcity) (0.0.3)\n",
      "Requirement already satisfied: monai in c:\\users\\hsrhe\\anaconda3\\envs\\syn_seq\\lib\\site-packages (from synthcity) (1.4.0)\n",
      "Requirement already satisfied: tsai in c:\\users\\hsrhe\\anaconda3\\envs\\syn_seq\\lib\\site-packages (from synthcity) (0.3.9)\n",
      "Requirement already satisfied: be-great>=0.0.5 in c:\\users\\hsrhe\\anaconda3\\envs\\syn_seq\\lib\\site-packages (from synthcity) (0.0.8)\n",
      "Requirement already satisfied: arfpy in c:\\users\\hsrhe\\anaconda3\\envs\\syn_seq\\lib\\site-packages (from synthcity) (0.1.1)\n",
      "Requirement already satisfied: datasets>=2.5.2 in c:\\users\\hsrhe\\anaconda3\\envs\\syn_seq\\lib\\site-packages (from be-great>=0.0.5->synthcity) (3.2.0)\n",
      "Requirement already satisfied: transformers>=4.22.1 in c:\\users\\hsrhe\\anaconda3\\envs\\syn_seq\\lib\\site-packages (from be-great>=0.0.5->synthcity) (4.47.1)\n",
      "Requirement already satisfied: accelerate>=0.20.1 in c:\\users\\hsrhe\\anaconda3\\envs\\syn_seq\\lib\\site-packages (from be-great>=0.0.5->synthcity) (1.2.1)\n",
      "Requirement already satisfied: pytorch-lightning<2.0 in c:\\users\\hsrhe\\anaconda3\\envs\\syn_seq\\lib\\site-packages (from decaf-synthetic-data>=0.1.6->synthcity) (1.9.5)\n",
      "Requirement already satisfied: torchtext>=0.10 in c:\\users\\hsrhe\\anaconda3\\envs\\syn_seq\\lib\\site-packages (from decaf-synthetic-data>=0.1.6->synthcity) (0.17.2)\n",
      "Requirement already satisfied: matplotlib>=3.0 in c:\\users\\hsrhe\\anaconda3\\envs\\syn_seq\\lib\\site-packages (from lifelines<0.30.0,>=0.29.0->synthcity) (3.9.4)\n",
      "Requirement already satisfied: autograd>=1.5 in c:\\users\\hsrhe\\anaconda3\\envs\\syn_seq\\lib\\site-packages (from lifelines<0.30.0,>=0.29.0->synthcity) (1.7.0)\n",
      "Requirement already satisfied: autograd-gamma>=0.3 in c:\\users\\hsrhe\\anaconda3\\envs\\syn_seq\\lib\\site-packages (from lifelines<0.30.0,>=0.29.0->synthcity) (0.5.0)\n",
      "Requirement already satisfied: formulaic>=0.2.2 in c:\\users\\hsrhe\\anaconda3\\envs\\syn_seq\\lib\\site-packages (from lifelines<0.30.0,>=0.29.0->synthcity) (1.1.1)\n",
      "Requirement already satisfied: tensorboard in c:\\users\\hsrhe\\anaconda3\\envs\\syn_seq\\lib\\site-packages (from nflows>=0.14->synthcity) (2.18.0)\n",
      "Requirement already satisfied: opt-einsum>=3.3.0 in c:\\users\\hsrhe\\anaconda3\\envs\\syn_seq\\lib\\site-packages (from opacus>=1.3->synthcity) (3.4.0)\n",
      "Requirement already satisfied: alembic>=1.5.0 in c:\\users\\hsrhe\\anaconda3\\envs\\syn_seq\\lib\\site-packages (from optuna>=3.1->synthcity) (1.14.0)\n",
      "Requirement already satisfied: colorlog in c:\\users\\hsrhe\\anaconda3\\envs\\syn_seq\\lib\\site-packages (from optuna>=3.1->synthcity) (6.9.0)\n",
      "Requirement already satisfied: packaging>=20.0 in c:\\users\\hsrhe\\anaconda3\\envs\\syn_seq\\lib\\site-packages (from optuna>=3.1->synthcity) (24.2)\n",
      "Requirement already satisfied: sqlalchemy>=1.4.2 in c:\\users\\hsrhe\\anaconda3\\envs\\syn_seq\\lib\\site-packages (from optuna>=3.1->synthcity) (2.0.36)\n",
      "Requirement already satisfied: PyYAML in c:\\users\\hsrhe\\anaconda3\\envs\\syn_seq\\lib\\site-packages (from optuna>=3.1->synthcity) (6.0.2)\n",
      "Requirement already satisfied: python-dateutil>=2.8.2 in c:\\users\\hsrhe\\anaconda3\\envs\\syn_seq\\lib\\site-packages (from pandas>=2.1->synthcity) (2.9.0.post0)\n",
      "Requirement already satisfied: pytz>=2020.1 in c:\\users\\hsrhe\\anaconda3\\envs\\syn_seq\\lib\\site-packages (from pandas>=2.1->synthcity) (2024.2)\n",
      "Requirement already satisfied: tzdata>=2022.7 in c:\\users\\hsrhe\\anaconda3\\envs\\syn_seq\\lib\\site-packages (from pandas>=2.1->synthcity) (2024.2)\n",
      "Requirement already satisfied: annotated-types>=0.6.0 in c:\\users\\hsrhe\\anaconda3\\envs\\syn_seq\\lib\\site-packages (from pydantic>=2.0->synthcity) (0.7.0)\n",
      "Requirement already satisfied: pydantic-core==2.27.2 in c:\\users\\hsrhe\\anaconda3\\envs\\syn_seq\\lib\\site-packages (from pydantic>=2.0->synthcity) (2.27.2)\n",
      "Requirement already satisfied: typing-extensions>=4.12.2 in c:\\users\\hsrhe\\anaconda3\\envs\\syn_seq\\lib\\site-packages (from pydantic>=2.0->synthcity) (4.12.2)\n",
      "Requirement already satisfied: joblib>=1.2.0 in c:\\users\\hsrhe\\anaconda3\\envs\\syn_seq\\lib\\site-packages (from scikit-learn>=1.2->synthcity) (1.4.2)\n",
      "Requirement already satisfied: threadpoolctl>=3.1.0 in c:\\users\\hsrhe\\anaconda3\\envs\\syn_seq\\lib\\site-packages (from scikit-learn>=1.2->synthcity) (3.5.0)\n",
      "Requirement already satisfied: filelock in c:\\users\\hsrhe\\anaconda3\\envs\\syn_seq\\lib\\site-packages (from torch<2.3,>=2.1->synthcity) (3.16.1)\n",
      "Requirement already satisfied: sympy in c:\\users\\hsrhe\\anaconda3\\envs\\syn_seq\\lib\\site-packages (from torch<2.3,>=2.1->synthcity) (1.13.3)\n",
      "Requirement already satisfied: jinja2 in c:\\users\\hsrhe\\anaconda3\\envs\\syn_seq\\lib\\site-packages (from torch<2.3,>=2.1->synthcity) (3.1.5)\n",
      "Requirement already satisfied: fsspec in c:\\users\\hsrhe\\anaconda3\\envs\\syn_seq\\lib\\site-packages (from torch<2.3,>=2.1->synthcity) (2024.9.0)\n",
      "Requirement already satisfied: colorama in c:\\users\\hsrhe\\anaconda3\\envs\\syn_seq\\lib\\site-packages (from tqdm->synthcity) (0.4.6)\n",
      "Requirement already satisfied: zipp>=3.20 in c:\\users\\hsrhe\\anaconda3\\envs\\syn_seq\\lib\\site-packages (from importlib-metadata->synthcity) (3.21.0)\n",
      "Requirement already satisfied: win32-setctime>=1.0.0 in c:\\users\\hsrhe\\anaconda3\\envs\\syn_seq\\lib\\site-packages (from loguru->synthcity) (1.2.0)\n",
      "Requirement already satisfied: pyparsing in c:\\users\\hsrhe\\anaconda3\\envs\\syn_seq\\lib\\site-packages (from pgmpy->synthcity) (3.2.1)\n",
      "Requirement already satisfied: statsmodels in c:\\users\\hsrhe\\anaconda3\\envs\\syn_seq\\lib\\site-packages (from pgmpy->synthcity) (0.14.4)\n",
      "Requirement already satisfied: google-generativeai in c:\\users\\hsrhe\\anaconda3\\envs\\syn_seq\\lib\\site-packages (from pgmpy->synthcity) (0.8.3)\n",
      "Requirement already satisfied: torchtuples>=0.2.0 in c:\\users\\hsrhe\\anaconda3\\envs\\syn_seq\\lib\\site-packages (from pycox->synthcity) (0.2.2)\n",
      "Requirement already satisfied: feather-format>=0.4.0 in c:\\users\\hsrhe\\anaconda3\\envs\\syn_seq\\lib\\site-packages (from pycox->synthcity) (0.4.1)\n",
      "Requirement already satisfied: h5py>=2.9.0 in c:\\users\\hsrhe\\anaconda3\\envs\\syn_seq\\lib\\site-packages (from pycox->synthcity) (3.12.1)\n",
      "Requirement already satisfied: numba>=0.44 in c:\\users\\hsrhe\\anaconda3\\envs\\syn_seq\\lib\\site-packages (from pycox->synthcity) (0.60.0)\n",
      "Requirement already satisfied: requests>=2.22.0 in c:\\users\\hsrhe\\anaconda3\\envs\\syn_seq\\lib\\site-packages (from pycox->synthcity) (2.32.3)\n",
      "Requirement already satisfied: py7zr>=0.11.3 in c:\\users\\hsrhe\\anaconda3\\envs\\syn_seq\\lib\\site-packages (from pycox->synthcity) (0.22.0)\n",
      "Requirement already satisfied: pybind11 in c:\\users\\hsrhe\\anaconda3\\envs\\syn_seq\\lib\\site-packages (from pykeops->synthcity) (2.13.6)\n",
      "Requirement already satisfied: keopscore==2.2.3 in c:\\users\\hsrhe\\anaconda3\\envs\\syn_seq\\lib\\site-packages (from pykeops->synthcity) (2.2.3)\n",
      "Requirement already satisfied: async-timeout>=4.0.3 in c:\\users\\hsrhe\\anaconda3\\envs\\syn_seq\\lib\\site-packages (from redis->synthcity) (5.0.1)\n",
      "Requirement already satisfied: slicer==0.0.8 in c:\\users\\hsrhe\\anaconda3\\envs\\syn_seq\\lib\\site-packages (from shap->synthcity) (0.0.8)\n",
      "Requirement already satisfied: fastai>=2.7.14 in c:\\users\\hsrhe\\anaconda3\\envs\\syn_seq\\lib\\site-packages (from tsai->synthcity) (2.7.18)\n",
      "Requirement already satisfied: pyts>=0.12.0 in c:\\users\\hsrhe\\anaconda3\\envs\\syn_seq\\lib\\site-packages (from tsai->synthcity) (0.13.0)\n",
      "Requirement already satisfied: imbalanced-learn>=0.11.0 in c:\\users\\hsrhe\\anaconda3\\envs\\syn_seq\\lib\\site-packages (from tsai->synthcity) (0.12.4)\n",
      "Requirement already satisfied: psutil>=5.4.8 in c:\\users\\hsrhe\\anaconda3\\envs\\syn_seq\\lib\\site-packages (from tsai->synthcity) (6.1.1)\n",
      "Requirement already satisfied: huggingface-hub>=0.21.0 in c:\\users\\hsrhe\\anaconda3\\envs\\syn_seq\\lib\\site-packages (from accelerate>=0.20.1->be-great>=0.0.5->synthcity) (0.27.1)\n",
      "Requirement already satisfied: safetensors>=0.4.3 in c:\\users\\hsrhe\\anaconda3\\envs\\syn_seq\\lib\\site-packages (from accelerate>=0.20.1->be-great>=0.0.5->synthcity) (0.5.0)\n",
      "Requirement already satisfied: Mako in c:\\users\\hsrhe\\anaconda3\\envs\\syn_seq\\lib\\site-packages (from alembic>=1.5.0->optuna>=3.1->synthcity) (1.3.8)\n",
      "Requirement already satisfied: pyarrow>=15.0.0 in c:\\users\\hsrhe\\anaconda3\\envs\\syn_seq\\lib\\site-packages (from datasets>=2.5.2->be-great>=0.0.5->synthcity) (18.1.0)\n",
      "Requirement already satisfied: dill<0.3.9,>=0.3.0 in c:\\users\\hsrhe\\anaconda3\\envs\\syn_seq\\lib\\site-packages (from datasets>=2.5.2->be-great>=0.0.5->synthcity) (0.3.8)\n",
      "Requirement already satisfied: xxhash in c:\\users\\hsrhe\\anaconda3\\envs\\syn_seq\\lib\\site-packages (from datasets>=2.5.2->be-great>=0.0.5->synthcity) (3.5.0)\n",
      "Requirement already satisfied: multiprocess<0.70.17 in c:\\users\\hsrhe\\anaconda3\\envs\\syn_seq\\lib\\site-packages (from datasets>=2.5.2->be-great>=0.0.5->synthcity) (0.70.16)\n",
      "Requirement already satisfied: aiohttp in c:\\users\\hsrhe\\anaconda3\\envs\\syn_seq\\lib\\site-packages (from datasets>=2.5.2->be-great>=0.0.5->synthcity) (3.11.11)\n",
      "Requirement already satisfied: pip in c:\\users\\hsrhe\\anaconda3\\envs\\syn_seq\\lib\\site-packages (from fastai>=2.7.14->tsai->synthcity) (24.2)\n",
      "Requirement already satisfied: fastdownload<2,>=0.0.5 in c:\\users\\hsrhe\\anaconda3\\envs\\syn_seq\\lib\\site-packages (from fastai>=2.7.14->tsai->synthcity) (0.0.7)\n",
      "Requirement already satisfied: fastcore<1.8,>=1.5.29 in c:\\users\\hsrhe\\anaconda3\\envs\\syn_seq\\lib\\site-packages (from fastai>=2.7.14->tsai->synthcity) (1.7.28)\n",
      "Requirement already satisfied: torchvision>=0.11 in c:\\users\\hsrhe\\anaconda3\\envs\\syn_seq\\lib\\site-packages (from fastai>=2.7.14->tsai->synthcity) (0.17.2)\n",
      "Requirement already satisfied: fastprogress>=0.2.4 in c:\\users\\hsrhe\\anaconda3\\envs\\syn_seq\\lib\\site-packages (from fastai>=2.7.14->tsai->synthcity) (1.0.3)\n",
      "Requirement already satisfied: pillow>=9.0.0 in c:\\users\\hsrhe\\anaconda3\\envs\\syn_seq\\lib\\site-packages (from fastai>=2.7.14->tsai->synthcity) (11.1.0)\n",
      "Requirement already satisfied: spacy<4 in c:\\users\\hsrhe\\anaconda3\\envs\\syn_seq\\lib\\site-packages (from fastai>=2.7.14->tsai->synthcity) (3.8.3)\n",
      "Requirement already satisfied: interface-meta>=1.2.0 in c:\\users\\hsrhe\\anaconda3\\envs\\syn_seq\\lib\\site-packages (from formulaic>=0.2.2->lifelines<0.30.0,>=0.29.0->synthcity) (1.3.0)\n",
      "Requirement already satisfied: wrapt>=1.0 in c:\\users\\hsrhe\\anaconda3\\envs\\syn_seq\\lib\\site-packages (from formulaic>=0.2.2->lifelines<0.30.0,>=0.29.0->synthcity) (1.17.0)\n",
      "Requirement already satisfied: contourpy>=1.0.1 in c:\\users\\hsrhe\\anaconda3\\envs\\syn_seq\\lib\\site-packages (from matplotlib>=3.0->lifelines<0.30.0,>=0.29.0->synthcity) (1.3.0)\n",
      "Requirement already satisfied: cycler>=0.10 in c:\\users\\hsrhe\\anaconda3\\envs\\syn_seq\\lib\\site-packages (from matplotlib>=3.0->lifelines<0.30.0,>=0.29.0->synthcity) (0.12.1)\n",
      "Requirement already satisfied: fonttools>=4.22.0 in c:\\users\\hsrhe\\anaconda3\\envs\\syn_seq\\lib\\site-packages (from matplotlib>=3.0->lifelines<0.30.0,>=0.29.0->synthcity) (4.55.3)\n",
      "Requirement already satisfied: kiwisolver>=1.3.1 in c:\\users\\hsrhe\\anaconda3\\envs\\syn_seq\\lib\\site-packages (from matplotlib>=3.0->lifelines<0.30.0,>=0.29.0->synthcity) (1.4.7)\n",
      "Requirement already satisfied: importlib-resources>=3.2.0 in c:\\users\\hsrhe\\anaconda3\\envs\\syn_seq\\lib\\site-packages (from matplotlib>=3.0->lifelines<0.30.0,>=0.29.0->synthcity) (6.5.2)\n",
      "Requirement already satisfied: llvmlite<0.44,>=0.43.0dev0 in c:\\users\\hsrhe\\anaconda3\\envs\\syn_seq\\lib\\site-packages (from numba>=0.44->pycox->synthcity) (0.43.0)\n",
      "Requirement already satisfied: texttable in c:\\users\\hsrhe\\anaconda3\\envs\\syn_seq\\lib\\site-packages (from py7zr>=0.11.3->pycox->synthcity) (1.7.0)\n",
      "Requirement already satisfied: pycryptodomex>=3.16.0 in c:\\users\\hsrhe\\anaconda3\\envs\\syn_seq\\lib\\site-packages (from py7zr>=0.11.3->pycox->synthcity) (3.21.0)\n",
      "Requirement already satisfied: pyzstd>=0.15.9 in c:\\users\\hsrhe\\anaconda3\\envs\\syn_seq\\lib\\site-packages (from py7zr>=0.11.3->pycox->synthcity) (0.16.2)\n",
      "Requirement already satisfied: pyppmd<1.2.0,>=1.1.0 in c:\\users\\hsrhe\\anaconda3\\envs\\syn_seq\\lib\\site-packages (from py7zr>=0.11.3->pycox->synthcity) (1.1.1)\n",
      "Requirement already satisfied: pybcj<1.1.0,>=1.0.0 in c:\\users\\hsrhe\\anaconda3\\envs\\syn_seq\\lib\\site-packages (from py7zr>=0.11.3->pycox->synthcity) (1.0.3)\n",
      "Requirement already satisfied: multivolumefile>=0.2.3 in c:\\users\\hsrhe\\anaconda3\\envs\\syn_seq\\lib\\site-packages (from py7zr>=0.11.3->pycox->synthcity) (0.2.3)\n",
      "Requirement already satisfied: inflate64<1.1.0,>=1.0.0 in c:\\users\\hsrhe\\anaconda3\\envs\\syn_seq\\lib\\site-packages (from py7zr>=0.11.3->pycox->synthcity) (1.0.1)\n",
      "Requirement already satisfied: brotli>=1.1.0 in c:\\users\\hsrhe\\anaconda3\\envs\\syn_seq\\lib\\site-packages (from py7zr>=0.11.3->pycox->synthcity) (1.1.0)\n",
      "Requirement already satisfied: six>=1.5 in c:\\users\\hsrhe\\anaconda3\\envs\\syn_seq\\lib\\site-packages (from python-dateutil>=2.8.2->pandas>=2.1->synthcity) (1.17.0)\n",
      "Requirement already satisfied: torchmetrics>=0.7.0 in c:\\users\\hsrhe\\anaconda3\\envs\\syn_seq\\lib\\site-packages (from pytorch-lightning<2.0->decaf-synthetic-data>=0.1.6->synthcity) (1.6.1)\n",
      "Requirement already satisfied: lightning-utilities>=0.6.0.post0 in c:\\users\\hsrhe\\anaconda3\\envs\\syn_seq\\lib\\site-packages (from pytorch-lightning<2.0->decaf-synthetic-data>=0.1.6->synthcity) (0.11.9)\n",
      "Requirement already satisfied: charset-normalizer<4,>=2 in c:\\users\\hsrhe\\anaconda3\\envs\\syn_seq\\lib\\site-packages (from requests>=2.22.0->pycox->synthcity) (3.4.1)\n",
      "Requirement already satisfied: idna<4,>=2.5 in c:\\users\\hsrhe\\anaconda3\\envs\\syn_seq\\lib\\site-packages (from requests>=2.22.0->pycox->synthcity) (3.10)\n",
      "Requirement already satisfied: urllib3<3,>=1.21.1 in c:\\users\\hsrhe\\anaconda3\\envs\\syn_seq\\lib\\site-packages (from requests>=2.22.0->pycox->synthcity) (2.3.0)\n",
      "Requirement already satisfied: certifi>=2017.4.17 in c:\\users\\hsrhe\\anaconda3\\envs\\syn_seq\\lib\\site-packages (from requests>=2.22.0->pycox->synthcity) (2024.12.14)\n",
      "Requirement already satisfied: greenlet!=0.4.17 in c:\\users\\hsrhe\\anaconda3\\envs\\syn_seq\\lib\\site-packages (from sqlalchemy>=1.4.2->optuna>=3.1->synthcity) (3.1.1)\n",
      "Requirement already satisfied: regex!=2019.12.17 in c:\\users\\hsrhe\\anaconda3\\envs\\syn_seq\\lib\\site-packages (from transformers>=4.22.1->be-great>=0.0.5->synthcity) (2024.11.6)\n",
      "Requirement already satisfied: tokenizers<0.22,>=0.21 in c:\\users\\hsrhe\\anaconda3\\envs\\syn_seq\\lib\\site-packages (from transformers>=4.22.1->be-great>=0.0.5->synthcity) (0.21.0)\n",
      "Requirement already satisfied: google-ai-generativelanguage==0.6.10 in c:\\users\\hsrhe\\anaconda3\\envs\\syn_seq\\lib\\site-packages (from google-generativeai->pgmpy->synthcity) (0.6.10)\n",
      "Requirement already satisfied: google-api-core in c:\\users\\hsrhe\\anaconda3\\envs\\syn_seq\\lib\\site-packages (from google-generativeai->pgmpy->synthcity) (2.24.0)\n",
      "Requirement already satisfied: google-api-python-client in c:\\users\\hsrhe\\anaconda3\\envs\\syn_seq\\lib\\site-packages (from google-generativeai->pgmpy->synthcity) (2.157.0)\n",
      "Requirement already satisfied: google-auth>=2.15.0 in c:\\users\\hsrhe\\anaconda3\\envs\\syn_seq\\lib\\site-packages (from google-generativeai->pgmpy->synthcity) (2.37.0)\n",
      "Requirement already satisfied: protobuf in c:\\users\\hsrhe\\anaconda3\\envs\\syn_seq\\lib\\site-packages (from google-generativeai->pgmpy->synthcity) (5.29.2)\n",
      "Requirement already satisfied: proto-plus<2.0.0dev,>=1.22.3 in c:\\users\\hsrhe\\anaconda3\\envs\\syn_seq\\lib\\site-packages (from google-ai-generativelanguage==0.6.10->google-generativeai->pgmpy->synthcity) (1.25.0)\n",
      "Requirement already satisfied: MarkupSafe>=2.0 in c:\\users\\hsrhe\\anaconda3\\envs\\syn_seq\\lib\\site-packages (from jinja2->torch<2.3,>=2.1->synthcity) (3.0.2)\n",
      "Requirement already satisfied: patsy>=0.5.6 in c:\\users\\hsrhe\\anaconda3\\envs\\syn_seq\\lib\\site-packages (from statsmodels->pgmpy->synthcity) (1.0.1)\n",
      "Requirement already satisfied: mpmath<1.4,>=1.1.0 in c:\\users\\hsrhe\\anaconda3\\envs\\syn_seq\\lib\\site-packages (from sympy->torch<2.3,>=2.1->synthcity) (1.3.0)\n",
      "Requirement already satisfied: absl-py>=0.4 in c:\\users\\hsrhe\\anaconda3\\envs\\syn_seq\\lib\\site-packages (from tensorboard->nflows>=0.14->synthcity) (2.1.0)\n",
      "Requirement already satisfied: grpcio>=1.48.2 in c:\\users\\hsrhe\\anaconda3\\envs\\syn_seq\\lib\\site-packages (from tensorboard->nflows>=0.14->synthcity) (1.69.0)\n",
      "Requirement already satisfied: markdown>=2.6.8 in c:\\users\\hsrhe\\anaconda3\\envs\\syn_seq\\lib\\site-packages (from tensorboard->nflows>=0.14->synthcity) (3.7)\n",
      "Requirement already satisfied: setuptools>=41.0.0 in c:\\users\\hsrhe\\anaconda3\\envs\\syn_seq\\lib\\site-packages (from tensorboard->nflows>=0.14->synthcity) (75.1.0)\n",
      "Requirement already satisfied: tensorboard-data-server<0.8.0,>=0.7.0 in c:\\users\\hsrhe\\anaconda3\\envs\\syn_seq\\lib\\site-packages (from tensorboard->nflows>=0.14->synthcity) (0.7.2)\n",
      "Requirement already satisfied: werkzeug>=1.0.1 in c:\\users\\hsrhe\\anaconda3\\envs\\syn_seq\\lib\\site-packages (from tensorboard->nflows>=0.14->synthcity) (3.1.3)\n",
      "Requirement already satisfied: aiohappyeyeballs>=2.3.0 in c:\\users\\hsrhe\\anaconda3\\envs\\syn_seq\\lib\\site-packages (from aiohttp->datasets>=2.5.2->be-great>=0.0.5->synthcity) (2.4.4)\n",
      "Requirement already satisfied: aiosignal>=1.1.2 in c:\\users\\hsrhe\\anaconda3\\envs\\syn_seq\\lib\\site-packages (from aiohttp->datasets>=2.5.2->be-great>=0.0.5->synthcity) (1.3.2)\n",
      "Requirement already satisfied: attrs>=17.3.0 in c:\\users\\hsrhe\\anaconda3\\envs\\syn_seq\\lib\\site-packages (from aiohttp->datasets>=2.5.2->be-great>=0.0.5->synthcity) (24.3.0)\n",
      "Requirement already satisfied: frozenlist>=1.1.1 in c:\\users\\hsrhe\\anaconda3\\envs\\syn_seq\\lib\\site-packages (from aiohttp->datasets>=2.5.2->be-great>=0.0.5->synthcity) (1.5.0)\n",
      "Requirement already satisfied: multidict<7.0,>=4.5 in c:\\users\\hsrhe\\anaconda3\\envs\\syn_seq\\lib\\site-packages (from aiohttp->datasets>=2.5.2->be-great>=0.0.5->synthcity) (6.1.0)\n",
      "Requirement already satisfied: propcache>=0.2.0 in c:\\users\\hsrhe\\anaconda3\\envs\\syn_seq\\lib\\site-packages (from aiohttp->datasets>=2.5.2->be-great>=0.0.5->synthcity) (0.2.1)\n",
      "Requirement already satisfied: yarl<2.0,>=1.17.0 in c:\\users\\hsrhe\\anaconda3\\envs\\syn_seq\\lib\\site-packages (from aiohttp->datasets>=2.5.2->be-great>=0.0.5->synthcity) (1.18.3)\n",
      "Requirement already satisfied: googleapis-common-protos<2.0.dev0,>=1.56.2 in c:\\users\\hsrhe\\anaconda3\\envs\\syn_seq\\lib\\site-packages (from google-api-core->google-generativeai->pgmpy->synthcity) (1.66.0)\n",
      "Requirement already satisfied: cachetools<6.0,>=2.0.0 in c:\\users\\hsrhe\\anaconda3\\envs\\syn_seq\\lib\\site-packages (from google-auth>=2.15.0->google-generativeai->pgmpy->synthcity) (5.5.0)\n",
      "Requirement already satisfied: pyasn1-modules>=0.2.1 in c:\\users\\hsrhe\\anaconda3\\envs\\syn_seq\\lib\\site-packages (from google-auth>=2.15.0->google-generativeai->pgmpy->synthcity) (0.4.1)\n",
      "Requirement already satisfied: rsa<5,>=3.1.4 in c:\\users\\hsrhe\\anaconda3\\envs\\syn_seq\\lib\\site-packages (from google-auth>=2.15.0->google-generativeai->pgmpy->synthcity) (4.9)\n",
      "Requirement already satisfied: spacy-legacy<3.1.0,>=3.0.11 in c:\\users\\hsrhe\\anaconda3\\envs\\syn_seq\\lib\\site-packages (from spacy<4->fastai>=2.7.14->tsai->synthcity) (3.0.12)\n",
      "Requirement already satisfied: spacy-loggers<2.0.0,>=1.0.0 in c:\\users\\hsrhe\\anaconda3\\envs\\syn_seq\\lib\\site-packages (from spacy<4->fastai>=2.7.14->tsai->synthcity) (1.0.5)\n",
      "Requirement already satisfied: murmurhash<1.1.0,>=0.28.0 in c:\\users\\hsrhe\\anaconda3\\envs\\syn_seq\\lib\\site-packages (from spacy<4->fastai>=2.7.14->tsai->synthcity) (1.0.11)\n",
      "Requirement already satisfied: cymem<2.1.0,>=2.0.2 in c:\\users\\hsrhe\\anaconda3\\envs\\syn_seq\\lib\\site-packages (from spacy<4->fastai>=2.7.14->tsai->synthcity) (2.0.10)\n",
      "Requirement already satisfied: preshed<3.1.0,>=3.0.2 in c:\\users\\hsrhe\\anaconda3\\envs\\syn_seq\\lib\\site-packages (from spacy<4->fastai>=2.7.14->tsai->synthcity) (3.0.9)\n",
      "Requirement already satisfied: thinc<8.4.0,>=8.3.0 in c:\\users\\hsrhe\\anaconda3\\envs\\syn_seq\\lib\\site-packages (from spacy<4->fastai>=2.7.14->tsai->synthcity) (8.3.3)\n",
      "Requirement already satisfied: wasabi<1.2.0,>=0.9.1 in c:\\users\\hsrhe\\anaconda3\\envs\\syn_seq\\lib\\site-packages (from spacy<4->fastai>=2.7.14->tsai->synthcity) (1.1.3)\n",
      "Requirement already satisfied: srsly<3.0.0,>=2.4.3 in c:\\users\\hsrhe\\anaconda3\\envs\\syn_seq\\lib\\site-packages (from spacy<4->fastai>=2.7.14->tsai->synthcity) (2.5.0)\n",
      "Requirement already satisfied: catalogue<2.1.0,>=2.0.6 in c:\\users\\hsrhe\\anaconda3\\envs\\syn_seq\\lib\\site-packages (from spacy<4->fastai>=2.7.14->tsai->synthcity) (2.0.10)\n",
      "Requirement already satisfied: weasel<0.5.0,>=0.1.0 in c:\\users\\hsrhe\\anaconda3\\envs\\syn_seq\\lib\\site-packages (from spacy<4->fastai>=2.7.14->tsai->synthcity) (0.4.1)\n",
      "Requirement already satisfied: typer<1.0.0,>=0.3.0 in c:\\users\\hsrhe\\anaconda3\\envs\\syn_seq\\lib\\site-packages (from spacy<4->fastai>=2.7.14->tsai->synthcity) (0.15.1)\n",
      "Requirement already satisfied: langcodes<4.0.0,>=3.2.0 in c:\\users\\hsrhe\\anaconda3\\envs\\syn_seq\\lib\\site-packages (from spacy<4->fastai>=2.7.14->tsai->synthcity) (3.5.0)\n",
      "Requirement already satisfied: httplib2<1.dev0,>=0.19.0 in c:\\users\\hsrhe\\anaconda3\\envs\\syn_seq\\lib\\site-packages (from google-api-python-client->google-generativeai->pgmpy->synthcity) (0.22.0)\n",
      "Requirement already satisfied: google-auth-httplib2<1.0.0,>=0.2.0 in c:\\users\\hsrhe\\anaconda3\\envs\\syn_seq\\lib\\site-packages (from google-api-python-client->google-generativeai->pgmpy->synthcity) (0.2.0)\n",
      "Requirement already satisfied: uritemplate<5,>=3.0.1 in c:\\users\\hsrhe\\anaconda3\\envs\\syn_seq\\lib\\site-packages (from google-api-python-client->google-generativeai->pgmpy->synthcity) (4.1.1)\n",
      "Requirement already satisfied: grpcio-status<2.0.dev0,>=1.33.2 in c:\\users\\hsrhe\\anaconda3\\envs\\syn_seq\\lib\\site-packages (from google-api-core[grpc]!=2.0.*,!=2.1.*,!=2.10.*,!=2.2.*,!=2.3.*,!=2.4.*,!=2.5.*,!=2.6.*,!=2.7.*,!=2.8.*,!=2.9.*,<3.0.0dev,>=1.34.1->google-ai-generativelanguage==0.6.10->google-generativeai->pgmpy->synthcity) (1.69.0)\n",
      "Requirement already satisfied: language-data>=1.2 in c:\\users\\hsrhe\\anaconda3\\envs\\syn_seq\\lib\\site-packages (from langcodes<4.0.0,>=3.2.0->spacy<4->fastai>=2.7.14->tsai->synthcity) (1.3.0)\n",
      "Requirement already satisfied: pyasn1<0.7.0,>=0.4.6 in c:\\users\\hsrhe\\anaconda3\\envs\\syn_seq\\lib\\site-packages (from pyasn1-modules>=0.2.1->google-auth>=2.15.0->google-generativeai->pgmpy->synthcity) (0.6.1)\n",
      "Requirement already satisfied: blis<1.2.0,>=1.1.0 in c:\\users\\hsrhe\\anaconda3\\envs\\syn_seq\\lib\\site-packages (from thinc<8.4.0,>=8.3.0->spacy<4->fastai>=2.7.14->tsai->synthcity) (1.1.0)\n",
      "Requirement already satisfied: confection<1.0.0,>=0.0.1 in c:\\users\\hsrhe\\anaconda3\\envs\\syn_seq\\lib\\site-packages (from thinc<8.4.0,>=8.3.0->spacy<4->fastai>=2.7.14->tsai->synthcity) (0.1.5)\n",
      "Requirement already satisfied: click>=8.0.0 in c:\\users\\hsrhe\\anaconda3\\envs\\syn_seq\\lib\\site-packages (from typer<1.0.0,>=0.3.0->spacy<4->fastai>=2.7.14->tsai->synthcity) (8.1.8)\n",
      "Requirement already satisfied: shellingham>=1.3.0 in c:\\users\\hsrhe\\anaconda3\\envs\\syn_seq\\lib\\site-packages (from typer<1.0.0,>=0.3.0->spacy<4->fastai>=2.7.14->tsai->synthcity) (1.5.4)\n",
      "Requirement already satisfied: rich>=10.11.0 in c:\\users\\hsrhe\\anaconda3\\envs\\syn_seq\\lib\\site-packages (from typer<1.0.0,>=0.3.0->spacy<4->fastai>=2.7.14->tsai->synthcity) (13.9.4)\n",
      "Requirement already satisfied: cloudpathlib<1.0.0,>=0.7.0 in c:\\users\\hsrhe\\anaconda3\\envs\\syn_seq\\lib\\site-packages (from weasel<0.5.0,>=0.1.0->spacy<4->fastai>=2.7.14->tsai->synthcity) (0.20.0)\n",
      "Requirement already satisfied: smart-open<8.0.0,>=5.2.1 in c:\\users\\hsrhe\\anaconda3\\envs\\syn_seq\\lib\\site-packages (from weasel<0.5.0,>=0.1.0->spacy<4->fastai>=2.7.14->tsai->synthcity) (7.1.0)\n",
      "Requirement already satisfied: marisa-trie>=1.1.0 in c:\\users\\hsrhe\\anaconda3\\envs\\syn_seq\\lib\\site-packages (from language-data>=1.2->langcodes<4.0.0,>=3.2.0->spacy<4->fastai>=2.7.14->tsai->synthcity) (1.2.1)\n",
      "Requirement already satisfied: markdown-it-py>=2.2.0 in c:\\users\\hsrhe\\anaconda3\\envs\\syn_seq\\lib\\site-packages (from rich>=10.11.0->typer<1.0.0,>=0.3.0->spacy<4->fastai>=2.7.14->tsai->synthcity) (3.0.0)\n",
      "Requirement already satisfied: pygments<3.0.0,>=2.13.0 in c:\\users\\hsrhe\\anaconda3\\envs\\syn_seq\\lib\\site-packages (from rich>=10.11.0->typer<1.0.0,>=0.3.0->spacy<4->fastai>=2.7.14->tsai->synthcity) (2.18.0)\n",
      "Requirement already satisfied: mdurl~=0.1 in c:\\users\\hsrhe\\anaconda3\\envs\\syn_seq\\lib\\site-packages (from markdown-it-py>=2.2.0->rich>=10.11.0->typer<1.0.0,>=0.3.0->spacy<4->fastai>=2.7.14->tsai->synthcity) (0.1.2)\n"
     ]
    }
   ],
   "source": [
    "!pip install synthcity"
   ]
  },
  {
   "cell_type": "code",
   "execution_count": 2,
   "metadata": {},
   "outputs": [
    {
     "name": "stdout",
     "output_type": "stream",
     "text": [
      "[KeOps] Warning : \n",
      "    The default C++ compiler could not be found on your system.\n",
      "    You need to either define the CXX environment variable or a symlink to the g++ command.\n",
      "    For example if g++-8 is the command you can do\n",
      "      import os\n",
      "      os.environ['CXX'] = 'g++-8'\n",
      "    \n",
      "[KeOps] Warning : Cuda libraries were not detected on the system or could not be loaded ; using cpu only mode\n"
     ]
    }
   ],
   "source": [
    "\n",
    "import sys\n",
    "import warnings\n",
    "\n",
    "warnings.filterwarnings(\"ignore\")\n",
    "\n",
    "from sklearn.datasets import load_diabetes\n",
    "\n",
    "# synthcity absolute\n",
    "import synthcity.logger as log\n",
    "from synthcity.plugins import Plugins\n",
    "\n",
    "log.add(sink=sys.stderr, level=\"INFO\")\n"
   ]
  },
  {
   "cell_type": "markdown",
   "metadata": {},
   "source": [
    "## 1) Load the data\n",
    "We will use the diabetes dataset for simplicity.\n"
   ]
  },
  {
   "cell_type": "code",
   "execution_count": 3,
   "metadata": {},
   "outputs": [
    {
     "name": "stdout",
     "output_type": "stream",
     "text": [
      "      sex  age                   edu  income smoke  nociga  wkabdur  \\\n",
      "0  FEMALE   57    VOCATIONAL/GRAMMAR   800.0    NO      -8       -8   \n",
      "1    MALE   20    VOCATIONAL/GRAMMAR   350.0    NO      -8       -8   \n",
      "2  FEMALE   18    VOCATIONAL/GRAMMAR     NaN    NO      -8       -8   \n",
      "3  FEMALE   78  PRIMARY/NO EDUCATION   900.0    NO      -8       -8   \n",
      "4  FEMALE   54    VOCATIONAL/GRAMMAR  1500.0   YES      20       -8   \n",
      "\n",
      "                 ls wkabint        date  \n",
      "0           PLEASED      NO  1979-10-07  \n",
      "1  MOSTLY SATISFIED      NO         NaN  \n",
      "2           PLEASED      NO         NaN  \n",
      "3             MIXED      NO  1958-08-11  \n",
      "4  MOSTLY SATISFIED      NO  1980-06-08  \n"
     ]
    }
   ],
   "source": [
    "import pandas as pd\n",
    "\n",
    "ods = pd.read_csv(\"C:\\\\Users\\\\hsrhe\\\\Desktop\\\\SQRG\\\\ods.csv\")\n",
    "#전처리 작업 - 합성에 원하는 컬럼 \n",
    "target = [\"sex\", \"age\", \"edu\", \"income\", \"smoke\", \"nociga\", \"wkabdur\", \"ls\", \"wkabint\", \"date\"]\n",
    "ods = ods[target]\n",
    "\n",
    "print(ods.head())"
   ]
  },
  {
   "cell_type": "markdown",
   "metadata": {},
   "source": [
    "\n",
    "## 2) Create a Syn_SeqDataLoader\n",
    "Instead of using a `GenericDataLoader`, we use our specialized\n",
    "`Syn_SeqDataLoader`. We'll define a `syn_order` — the sequence in which columns\n",
    "get synthesized. If not provided, it defaults to the data's columns order.\n"
   ]
  },
  {
   "cell_type": "code",
   "execution_count": 4,
   "metadata": {},
   "outputs": [],
   "source": [
    "from synthcity.plugins.core.dataloader import Syn_SeqDataLoader\n",
    "\n",
    "user_custom = {\n",
    "  'syn_order' : [\"sex\", \"age\", \"edu\", \"income\", \"smoke\", \"nociga\", \"wkabdur\", \"ls\", \"wkabint\", \"date\"],\n",
    "  'method' : {\"age\": \"cart\"},\n",
    "  'special_value': {'income': [-8], 'nociga': [-8]},\n",
    "  'col_type' : {\"date\": \"date\"},\n",
    "  'variable_selection' : {\n",
    "    \"nociga\": [\"sex\", \"age\", \"edu\", \"smoke\"],\n",
    "    \"ls\": ['sex', 'age', 'income'],\n",
    "  }\n",
    "}\n"
   ]
  },
  {
   "cell_type": "code",
   "execution_count": 5,
   "metadata": {},
   "outputs": [
    {
     "name": "stdout",
     "output_type": "stream",
     "text": [
      "\n",
      "[INFO] Syn_SeqEncoder summary:\n",
      "  (column, converted_type, method)\n",
      "\n",
      "  (sex, category, swr)\n",
      "    --> \n",
      "  (age, numeric, cart)\n",
      "    --> \n",
      "  (edu, category, cart)\n",
      "    --> \n",
      "  (income, numeric, cart)\n",
      "    --> \n",
      "  (smoke, category, cart)\n",
      "    --> \n",
      "  (nociga, numeric, cart)\n",
      "    --> \n",
      "  (wkabdur, numeric, cart)\n",
      "    --> \n",
      "  (ls, category, cart)\n",
      "    --> \n",
      "  (wkabint, category, cart)\n",
      "    --> \n",
      "  (date, numeric, cart)\n",
      "\n",
      "  - special_value => {'income': [-8], 'nociga': [-8], 'wkabdur': [-8]}\n",
      "\n",
      "  - variable_selection_:\n",
      "         sex  age  edu  income  smoke  nociga  wkabdur  ls  wkabint  date\n",
      "sex        0    0    0       0      0       0        0   0        0     0\n",
      "age        1    0    0       0      0       0        0   0        0     0\n",
      "edu        1    1    0       0      0       0        0   0        0     0\n",
      "income     1    1    1       0      0       0        0   0        0     0\n",
      "smoke      1    1    1       1      0       0        0   0        0     0\n",
      "nociga     1    1    1       0      1       0        0   0        0     0\n",
      "wkabdur    1    1    1       1      1       1        0   0        0     0\n",
      "ls         1    1    0       1      0       0        0   0        0     0\n",
      "wkabint    1    1    1       1      1       1        1   1        0     0\n",
      "date       1    1    1       1      1       1        1   1        1     0\n",
      "------------------------------------------------\n"
     ]
    }
   ],
   "source": [
    "loader = Syn_SeqDataLoader(\n",
    "    ods, \n",
    "    target_column=\"income\", \n",
    "    sensitive_columns=[\"income\"], \n",
    "    user_custom = user_custom, \n",
    "    max_categories = 15\n",
    "    )"
   ]
  },
  {
   "cell_type": "markdown",
   "metadata": {},
   "source": [
    "\n",
    "The `Syn_SeqDataLoader` also prints out debug info, including the\n",
    "automatically-detected numeric vs categorical columns.\n",
    "\n",
    "## 3) List available plugins\n",
    "Recall from earlier tutorials that you can see all generative model plugins\n",
    "with `Plugins().list()`. We'll specifically focus on `\"syn_seq\"` here.\n",
    "\n"
   ]
  },
  {
   "cell_type": "code",
   "execution_count": 6,
   "metadata": {},
   "outputs": [
    {
     "name": "stderr",
     "output_type": "stream",
     "text": [
      "[2025-02-07T15:21:28.011905+0900][11664][CRITICAL] module disabled: C:\\Users\\hsrhe\\Desktop\\synthcity\\src\\synthcity\\plugins\\generic\\plugin_goggle.py\n",
      "[2025-02-07T15:21:28.011905+0900][11664][CRITICAL] module disabled: C:\\Users\\hsrhe\\Desktop\\synthcity\\src\\synthcity\\plugins\\generic\\plugin_goggle.py\n"
     ]
    },
    {
     "data": {
      "text/plain": [
       "['image_cgan',\n",
       " 'rtvae',\n",
       " 'timevae',\n",
       " 'fflows',\n",
       " 'survival_ctgan',\n",
       " 'adsgan',\n",
       " 'tvae',\n",
       " 'dummy_sampler',\n",
       " 'survival_gan',\n",
       " 'bayesian_network',\n",
       " 'privbayes',\n",
       " 'ddpm',\n",
       " 'image_adsgan',\n",
       " 'nflow',\n",
       " 'great',\n",
       " 'survival_nflow',\n",
       " 'survae',\n",
       " 'syn_seq',\n",
       " 'decaf',\n",
       " 'radialgan',\n",
       " 'aim',\n",
       " 'dpgan',\n",
       " 'ctgan',\n",
       " 'pategan',\n",
       " 'arf',\n",
       " 'uniform_sampler',\n",
       " 'timegan',\n",
       " 'marginal_distributions']"
      ]
     },
     "execution_count": 6,
     "metadata": {},
     "output_type": "execute_result"
    }
   ],
   "source": [
    "Plugins().list()"
   ]
  },
  {
   "cell_type": "markdown",
   "metadata": {},
   "source": [
    "You should see `\"syn_seq\"` in the returned list.\n",
    "\n",
    "## 4) Load and train the Sequential Synthesis Model\n",
    "The `syn_seq` plugin allows you to specify how each column is synthesized:\n",
    "- `\"SWR\"` = sample without replacement\n",
    "- `\"CART\"`, `\"rf\"`, `\"pmm\"`, `\"logreg\"`, etc. for the rest\n",
    "Typically, we do `\"SWR\"` for the first column, and `\"CART\"` or `\"rf\"` for subsequent columns.\n",
    "But you can choose any method for each column.\n"
   ]
  },
  {
   "cell_type": "code",
   "execution_count": 7,
   "metadata": {},
   "outputs": [
    {
     "name": "stderr",
     "output_type": "stream",
     "text": [
      "[2025-02-07T15:21:37.752341+0900][11664][CRITICAL] module disabled: C:\\Users\\hsrhe\\Desktop\\synthcity\\src\\synthcity\\plugins\\generic\\plugin_goggle.py\n"
     ]
    }
   ],
   "source": [
    "syn_model = Plugins().get(\"syn_seq\")\n"
   ]
  },
  {
   "cell_type": "code",
   "execution_count": 8,
   "metadata": {},
   "outputs": [
    {
     "name": "stdout",
     "output_type": "stream",
     "text": [
      "Fitting 'age' with 'cart' ... Done!\n",
      "Fitting 'edu' with 'cart' ... Done!\n",
      "Fitting 'income_cat' with 'cart' ... Done!\n",
      "Fitting 'income' with 'cart' ... Done!\n",
      "Fitting 'smoke' with 'cart' ... Done!\n",
      "Fitting 'nociga_cat' with 'cart' ... Done!\n",
      "Fitting 'nociga' with 'cart' ... Done!\n",
      "Fitting 'wkabdur_cat' with 'cart' ... Done!\n",
      "Fitting 'wkabdur' with 'cart' ... Done!\n",
      "Fitting 'ls' with 'cart' ... Done!\n",
      "Fitting 'wkabint' with 'cart' ... Done!\n",
      "Fitting 'date' with 'cart' ... Done!\n"
     ]
    },
    {
     "data": {
      "text/plain": [
       "<synthcity.plugins.generic.plugin_syn_seq.Syn_SeqPlugin at 0x1677a63e3d0>"
      ]
     },
     "execution_count": 8,
     "metadata": {},
     "output_type": "execute_result"
    }
   ],
   "source": [
    "syn_model.fit(loader)"
   ]
  },
  {
   "cell_type": "markdown",
   "metadata": {},
   "source": [
    "\n",
    "**Note**: During training, you'll see some printed info about which method\n",
    "is used for each column, plus the final variable selection matrix.\n",
    "\n",
    "## 5) Generate synthetic data\n",
    "By default, let's sample 200 synthetic rows.\n",
    "\n"
   ]
  },
  {
   "cell_type": "code",
   "execution_count": 9,
   "metadata": {},
   "outputs": [
    {
     "name": "stdout",
     "output_type": "stream",
     "text": [
      "Generating 'age' => done.\n",
      "Generating 'edu' => done.\n",
      "Generating 'income_cat' => done.\n",
      "Generating 'income' => done.\n",
      "Generating 'smoke' => done.\n",
      "Generating 'nociga_cat' => done.\n",
      "Generating 'nociga' => done.\n",
      "Generating 'wkabdur_cat' => done.\n",
      "Generating 'wkabdur' => done.\n",
      "Generating 'ls' => done.\n",
      "Generating 'wkabint' => done.\n",
      "Generating 'date' => done.\n"
     ]
    }
   ],
   "source": [
    "# 여기서 X=loader 를 함께 넘긴다고 가정\n",
    "synthetic_loader = syn_model.generate(\n",
    "    nrows = len(ods),\n",
    "    )"
   ]
  },
  {
   "cell_type": "code",
   "execution_count": 10,
   "metadata": {},
   "outputs": [
    {
     "name": "stdout",
     "output_type": "stream",
     "text": [
      "       sex   age                       edu  income smoke  nociga  wkabdur  \\\n",
      "0   FEMALE  51.0        VOCATIONAL/GRAMMAR  1000.0   YES    30.0     24.0   \n",
      "1     MALE  25.0  POST-SECONDARY OR HIGHER  2000.0    NO    20.0      3.0   \n",
      "2   FEMALE  56.0        VOCATIONAL/GRAMMAR  1350.0    NO    22.0      6.0   \n",
      "3     MALE  53.0        VOCATIONAL/GRAMMAR  2500.0    NO    15.0      8.0   \n",
      "4     MALE  30.0        VOCATIONAL/GRAMMAR  1500.0   YES    15.0     24.0   \n",
      "5   FEMALE  92.0      PRIMARY/NO EDUCATION   850.0    NO    40.0     24.0   \n",
      "6     MALE  53.0        VOCATIONAL/GRAMMAR  1700.0    NO    20.0      8.0   \n",
      "7   FEMALE  48.0        VOCATIONAL/GRAMMAR  1200.0   YES    15.0      5.0   \n",
      "8   FEMALE  73.0      PRIMARY/NO EDUCATION  1115.0    NO     3.0     36.0   \n",
      "9   FEMALE  42.0                 SECONDARY  1200.0    NO    15.0      6.0   \n",
      "10  FEMALE  76.0  POST-SECONDARY OR HIGHER  2400.0    NO     5.0     36.0   \n",
      "11  FEMALE  35.0  POST-SECONDARY OR HIGHER  1100.0    NO    10.0      4.0   \n",
      "12    MALE  18.0        VOCATIONAL/GRAMMAR   200.0    NO    10.0      6.0   \n",
      "13  FEMALE  26.0  POST-SECONDARY OR HIGHER  2000.0    NO     5.0      3.0   \n",
      "14    MALE  21.0                 SECONDARY  1200.0    NO    30.0     24.0   \n",
      "15  FEMALE  48.0        VOCATIONAL/GRAMMAR  2000.0    NO    22.0      8.0   \n",
      "16  FEMALE  50.0  POST-SECONDARY OR HIGHER   980.0    NO    22.0      6.0   \n",
      "17  FEMALE  66.0        VOCATIONAL/GRAMMAR   800.0    NO    22.0      6.0   \n",
      "18    MALE  47.0        VOCATIONAL/GRAMMAR  2000.0   YES    40.0     24.0   \n",
      "19    MALE  23.0  POST-SECONDARY OR HIGHER  1600.0   YES    20.0      6.0   \n",
      "\n",
      "                     ls                 wkabint     date  \n",
      "0   MOSTLY DISSATISFIED      YES, TO EU COUNTRY  13166.0  \n",
      "1                 MIXED                      NO  24940.0  \n",
      "2   MOSTLY DISSATISFIED      YES, TO EU COUNTRY  13166.0  \n",
      "3                 MIXED      YES, TO EU COUNTRY  15847.0  \n",
      "4      MOSTLY SATISFIED                      NO  25856.0  \n",
      "5                 MIXED  YES, TO NON-EU COUNTRY  13993.0  \n",
      "6               PLEASED      YES, TO EU COUNTRY  13166.0  \n",
      "7      MOSTLY SATISFIED                      NO  18041.0  \n",
      "8                 MIXED  YES, TO NON-EU COUNTRY  13993.0  \n",
      "9               PLEASED                      NO  18041.0  \n",
      "10     MOSTLY SATISFIED  YES, TO NON-EU COUNTRY  15847.0  \n",
      "11              PLEASED                      NO  26469.0  \n",
      "12     MOSTLY SATISFIED      YES, TO EU COUNTRY  26122.0  \n",
      "13     MOSTLY SATISFIED                      NO  25856.0  \n",
      "14              PLEASED      YES, TO EU COUNTRY  23520.0  \n",
      "15     MOSTLY SATISFIED                      NO  17717.0  \n",
      "16                MIXED      YES, TO EU COUNTRY  16583.0  \n",
      "17     MOSTLY SATISFIED  YES, TO NON-EU COUNTRY  13166.0  \n",
      "18                MIXED  YES, TO NON-EU COUNTRY  17381.0  \n",
      "19     MOSTLY SATISFIED                      NO  25856.0  \n"
     ]
    }
   ],
   "source": [
    "# 6) 결과\n",
    "synthetic_df = synthetic_loader.dataframe()\n",
    "print(synthetic_df.head(20))"
   ]
  },
  {
   "cell_type": "code",
   "execution_count": null,
   "metadata": {},
   "outputs": [],
   "source": []
  },
  {
   "cell_type": "code",
   "execution_count": null,
   "metadata": {},
   "outputs": [],
   "source": []
  },
  {
   "cell_type": "code",
   "execution_count": null,
   "metadata": {},
   "outputs": [],
   "source": []
  },
  {
   "cell_type": "code",
   "execution_count": null,
   "metadata": {},
   "outputs": [],
   "source": []
  },
  {
   "cell_type": "code",
   "execution_count": null,
   "metadata": {},
   "outputs": [],
   "source": []
  },
  {
   "cell_type": "code",
   "execution_count": null,
   "metadata": {},
   "outputs": [],
   "source": []
  },
  {
   "cell_type": "code",
   "execution_count": null,
   "metadata": {},
   "outputs": [],
   "source": []
  },
  {
   "cell_type": "code",
   "execution_count": 11,
   "metadata": {},
   "outputs": [
    {
     "ename": "KeyError",
     "evalue": "'converted_type'",
     "output_type": "error",
     "traceback": [
      "\u001b[1;31m---------------------------------------------------------------------------\u001b[0m",
      "\u001b[1;31mKeyError\u001b[0m                                  Traceback (most recent call last)",
      "Cell \u001b[1;32mIn[11], line 3\u001b[0m\n\u001b[0;32m      1\u001b[0m \u001b[38;5;28;01mfrom\u001b[39;00m \u001b[38;5;21;01msynthcity\u001b[39;00m\u001b[38;5;21;01m.\u001b[39;00m\u001b[38;5;21;01mmetrics\u001b[39;00m\u001b[38;5;21;01m.\u001b[39;00m\u001b[38;5;21;01meval\u001b[39;00m \u001b[38;5;28;01mimport\u001b[39;00m Metrics\n\u001b[0;32m      2\u001b[0m metrics \u001b[38;5;241m=\u001b[39m Metrics()\n\u001b[1;32m----> 3\u001b[0m result \u001b[38;5;241m=\u001b[39m \u001b[43mmetrics\u001b[49m\u001b[38;5;241;43m.\u001b[39;49m\u001b[43mevaluate\u001b[49m\u001b[43m(\u001b[49m\n\u001b[0;32m      4\u001b[0m \u001b[43m    \u001b[49m\u001b[43mX_gt\u001b[49m\u001b[43m \u001b[49m\u001b[38;5;241;43m=\u001b[39;49m\u001b[43m \u001b[49m\u001b[43mloader\u001b[49m\u001b[43m,\u001b[49m\n\u001b[0;32m      5\u001b[0m \u001b[43m    \u001b[49m\u001b[43mX_syn\u001b[49m\u001b[43m \u001b[49m\u001b[38;5;241;43m=\u001b[39;49m\u001b[43m \u001b[49m\u001b[43msynthetic_loader\u001b[49m\n\u001b[0;32m      6\u001b[0m \u001b[43m)\u001b[49m\n",
      "File \u001b[1;32mc:\\Users\\hsrhe\\anaconda3\\envs\\syn_seq\\lib\\site-packages\\pydantic\\deprecated\\decorator.py:55\u001b[0m, in \u001b[0;36mvalidate_arguments.<locals>.validate.<locals>.wrapper_function\u001b[1;34m(*args, **kwargs)\u001b[0m\n\u001b[0;32m     53\u001b[0m \u001b[38;5;129m@wraps\u001b[39m(_func)\n\u001b[0;32m     54\u001b[0m \u001b[38;5;28;01mdef\u001b[39;00m \u001b[38;5;21mwrapper_function\u001b[39m(\u001b[38;5;241m*\u001b[39margs: Any, \u001b[38;5;241m*\u001b[39m\u001b[38;5;241m*\u001b[39mkwargs: Any) \u001b[38;5;241m-\u001b[39m\u001b[38;5;241m>\u001b[39m Any:\n\u001b[1;32m---> 55\u001b[0m     \u001b[38;5;28;01mreturn\u001b[39;00m vd\u001b[38;5;241m.\u001b[39mcall(\u001b[38;5;241m*\u001b[39margs, \u001b[38;5;241m*\u001b[39m\u001b[38;5;241m*\u001b[39mkwargs)\n",
      "File \u001b[1;32mc:\\Users\\hsrhe\\anaconda3\\envs\\syn_seq\\lib\\site-packages\\pydantic\\deprecated\\decorator.py:150\u001b[0m, in \u001b[0;36mValidatedFunction.call\u001b[1;34m(self, *args, **kwargs)\u001b[0m\n\u001b[0;32m    148\u001b[0m \u001b[38;5;28;01mdef\u001b[39;00m \u001b[38;5;21mcall\u001b[39m(\u001b[38;5;28mself\u001b[39m, \u001b[38;5;241m*\u001b[39margs: Any, \u001b[38;5;241m*\u001b[39m\u001b[38;5;241m*\u001b[39mkwargs: Any) \u001b[38;5;241m-\u001b[39m\u001b[38;5;241m>\u001b[39m Any:\n\u001b[0;32m    149\u001b[0m     m \u001b[38;5;241m=\u001b[39m \u001b[38;5;28mself\u001b[39m\u001b[38;5;241m.\u001b[39minit_model_instance(\u001b[38;5;241m*\u001b[39margs, \u001b[38;5;241m*\u001b[39m\u001b[38;5;241m*\u001b[39mkwargs)\n\u001b[1;32m--> 150\u001b[0m     \u001b[38;5;28;01mreturn\u001b[39;00m \u001b[38;5;28;43mself\u001b[39;49m\u001b[38;5;241;43m.\u001b[39;49m\u001b[43mexecute\u001b[49m\u001b[43m(\u001b[49m\u001b[43mm\u001b[49m\u001b[43m)\u001b[49m\n",
      "File \u001b[1;32mc:\\Users\\hsrhe\\anaconda3\\envs\\syn_seq\\lib\\site-packages\\pydantic\\deprecated\\decorator.py:226\u001b[0m, in \u001b[0;36mValidatedFunction.execute\u001b[1;34m(self, m)\u001b[0m\n\u001b[0;32m    224\u001b[0m     \u001b[38;5;28;01mreturn\u001b[39;00m \u001b[38;5;28mself\u001b[39m\u001b[38;5;241m.\u001b[39mraw_function(\u001b[38;5;241m*\u001b[39margs_, \u001b[38;5;241m*\u001b[39m\u001b[38;5;241m*\u001b[39mkwargs, \u001b[38;5;241m*\u001b[39m\u001b[38;5;241m*\u001b[39mvar_kwargs)\n\u001b[0;32m    225\u001b[0m \u001b[38;5;28;01melse\u001b[39;00m:\n\u001b[1;32m--> 226\u001b[0m     \u001b[38;5;28;01mreturn\u001b[39;00m \u001b[38;5;28mself\u001b[39m\u001b[38;5;241m.\u001b[39mraw_function(\u001b[38;5;241m*\u001b[39m\u001b[38;5;241m*\u001b[39md, \u001b[38;5;241m*\u001b[39m\u001b[38;5;241m*\u001b[39mvar_kwargs)\n",
      "File \u001b[1;32m~\\Desktop\\synthcity\\src\\synthcity\\metrics\\eval.py:212\u001b[0m, in \u001b[0;36mMetrics.evaluate\u001b[1;34m(X_gt, X_syn, X_train, X_ref_syn, X_augmented, reduction, n_histogram_bins, metrics, task_type, random_state, workspace, use_cache, n_folds)\u001b[0m\n\u001b[0;32m    210\u001b[0m X_syn_df \u001b[38;5;241m=\u001b[39m X_syn\u001b[38;5;241m.\u001b[39mdataframe()\n\u001b[0;32m    211\u001b[0m X_enc \u001b[38;5;241m=\u001b[39m create_from_info(pd\u001b[38;5;241m.\u001b[39mconcat([X_gt_df, X_syn_df]), X_gt\u001b[38;5;241m.\u001b[39minfo())\n\u001b[1;32m--> 212\u001b[0m _, encoders \u001b[38;5;241m=\u001b[39m \u001b[43mX_enc\u001b[49m\u001b[38;5;241;43m.\u001b[39;49m\u001b[43mencode\u001b[49m\u001b[43m(\u001b[49m\u001b[43m)\u001b[49m\n\u001b[0;32m    214\u001b[0m \u001b[38;5;66;03m# now we encode the data\u001b[39;00m\n\u001b[0;32m    215\u001b[0m X_gt, _ \u001b[38;5;241m=\u001b[39m X_gt\u001b[38;5;241m.\u001b[39mencode(encoders)\n",
      "File \u001b[1;32m~\\Desktop\\synthcity\\src\\synthcity\\plugins\\core\\dataloader.py:2028\u001b[0m, in \u001b[0;36mSyn_SeqDataLoader.encode\u001b[1;34m(self)\u001b[0m\n\u001b[0;32m   2023\u001b[0m \u001b[38;5;28;01mdef\u001b[39;00m \u001b[38;5;21mencode\u001b[39m(\u001b[38;5;28mself\u001b[39m) \u001b[38;5;241m-\u001b[39m\u001b[38;5;241m>\u001b[39m (\u001b[38;5;124m\"\u001b[39m\u001b[38;5;124mSyn_SeqDataLoader\u001b[39m\u001b[38;5;124m\"\u001b[39m, \u001b[38;5;28mdict\u001b[39m):\n\u001b[0;32m   2024\u001b[0m \u001b[38;5;250m    \u001b[39m\u001b[38;5;124;03m\"\"\"\u001b[39;00m\n\u001b[0;32m   2025\u001b[0m \u001b[38;5;124;03m    Calls self._encoder.transform(...) => modifies self.data in place\u001b[39;00m\n\u001b[0;32m   2026\u001b[0m \u001b[38;5;124;03m    Returns (self, self.info())\u001b[39;00m\n\u001b[0;32m   2027\u001b[0m \u001b[38;5;124;03m    \"\"\"\u001b[39;00m\n\u001b[1;32m-> 2028\u001b[0m     transformed \u001b[38;5;241m=\u001b[39m \u001b[38;5;28;43mself\u001b[39;49m\u001b[38;5;241;43m.\u001b[39;49m\u001b[43m_encoder\u001b[49m\u001b[38;5;241;43m.\u001b[39;49m\u001b[43mtransform\u001b[49m\u001b[43m(\u001b[49m\u001b[38;5;28;43mself\u001b[39;49m\u001b[38;5;241;43m.\u001b[39;49m\u001b[43mdata\u001b[49m\u001b[43m)\u001b[49m\n\u001b[0;32m   2030\u001b[0m     \u001b[38;5;66;03m# 2) Build a new loader object that holds the transformed DataFrame\u001b[39;00m\n\u001b[0;32m   2031\u001b[0m     new_loader \u001b[38;5;241m=\u001b[39m Syn_SeqDataLoader(\n\u001b[0;32m   2032\u001b[0m         data\u001b[38;5;241m=\u001b[39mtransformed,\n\u001b[0;32m   2033\u001b[0m         user_custom\u001b[38;5;241m=\u001b[39m\u001b[38;5;28mself\u001b[39m\u001b[38;5;241m.\u001b[39muser_custom,\n\u001b[1;32m   (...)\u001b[0m\n\u001b[0;32m   2039\u001b[0m         verbose\u001b[38;5;241m=\u001b[39m\u001b[38;5;28;01mFalse\u001b[39;00m\n\u001b[0;32m   2040\u001b[0m     )\n",
      "File \u001b[1;32mc:\\Users\\hsrhe\\anaconda3\\envs\\syn_seq\\lib\\site-packages\\sklearn\\utils\\_set_output.py:319\u001b[0m, in \u001b[0;36m_wrap_method_output.<locals>.wrapped\u001b[1;34m(self, X, *args, **kwargs)\u001b[0m\n\u001b[0;32m    317\u001b[0m \u001b[38;5;129m@wraps\u001b[39m(f)\n\u001b[0;32m    318\u001b[0m \u001b[38;5;28;01mdef\u001b[39;00m \u001b[38;5;21mwrapped\u001b[39m(\u001b[38;5;28mself\u001b[39m, X, \u001b[38;5;241m*\u001b[39margs, \u001b[38;5;241m*\u001b[39m\u001b[38;5;241m*\u001b[39mkwargs):\n\u001b[1;32m--> 319\u001b[0m     data_to_wrap \u001b[38;5;241m=\u001b[39m f(\u001b[38;5;28mself\u001b[39m, X, \u001b[38;5;241m*\u001b[39margs, \u001b[38;5;241m*\u001b[39m\u001b[38;5;241m*\u001b[39mkwargs)\n\u001b[0;32m    320\u001b[0m     \u001b[38;5;28;01mif\u001b[39;00m \u001b[38;5;28misinstance\u001b[39m(data_to_wrap, \u001b[38;5;28mtuple\u001b[39m):\n\u001b[0;32m    321\u001b[0m         \u001b[38;5;66;03m# only wrap the first output for cross decomposition\u001b[39;00m\n\u001b[0;32m    322\u001b[0m         return_tuple \u001b[38;5;241m=\u001b[39m (\n\u001b[0;32m    323\u001b[0m             _wrap_data_with_container(method, data_to_wrap[\u001b[38;5;241m0\u001b[39m], X, \u001b[38;5;28mself\u001b[39m),\n\u001b[0;32m    324\u001b[0m             \u001b[38;5;241m*\u001b[39mdata_to_wrap[\u001b[38;5;241m1\u001b[39m:],\n\u001b[0;32m    325\u001b[0m         )\n",
      "File \u001b[1;32m~\\Desktop\\synthcity\\src\\synthcity\\plugins\\core\\models\\syn_seq\\syn_seq_encoder.py:80\u001b[0m, in \u001b[0;36mSyn_SeqEncoder.transform\u001b[1;34m(self, X)\u001b[0m\n\u001b[0;32m     78\u001b[0m X \u001b[38;5;241m=\u001b[39m \u001b[38;5;28mself\u001b[39m\u001b[38;5;241m.\u001b[39m_reorder_columns(X)\n\u001b[0;32m     79\u001b[0m X \u001b[38;5;241m=\u001b[39m \u001b[38;5;28mself\u001b[39m\u001b[38;5;241m.\u001b[39m_convert_date_to_offset(X)\n\u001b[1;32m---> 80\u001b[0m X \u001b[38;5;241m=\u001b[39m \u001b[38;5;28;43mself\u001b[39;49m\u001b[38;5;241;43m.\u001b[39;49m\u001b[43m_split_numeric_cols_in_front\u001b[49m\u001b[43m(\u001b[49m\u001b[43mX\u001b[49m\u001b[43m)\u001b[49m  \u001b[38;5;66;03m# special_value에 맞춰 _cat 생성\u001b[39;00m\n\u001b[0;32m     81\u001b[0m X \u001b[38;5;241m=\u001b[39m \u001b[38;5;28mself\u001b[39m\u001b[38;5;241m.\u001b[39m_apply_converted_dtype(X)\n\u001b[0;32m     82\u001b[0m \u001b[38;5;28mself\u001b[39m\u001b[38;5;241m.\u001b[39m_update_varsel_dict_after_split(X)\n",
      "File \u001b[1;32m~\\Desktop\\synthcity\\src\\synthcity\\plugins\\core\\models\\syn_seq\\syn_seq_encoder.py:248\u001b[0m, in \u001b[0;36mSyn_SeqEncoder._split_numeric_cols_in_front\u001b[1;34m(self, X)\u001b[0m\n\u001b[0;32m    246\u001b[0m     \u001b[38;5;28;01mcontinue\u001b[39;00m\n\u001b[0;32m    247\u001b[0m info \u001b[38;5;241m=\u001b[39m \u001b[38;5;28mself\u001b[39m\u001b[38;5;241m.\u001b[39mcol_map\u001b[38;5;241m.\u001b[39mget(col, {})\n\u001b[1;32m--> 248\u001b[0m \u001b[38;5;28;01mif\u001b[39;00m \u001b[43minfo\u001b[49m\u001b[43m[\u001b[49m\u001b[38;5;124;43m\"\u001b[39;49m\u001b[38;5;124;43mconverted_type\u001b[39;49m\u001b[38;5;124;43m\"\u001b[39;49m\u001b[43m]\u001b[49m \u001b[38;5;241m!=\u001b[39m \u001b[38;5;124m\"\u001b[39m\u001b[38;5;124mnumeric\u001b[39m\u001b[38;5;124m\"\u001b[39m:\n\u001b[0;32m    249\u001b[0m     \u001b[38;5;28;01mcontinue\u001b[39;00m\n\u001b[0;32m    250\u001b[0m specials \u001b[38;5;241m=\u001b[39m \u001b[38;5;28mself\u001b[39m\u001b[38;5;241m.\u001b[39mspecial_value\u001b[38;5;241m.\u001b[39mget(col, [])\n",
      "\u001b[1;31mKeyError\u001b[0m: 'converted_type'"
     ]
    }
   ],
   "source": [
    "from synthcity.metrics.eval import Metrics\n",
    "metrics = Metrics()\n",
    "result = metrics.evaluate(\n",
    "    X_gt = loader,\n",
    "    X_syn = synthetic_loader\n",
    ")"
   ]
  },
  {
   "cell_type": "code",
   "execution_count": 17,
   "metadata": {},
   "outputs": [],
   "source": [
    "# user_rules = {\n",
    "#   \"smoke\":[\n",
    "#     (\"nociga\", \"=\", -8),\n",
    "#     (\"smoke\", \"=\", \"NO\")\n",
    "    \n",
    "#   ]\n",
    "# }"
   ]
  },
  {
   "cell_type": "code",
   "execution_count": 81,
   "metadata": {},
   "outputs": [],
   "source": [
    "# #test\n",
    "# encoded_loader, enc_dict = loader.encode()\n",
    "# encoded_df = encoded_loader.dataframe()\n",
    "# print(encoded_df.dtypes)\n",
    "#     # print(encoded_df)\n",
    "# print(encoded_df)\n",
    "# print(enc_dict['syn_order'])\n",
    "# print(enc_dict['converted_type'])"
   ]
  },
  {
   "cell_type": "code",
   "execution_count": 82,
   "metadata": {},
   "outputs": [],
   "source": [
    "# #test\n",
    "# # 2) 디코딩\n",
    "# decoded_loader = encoded_loader.decode()\n",
    "# decoded_df = decoded_loader.dataframe()\n",
    "\n",
    "# print(\"\\n=== Decoded DataFrame ===\")\n",
    "# print(decoded_df.head())\n",
    "# print(decoded_df.dtypes)"
   ]
  },
  {
   "cell_type": "code",
   "execution_count": 37,
   "metadata": {},
   "outputs": [],
   "source": [
    "# # third party\n",
    "# import matplotlib.pyplot as plt\n",
    "\n",
    "# syn_model.plot(plt, loader)\n",
    "\n",
    "# plt.show()"
   ]
  },
  {
   "cell_type": "code",
   "execution_count": null,
   "metadata": {},
   "outputs": [],
   "source": []
  },
  {
   "cell_type": "code",
   "execution_count": null,
   "metadata": {},
   "outputs": [],
   "source": [
    "#test\n",
    "for col in synthetic_df.columns:\n",
    "    value_ratios = synthetic_df[col].value_counts(normalize=True)\n",
    "    high_ratios = value_ratios[value_ratios >= 0.7]\n",
    "    print(f\"컬럼 '{col}'에서 비율이 0.8 이상인 값:\")\n",
    "    print(high_ratios, \"\\n\")"
   ]
  },
  {
   "cell_type": "code",
   "execution_count": null,
   "metadata": {},
   "outputs": [],
   "source": [
    "# 각 컬럼의 고유값과 빈도수 확인\n",
    "for col in ods.columns:\n",
    "    print(f\"컬럼 '{col}'의 고유값 빈도수:\")\n",
    "    print(ods[col].value_counts(), \"\\n\")"
   ]
  },
  {
   "cell_type": "code",
   "execution_count": null,
   "metadata": {},
   "outputs": [],
   "source": [
    "# 각 컬럼의 고유값과 빈도수 확인\n",
    "for col in synthetic_df.columns:\n",
    "    print(f\"컬럼 '{col}'의 고유값 빈도수:\")\n",
    "    print(synthetic_df[col].value_counts(), \"\\n\")"
   ]
  },
  {
   "cell_type": "code",
   "execution_count": null,
   "metadata": {},
   "outputs": [],
   "source": [
    "# 6) 결과\n",
    "orginal_df = loader.dataframe()\n",
    "synthetic_df = synthetic_loader.dataframe()\n",
    "print(orginal_df.head())\n",
    "print(synthetic_df.head())"
   ]
  },
  {
   "cell_type": "markdown",
   "metadata": {},
   "source": [
    "## Benchmarking metrics\n",
    "\n",
    "| **Metric**                                         | **Description**                                                                                                            |\n",
    "|----------------------------------------------------|----------------------------------------------------------------------------------------------------------------------------|\n",
    "| sanity.data\\_mismatch.score                        | Data types mismatch between the real//synthetic features                                                                   |\n",
    "| sanity.common\\_rows\\_proportion.score              | Real data copy-paste in the synthetic data                                                                                 |\n",
    "| sanity.nearest\\_syn\\_neighbor\\_distance.mean       | Computes the \\textless{}reduction\\textgreater{}(distance) from the real data to the closest neighbor in the synthetic data |\n",
    "| sanity.close\\_values\\_probability.score            | the probability of close values between the real and synthetic data.                                                       |\n",
    "| sanity.distant\\_values\\_probability.score          | the probability of distant values between the real and synthetic data.                                                     |\n",
    "| stats.jensenshannon\\_dist.marginal                 | the average Jensen-Shannon distance                                                                                        |\n",
    "| stats.chi\\_squared\\_test.marginal                  | the one-way chi-square test.                                                                                               |\n",
    "| stats.feature\\_corr.joint                          | the correlation/strength-of-association of features in data-set with both categorical and continuous features              |\n",
    "| stats.inv\\_kl\\_divergence.marginal                 | the average inverse of the Kullback–Leibler Divergence metric.                                                             |\n",
    "| stats.ks\\_test.marginal                            | the Kolmogorov-Smirnov test for goodness of fit.                                                                           |\n",
    "| stats.max\\_mean\\_discrepancy.joint                 | Empirical maximum mean discrepancy. The lower the result the more evidence that distributions are the same.                |\n",
    "| stats.prdc.precision                               | precision between the two manifolds                                                                                        |\n",
    "| stats.prdc.recall                                  | recall between the two manifolds                                                                                           |\n",
    "| stats.prdc.density                                 | density between the two manifolds                                                                                          |\n",
    "| stats.prdc.coverage                                | coverage between the two manifolds                                                                                         |\n",
    "| stats.alpha\\_precision.delta\\_precision\\_alpha\\_OC | Delta precision                                                                                                            |\n",
    "| stats.alpha\\_precision.delta\\_coverage\\_beta\\_OC   | Delta coverage                                                                                                             |\n",
    "| stats.alpha\\_precision.authenticity\\_OC            | Authetnticity                                                                                                              |\n",
    "| stats.survival\\_km\\_distance.optimism              | Kaplan-Meier distance between real-synthetic data                                                                          |\n",
    "| stats.survival\\_km\\_distance.abs\\_optimism         | Kaplan-Meier metrics absolute distance between real-syn data                                                               |\n",
    "| stats.survival\\_km\\_distance.sightedness           | Kaplan-Meier metrics distance on the temporal axis                                                                         |\n",
    "| performance.linear\\_model.gt.c\\_index              | Train on real, test on the test real data using CoxPH: C-Index                                                             |\n",
    "| performance.linear\\_model.gt.brier\\_score          | Train on real, test on the test real data using CoxPH: Brier score                                                         |\n",
    "| performance.linear\\_model.syn\\_id.c\\_index         | Train on synthetic, test on the train real data using CoxPH: C-Index                                                       |\n",
    "| performance.linear\\_model.syn\\_id.brier\\_score     | Train on synthetic, test on the train real data using CoxPH: Brier score                                                   |\n",
    "| performance.linear\\_model.syn\\_ood.c\\_index        | Train on synthetic, test on the test real data using CoxPH: C-Index                                                        |\n",
    "| performance.linear\\_model.syn\\_ood.brier\\_score    | Train on synthetic, test on the test real data using CoxPH: Brier score                                                    |\n",
    "| performance.mlp.gt.c\\_index                        | Train on real, test on the test real data using NN: C-Index                                                                |\n",
    "| performance.mlp.gt.brier\\_score                    | Train on real, test on the test real data using NN : Brier score                                                           |\n",
    "| performance.mlp.syn\\_id.c\\_index                   | Train on synthetic, test on the train real data using NN: C-Index                                                          |\n",
    "| performance.mlp.syn\\_id.brier\\_score               | Train on synthetic, test on the train real data using NN: Brier score                                                      |\n",
    "| performance.mlp.syn\\_ood.c\\_index                  | Train on synthetic, test on the test real data using NN: C-Index                                                           |\n",
    "| performance.mlp.syn\\_ood.brier\\_score              | Train on synthetic, test on the test real data using NN: Brier score                                                       |\n",
    "| performance.xgb.gt.c\\_index                        | Train on real, test on the test real data using XGB: C-Index                                                               |\n",
    "| performance.xgb.gt.brier\\_score                    | Train on real, test on the test real data using XGB : Brier score                                                          |\n",
    "| performance.xgb.syn\\_id.c\\_index                   | Train on synthetic, test on the train real data using XGB: C-Index                                                         |\n",
    "| performance.xgb.syn\\_id.brier\\_score               | Train on synthetic, test on the train real data using XGB: Brier score                                                     |\n",
    "| performance.xgb.syn\\_ood.c\\_index                  | Train on synthetic, test on the test real data using XGB: C-Index                                                          |\n",
    "| performance.xgb.syn\\_ood.brier\\_score              | Train on synthetic, test on the test real data using XGB: Brier score                                                      |\n",
    "| performance.feat\\_rank\\_distance.corr              | Correlation for the rank distances between the feature importance on real and synthetic data                               |\n",
    "| performance.feat\\_rank\\_distance.pvalue            | p-vale for the rank distances between the feature importance on real and synthetic data                                    |\n",
    "| detection.detection\\_xgb.mean                      | The average AUCROC score for detecting synthetic data using an XGBoost.                                                    |\n",
    "| detection.detection\\_mlp.mean                      | The average AUCROC score for detecting synthetic data using a NN.                                                          |\n",
    "| detection.detection\\_gmm.mean                      | The average AUCROC score for detecting synthetic data using a GMM.                                                         |\n",
    "| privacy.delta-presence.score                       | the maximum re-identification probability on the real dataset from the synthetic dataset.                                  |\n",
    "| privacy.k-anonymization.gt                         | the k-anon for the real data                                                                                               |\n",
    "| privacy.k-anonymization.syn                        | the k-anon for the synthetic data                                                                                          |\n",
    "| privacy.k-map.score                                | the minimum value k that satisfies the k-map rule.                                                                         |\n",
    "| privacy.distinct l-diversity.gt                    | the l-diversity for the real data                                                                                          |\n",
    "| privacy.distinct l-diversity.syn                   | the l-diversity for the synthetic data                                                                                     |\n",
    "| privacy.identifiability\\_score.score               | the re-identification score on the real dataset from the synthetic dataset.                                                |"
   ]
  },
  {
   "cell_type": "markdown",
   "metadata": {},
   "source": [
    "## Benchmark the quality of plugins\n",
    "\n",
    "For survival analysis, general purpose generators can be used as well."
   ]
  },
  {
   "cell_type": "code",
   "execution_count": null,
   "metadata": {},
   "outputs": [],
   "source": [
    "loader"
   ]
  },
  {
   "cell_type": "code",
   "execution_count": null,
   "metadata": {},
   "outputs": [],
   "source": [
    "# synthcity absolute\n",
    "from synthcity.benchmark import Benchmarks\n",
    "\n",
    "score = Benchmarks.evaluate(\n",
    "    [(f\"test_{model}\", model, {}) for model in [\"syn_seq\"]],\n",
    "    loader,\n",
    "    synthetic_size=1000,\n",
    "    repeats=2,\n",
    ")"
   ]
  },
  {
   "cell_type": "markdown",
   "metadata": {},
   "source": [
    "## Congratulations!\n",
    "\n",
    "Congratulations on completing this notebook tutorial! If you enjoyed this and would like to join the movement towards Machine learning and AI for medicine, you can do so in the following ways!\n",
    "\n",
    "### Star [Synthcity](https://github.com/vanderschaarlab/synthcity) on GitHub\n",
    "\n",
    "- The easiest way to help our community is just by starring the Repos! This helps raise awareness of the tools we're building.\n",
    "\n",
    "\n",
    "### Checkout other projects from vanderschaarlab\n",
    "- [HyperImpute](https://github.com/vanderschaarlab/hyperimpute)\n",
    "- [AutoPrognosis](https://github.com/vanderschaarlab/autoprognosis)\n"
   ]
  },
  {
   "cell_type": "code",
   "execution_count": null,
   "metadata": {},
   "outputs": [],
   "source": []
  }
 ],
 "metadata": {
  "kernelspec": {
   "display_name": "syn_seq",
   "language": "python",
   "name": "python3"
  },
  "language_info": {
   "codemirror_mode": {
    "name": "ipython",
    "version": 3
   },
   "file_extension": ".py",
   "mimetype": "text/x-python",
   "name": "python",
   "nbconvert_exporter": "python",
   "pygments_lexer": "ipython3",
   "version": "3.9.21"
  }
 },
 "nbformat": 4,
 "nbformat_minor": 2
}
