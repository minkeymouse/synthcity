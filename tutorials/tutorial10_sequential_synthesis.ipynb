{
 "cells": [
  {
   "cell_type": "markdown",
   "metadata": {
    "vscode": {
     "languageId": "plaintext"
    }
   },
   "source": [
    "# Tutorial 10: Sequential Synthesis\n",
    "In this tutorial, we explore the **Sequential Synthesis** approach using\n",
    "the `syn_seq` plugin in `synthcity`. Sequential synthesis allows us to\n",
    "model variables one-by-one (column-by-column), using conditional relationships\n",
    "learned from the real data. The main idea is:\n",
    "1. Synthesize the first variable (often with sample-without-replacement, \"SWR\"),\n",
    "2. Then synthesize the second variable conditioned on the first,\n",
    "3. And so on for each subsequent variable.\n",
    "This approach can better preserve complex dependencies among columns than\n",
    "simple marginal or naive methods.\n",
    "We'll demonstrate this using the **diabetes** dataset, just like other tutorials,\n",
    "and compare the resulting synthetic data.\n"
   ]
  },
  {
   "cell_type": "code",
   "execution_count": 12,
   "metadata": {},
   "outputs": [
    {
     "name": "stdout",
     "output_type": "stream",
     "text": [
      "/Users/minkeychang/synthcity/src/synthcity/__init__.py\n"
     ]
    }
   ],
   "source": [
    "!pip install synthcity"
   ]
  },
  {
   "cell_type": "code",
   "execution_count": 1,
   "metadata": {},
   "outputs": [
    {
     "name": "stdout",
     "output_type": "stream",
     "text": [
      "[KeOps] Warning : omp.h header is not in the path, disabling OpenMP. To fix this, you can set the environment\n",
      "                  variable OMP_PATH to the location of the header before importing keopscore or pykeops,\n",
      "                  e.g. using os.environ: import os; os.environ['OMP_PATH'] = '/path/to/omp/header'\n",
      "[KeOps] Warning : Cuda libraries were not detected on the system or could not be loaded ; using cpu only mode\n"
     ]
    }
   ],
   "source": [
    "\n",
    "import sys\n",
    "import warnings\n",
    "\n",
    "warnings.filterwarnings(\"ignore\")\n",
    "\n",
    "from sklearn.datasets import load_diabetes\n",
    "\n",
    "# synthcity absolute\n",
    "import synthcity.logger as log\n",
    "from synthcity.plugins import Plugins\n",
    "\n",
    "log.add(sink=sys.stderr, level=\"INFO\")\n"
   ]
  },
  {
   "cell_type": "markdown",
   "metadata": {},
   "source": [
    "## 1) Load the data\n",
    "We will use the diabetes dataset for simplicity.\n"
   ]
  },
  {
   "cell_type": "code",
   "execution_count": 2,
   "metadata": {},
   "outputs": [
    {
     "data": {
      "text/html": [
       "<div>\n",
       "<style scoped>\n",
       "    .dataframe tbody tr th:only-of-type {\n",
       "        vertical-align: middle;\n",
       "    }\n",
       "\n",
       "    .dataframe tbody tr th {\n",
       "        vertical-align: top;\n",
       "    }\n",
       "\n",
       "    .dataframe thead th {\n",
       "        text-align: right;\n",
       "    }\n",
       "</style>\n",
       "<table border=\"1\" class=\"dataframe\">\n",
       "  <thead>\n",
       "    <tr style=\"text-align: right;\">\n",
       "      <th></th>\n",
       "      <th>age</th>\n",
       "      <th>sex</th>\n",
       "      <th>bmi</th>\n",
       "      <th>bp</th>\n",
       "      <th>s1</th>\n",
       "      <th>s2</th>\n",
       "      <th>s3</th>\n",
       "      <th>s4</th>\n",
       "      <th>s5</th>\n",
       "      <th>s6</th>\n",
       "      <th>target</th>\n",
       "    </tr>\n",
       "  </thead>\n",
       "  <tbody>\n",
       "    <tr>\n",
       "      <th>0</th>\n",
       "      <td>0.038076</td>\n",
       "      <td>0.050680</td>\n",
       "      <td>0.061696</td>\n",
       "      <td>0.021872</td>\n",
       "      <td>-0.044223</td>\n",
       "      <td>-0.034821</td>\n",
       "      <td>-0.043401</td>\n",
       "      <td>-0.002592</td>\n",
       "      <td>0.019907</td>\n",
       "      <td>-0.017646</td>\n",
       "      <td>151.0</td>\n",
       "    </tr>\n",
       "    <tr>\n",
       "      <th>1</th>\n",
       "      <td>-0.001882</td>\n",
       "      <td>-0.044642</td>\n",
       "      <td>-0.051474</td>\n",
       "      <td>-0.026328</td>\n",
       "      <td>-0.008449</td>\n",
       "      <td>-0.019163</td>\n",
       "      <td>0.074412</td>\n",
       "      <td>-0.039493</td>\n",
       "      <td>-0.068332</td>\n",
       "      <td>-0.092204</td>\n",
       "      <td>75.0</td>\n",
       "    </tr>\n",
       "    <tr>\n",
       "      <th>2</th>\n",
       "      <td>0.085299</td>\n",
       "      <td>0.050680</td>\n",
       "      <td>0.044451</td>\n",
       "      <td>-0.005670</td>\n",
       "      <td>-0.045599</td>\n",
       "      <td>-0.034194</td>\n",
       "      <td>-0.032356</td>\n",
       "      <td>-0.002592</td>\n",
       "      <td>0.002861</td>\n",
       "      <td>-0.025930</td>\n",
       "      <td>141.0</td>\n",
       "    </tr>\n",
       "    <tr>\n",
       "      <th>3</th>\n",
       "      <td>-0.089063</td>\n",
       "      <td>-0.044642</td>\n",
       "      <td>-0.011595</td>\n",
       "      <td>-0.036656</td>\n",
       "      <td>0.012191</td>\n",
       "      <td>0.024991</td>\n",
       "      <td>-0.036038</td>\n",
       "      <td>0.034309</td>\n",
       "      <td>0.022688</td>\n",
       "      <td>-0.009362</td>\n",
       "      <td>206.0</td>\n",
       "    </tr>\n",
       "    <tr>\n",
       "      <th>4</th>\n",
       "      <td>0.005383</td>\n",
       "      <td>-0.044642</td>\n",
       "      <td>-0.036385</td>\n",
       "      <td>0.021872</td>\n",
       "      <td>0.003935</td>\n",
       "      <td>0.015596</td>\n",
       "      <td>0.008142</td>\n",
       "      <td>-0.002592</td>\n",
       "      <td>-0.031988</td>\n",
       "      <td>-0.046641</td>\n",
       "      <td>135.0</td>\n",
       "    </tr>\n",
       "  </tbody>\n",
       "</table>\n",
       "</div>"
      ],
      "text/plain": [
       "        age       sex       bmi        bp        s1        s2        s3  \\\n",
       "0  0.038076  0.050680  0.061696  0.021872 -0.044223 -0.034821 -0.043401   \n",
       "1 -0.001882 -0.044642 -0.051474 -0.026328 -0.008449 -0.019163  0.074412   \n",
       "2  0.085299  0.050680  0.044451 -0.005670 -0.045599 -0.034194 -0.032356   \n",
       "3 -0.089063 -0.044642 -0.011595 -0.036656  0.012191  0.024991 -0.036038   \n",
       "4  0.005383 -0.044642 -0.036385  0.021872  0.003935  0.015596  0.008142   \n",
       "\n",
       "         s4        s5        s6  target  \n",
       "0 -0.002592  0.019907 -0.017646   151.0  \n",
       "1 -0.039493 -0.068332 -0.092204    75.0  \n",
       "2 -0.002592  0.002861 -0.025930   141.0  \n",
       "3  0.034309  0.022688 -0.009362   206.0  \n",
       "4 -0.002592 -0.031988 -0.046641   135.0  "
      ]
     },
     "execution_count": 2,
     "metadata": {},
     "output_type": "execute_result"
    }
   ],
   "source": [
    "\n",
    "X, y = load_diabetes(return_X_y=True, as_frame=True)\n",
    "X[\"target\"] = y\n",
    "\n",
    "X.head()\n"
   ]
  },
  {
   "cell_type": "markdown",
   "metadata": {},
   "source": [
    "\n",
    "## 2) Create a Syn_SeqDataLoader\n",
    "Instead of using a `GenericDataLoader`, we use our specialized\n",
    "`Syn_SeqDataLoader`. We'll define a `syn_order` — the sequence in which columns\n",
    "get synthesized. If not provided, it defaults to the data's columns order.\n"
   ]
  },
  {
   "cell_type": "code",
   "execution_count": 3,
   "metadata": {},
   "outputs": [
    {
     "name": "stdout",
     "output_type": "stream",
     "text": [
      "[INFO] Syn_SeqDataLoader init complete:\n",
      "  - syn_order: ['age', 'sex', 'bmi', 'bp', 's1', 's2', 's3', 's4', 's5', 's6', 'target']\n",
      "  - special_value (columns_special_values): {}\n",
      "  - col_type: {}\n",
      "  - data shape: (442, 11)\n",
      "[DEBUG] After encoder.fit(), detected info:\n",
      "  - encoder.column_order_: ['age', 'sex', 'bmi', 'bp', 's1', 's2', 's3', 's4', 's5', 's6', 'target']\n",
      "  - numeric_info_: {'age': {'dtype': dtype('float64')}, 'bmi': {'dtype': dtype('float64')}, 'bp': {'dtype': dtype('float64')}, 's1': {'dtype': dtype('float64')}, 's2': {'dtype': dtype('float64')}, 's3': {'dtype': dtype('float64')}, 's4': {'dtype': dtype('float64')}, 's5': {'dtype': dtype('float64')}, 's6': {'dtype': dtype('float64')}, 'target': {'dtype': dtype('float64')}}\n",
      "  - categorical_info_: {'sex': {'dtype': 'category'}}\n",
      "  - variable_selection_:\n",
      "         age  sex  bmi  bp  s1  s2  s3  s4  s5  s6  target\n",
      "age       0    0    0   0   0   0   0   0   0   0       0\n",
      "sex       1    0    0   0   0   0   0   0   0   0       0\n",
      "bmi       1    1    0   0   0   0   0   0   0   0       0\n",
      "bp        1    1    1   0   0   0   0   0   0   0       0\n",
      "s1        1    1    1   1   0   0   0   0   0   0       0\n",
      "s2        1    1    1   1   1   0   0   0   0   0       0\n",
      "s3        1    1    1   1   1   1   0   0   0   0       0\n",
      "s4        1    1    1   1   1   1   1   0   0   0       0\n",
      "s5        1    1    1   1   1   1   1   1   0   0       0\n",
      "s6        1    1    1   1   1   1   1   1   1   0       0\n",
      "target    1    1    1   1   1   1   1   1   1   1       0\n",
      "----------------------------------------------------------------\n"
     ]
    }
   ],
   "source": [
    "from synthcity.plugins.core.dataloader import Syn_SeqDataLoader\n",
    "\n",
    "syn_order = list(X.columns)\n",
    "\n",
    "loader = Syn_SeqDataLoader(\n",
    "    data=X,\n",
    "    syn_order=syn_order,\n",
    "    columns_special_values={},   # you can map columns -> special values if needed\n",
    "    max_categories=20,          # threshold for deciding numeric vs. categorical\n",
    "    random_state=0,\n",
    "    train_size=0.8,\n",
    ")\n"
   ]
  },
  {
   "cell_type": "markdown",
   "metadata": {},
   "source": [
    "\n",
    "The `Syn_SeqDataLoader` also prints out debug info, including the\n",
    "automatically-detected numeric vs categorical columns.\n",
    "\n",
    "## 3) List available plugins\n",
    "Recall from earlier tutorials that you can see all generative model plugins\n",
    "with `Plugins().list()`. We'll specifically focus on `\"syn_seq\"` here.\n",
    "\n"
   ]
  },
  {
   "cell_type": "code",
   "execution_count": 4,
   "metadata": {},
   "outputs": [
    {
     "name": "stderr",
     "output_type": "stream",
     "text": [
      "[2025-01-12T17:55:17.148444+0900][5034][CRITICAL] module disabled: /Users/minkeychang/synthcity/src/synthcity/plugins/generic/plugin_goggle.py\n",
      "[2025-01-12T17:55:17.148444+0900][5034][CRITICAL] module disabled: /Users/minkeychang/synthcity/src/synthcity/plugins/generic/plugin_goggle.py\n"
     ]
    },
    {
     "data": {
      "text/plain": [
       "['ctgan',\n",
       " 'aim',\n",
       " 'fflows',\n",
       " 'uniform_sampler',\n",
       " 'pategan',\n",
       " 'adsgan',\n",
       " 'privbayes',\n",
       " 'survae',\n",
       " 'radialgan',\n",
       " 'timevae',\n",
       " 'nflow',\n",
       " 'bayesian_network',\n",
       " 'great',\n",
       " 'survival_gan',\n",
       " 'arf',\n",
       " 'dpgan',\n",
       " 'marginal_distributions',\n",
       " 'decaf',\n",
       " 'image_cgan',\n",
       " 'survival_ctgan',\n",
       " 'syn_seq',\n",
       " 'timegan',\n",
       " 'rtvae',\n",
       " 'tvae',\n",
       " 'dummy_sampler',\n",
       " 'ddpm',\n",
       " 'survival_nflow',\n",
       " 'image_adsgan']"
      ]
     },
     "execution_count": 4,
     "metadata": {},
     "output_type": "execute_result"
    }
   ],
   "source": [
    "Plugins().list()"
   ]
  },
  {
   "cell_type": "markdown",
   "metadata": {},
   "source": [
    "You should see `\"syn_seq\"` in the returned list.\n",
    "\n",
    "## 4) Load and train the Sequential Synthesis Model\n",
    "The `syn_seq` plugin allows you to specify how each column is synthesized:\n",
    "- `\"SWR\"` = sample without replacement\n",
    "- `\"CART\"`, `\"rf\"`, `\"pmm\"`, `\"logreg\"`, etc. for the rest\n",
    "Typically, we do `\"SWR\"` for the first column, and `\"CART\"` or `\"rf\"` for subsequent columns.\n",
    "But you can choose any method for each column.\n"
   ]
  },
  {
   "cell_type": "code",
   "execution_count": 5,
   "metadata": {},
   "outputs": [
    {
     "name": "stderr",
     "output_type": "stream",
     "text": [
      "[2025-01-12T17:55:24.978486+0900][5034][CRITICAL] module disabled: /Users/minkeychang/synthcity/src/synthcity/plugins/generic/plugin_goggle.py\n"
     ]
    },
    {
     "name": "stdout",
     "output_type": "stream",
     "text": [
      "[INFO] Syn_SeqDataLoader init complete:\n",
      "  - syn_order: ['age', 'sex', 'bmi', 'bp', 's1', 's2', 's3', 's4', 's5', 's6', 'target']\n",
      "  - special_value (columns_special_values): {}\n",
      "  - col_type: {}\n",
      "  - data shape: (442, 11)\n",
      "[DEBUG] After encoder.fit(), detected info:\n",
      "  - encoder.column_order_: ['age', 'sex', 'bmi', 'bp', 's1', 's2', 's3', 's4', 's5', 's6', 'target']\n",
      "  - numeric_info_: {'age': {'dtype': dtype('float64')}, 'bmi': {'dtype': dtype('float64')}, 'bp': {'dtype': dtype('float64')}, 's1': {'dtype': dtype('float64')}, 's2': {'dtype': dtype('float64')}, 's3': {'dtype': dtype('float64')}, 's4': {'dtype': dtype('float64')}, 's5': {'dtype': dtype('float64')}, 's6': {'dtype': dtype('float64')}, 'target': {'dtype': dtype('float64')}}\n",
      "  - categorical_info_: {'sex': {'dtype': 'category'}}\n",
      "  - variable_selection_:\n",
      "         age  sex  bmi  bp  s1  s2  s3  s4  s5  s6  target\n",
      "age       0    0    0   0   0   0   0   0   0   0       0\n",
      "sex       1    0    0   0   0   0   0   0   0   0       0\n",
      "bmi       1    1    0   0   0   0   0   0   0   0       0\n",
      "bp        1    1    1   0   0   0   0   0   0   0       0\n",
      "s1        1    1    1   1   0   0   0   0   0   0       0\n",
      "s2        1    1    1   1   1   0   0   0   0   0       0\n",
      "s3        1    1    1   1   1   1   0   0   0   0       0\n",
      "s4        1    1    1   1   1   1   1   0   0   0       0\n",
      "s5        1    1    1   1   1   1   1   1   0   0       0\n",
      "s6        1    1    1   1   1   1   1   1   1   0       0\n",
      "target    1    1    1   1   1   1   1   1   1   1       0\n",
      "----------------------------------------------------------------\n",
      "[INFO] Starting fit: final method assignment:\n",
      "   - age => SWR\n",
      "   - sex => CART\n",
      "   - bmi => CART\n",
      "   - bp => CART\n",
      "   - s1 => CART\n",
      "   - s2 => CART\n",
      "   - s3 => CART\n",
      "   - s4 => CART\n",
      "   - s5 => CART\n",
      "   - s6 => CART\n",
      "   - target => CART\n",
      "[INFO] variable_selection matrix:\n",
      "         age  sex  bmi  bp  s1  s2  s3  s4  s5  s6  target\n",
      "age       0    0    0   0   0   0   0   0   0   0       0\n",
      "sex       1    0    0   0   0   0   0   0   0   0       0\n",
      "bmi       1    1    0   0   0   0   0   0   0   0       0\n",
      "bp        1    1    1   0   0   0   0   0   0   0       0\n",
      "s1        1    1    1   1   0   0   0   0   0   0       0\n",
      "s2        1    1    1   1   1   0   0   0   0   0       0\n",
      "s3        1    1    1   1   1   1   0   0   0   0       0\n",
      "s4        1    1    1   1   1   1   1   0   0   0       0\n",
      "s5        1    1    1   1   1   1   1   1   0   0       0\n",
      "s6        1    1    1   1   1   1   1   1   1   0       0\n",
      "target    1    1    1   1   1   1   1   1   1   1       0\n",
      "[INFO] Fitting column 'age' using method 'SWR'...\n",
      "[INFO] Fitting column 'sex' using method 'CART'...\n",
      "[INFO] Fitting column 'bmi' using method 'CART'...\n",
      "[INFO] Fitting column 'bp' using method 'CART'...\n",
      "[INFO] Fitting column 's1' using method 'CART'...\n",
      "[INFO] Fitting column 's2' using method 'CART'...\n",
      "[INFO] Fitting column 's3' using method 'CART'...\n",
      "[INFO] Fitting column 's4' using method 'CART'...\n",
      "[INFO] Fitting column 's5' using method 'CART'...\n",
      "[INFO] Fitting column 's6' using method 'CART'...\n",
      "[INFO] Fitting column 'target' using method 'CART'...\n"
     ]
    },
    {
     "data": {
      "text/plain": [
       "<synthcity.plugins.generic.plugin_syn_seq.Syn_SeqPlugin at 0x10643d250>"
      ]
     },
     "execution_count": 5,
     "metadata": {},
     "output_type": "execute_result"
    }
   ],
   "source": [
    "syn_model = Plugins().get(\"syn_seq\")\n",
    "\n",
    "# Let's create a 'method' list for our 11 columns: first= \"SWR\", rest= \"CART\"\n",
    "column_methods = [\"SWR\"] + [\"CART\"] * (len(syn_order) - 1)\n",
    "\n",
    "syn_model.fit(\n",
    "    loader,\n",
    "    method=column_methods,\n",
    "    # variable_selection=...  # optionally specify if you want custom variable dependencies\n",
    ")"
   ]
  },
  {
   "cell_type": "markdown",
   "metadata": {},
   "source": [
    "\n",
    "**Note**: During training, you'll see some printed info about which method\n",
    "is used for each column, plus the final variable selection matrix.\n",
    "\n",
    "## 5) Generate synthetic data\n",
    "By default, let's sample 200 synthetic rows.\n",
    "\n"
   ]
  },
  {
   "cell_type": "code",
   "execution_count": 6,
   "metadata": {},
   "outputs": [
    {
     "ename": "ValueError",
     "evalue": "Cannot create FloatDistribution for 'sex' without 'low' and 'high' values.",
     "output_type": "error",
     "traceback": [
      "\u001b[0;31m---------------------------------------------------------------------------\u001b[0m",
      "\u001b[0;31mValueError\u001b[0m                                Traceback (most recent call last)",
      "Cell \u001b[0;32mIn[6], line 1\u001b[0m\n\u001b[0;32m----> 1\u001b[0m \u001b[43msyn_model\u001b[49m\u001b[38;5;241;43m.\u001b[39;49m\u001b[43mgenerate\u001b[49m\u001b[43m(\u001b[49m\u001b[43mcount\u001b[49m\u001b[38;5;241;43m=\u001b[39;49m\u001b[38;5;241;43m10\u001b[39;49m\u001b[43m)\u001b[49m\u001b[38;5;241m.\u001b[39mdataframe()\n",
      "File \u001b[0;32m~/anaconda3/envs/syn_seq/lib/python3.9/site-packages/pydantic/deprecated/decorator.py:55\u001b[0m, in \u001b[0;36mvalidate_arguments.<locals>.validate.<locals>.wrapper_function\u001b[0;34m(*args, **kwargs)\u001b[0m\n\u001b[1;32m     53\u001b[0m \u001b[38;5;129m@wraps\u001b[39m(_func)\n\u001b[1;32m     54\u001b[0m \u001b[38;5;28;01mdef\u001b[39;00m \u001b[38;5;21mwrapper_function\u001b[39m(\u001b[38;5;241m*\u001b[39margs: Any, \u001b[38;5;241m*\u001b[39m\u001b[38;5;241m*\u001b[39mkwargs: Any) \u001b[38;5;241m-\u001b[39m\u001b[38;5;241m>\u001b[39m Any:\n\u001b[0;32m---> 55\u001b[0m     \u001b[38;5;28;01mreturn\u001b[39;00m \u001b[43mvd\u001b[49m\u001b[38;5;241;43m.\u001b[39;49m\u001b[43mcall\u001b[49m\u001b[43m(\u001b[49m\u001b[38;5;241;43m*\u001b[39;49m\u001b[43margs\u001b[49m\u001b[43m,\u001b[49m\u001b[43m \u001b[49m\u001b[38;5;241;43m*\u001b[39;49m\u001b[38;5;241;43m*\u001b[39;49m\u001b[43mkwargs\u001b[49m\u001b[43m)\u001b[49m\n",
      "File \u001b[0;32m~/anaconda3/envs/syn_seq/lib/python3.9/site-packages/pydantic/deprecated/decorator.py:150\u001b[0m, in \u001b[0;36mValidatedFunction.call\u001b[0;34m(self, *args, **kwargs)\u001b[0m\n\u001b[1;32m    148\u001b[0m \u001b[38;5;28;01mdef\u001b[39;00m \u001b[38;5;21mcall\u001b[39m(\u001b[38;5;28mself\u001b[39m, \u001b[38;5;241m*\u001b[39margs: Any, \u001b[38;5;241m*\u001b[39m\u001b[38;5;241m*\u001b[39mkwargs: Any) \u001b[38;5;241m-\u001b[39m\u001b[38;5;241m>\u001b[39m Any:\n\u001b[1;32m    149\u001b[0m     m \u001b[38;5;241m=\u001b[39m \u001b[38;5;28mself\u001b[39m\u001b[38;5;241m.\u001b[39minit_model_instance(\u001b[38;5;241m*\u001b[39margs, \u001b[38;5;241m*\u001b[39m\u001b[38;5;241m*\u001b[39mkwargs)\n\u001b[0;32m--> 150\u001b[0m     \u001b[38;5;28;01mreturn\u001b[39;00m \u001b[38;5;28;43mself\u001b[39;49m\u001b[38;5;241;43m.\u001b[39;49m\u001b[43mexecute\u001b[49m\u001b[43m(\u001b[49m\u001b[43mm\u001b[49m\u001b[43m)\u001b[49m\n",
      "File \u001b[0;32m~/anaconda3/envs/syn_seq/lib/python3.9/site-packages/pydantic/deprecated/decorator.py:226\u001b[0m, in \u001b[0;36mValidatedFunction.execute\u001b[0;34m(self, m)\u001b[0m\n\u001b[1;32m    224\u001b[0m     \u001b[38;5;28;01mreturn\u001b[39;00m \u001b[38;5;28mself\u001b[39m\u001b[38;5;241m.\u001b[39mraw_function(\u001b[38;5;241m*\u001b[39margs_, \u001b[38;5;241m*\u001b[39m\u001b[38;5;241m*\u001b[39mkwargs, \u001b[38;5;241m*\u001b[39m\u001b[38;5;241m*\u001b[39mvar_kwargs)\n\u001b[1;32m    225\u001b[0m \u001b[38;5;28;01melse\u001b[39;00m:\n\u001b[0;32m--> 226\u001b[0m     \u001b[38;5;28;01mreturn\u001b[39;00m \u001b[38;5;28;43mself\u001b[39;49m\u001b[38;5;241;43m.\u001b[39;49m\u001b[43mraw_function\u001b[49m\u001b[43m(\u001b[49m\u001b[38;5;241;43m*\u001b[39;49m\u001b[38;5;241;43m*\u001b[39;49m\u001b[43md\u001b[49m\u001b[43m,\u001b[49m\u001b[43m \u001b[49m\u001b[38;5;241;43m*\u001b[39;49m\u001b[38;5;241;43m*\u001b[39;49m\u001b[43mvar_kwargs\u001b[49m\u001b[43m)\u001b[49m\n",
      "File \u001b[0;32m~/synthcity/src/synthcity/plugins/core/plugin.py:347\u001b[0m, in \u001b[0;36mPlugin.generate\u001b[0;34m(self, count, constraints, random_state, **kwargs)\u001b[0m\n\u001b[1;32m    344\u001b[0m \u001b[38;5;28;01mif\u001b[39;00m constraints \u001b[38;5;129;01mis\u001b[39;00m \u001b[38;5;129;01mnot\u001b[39;00m \u001b[38;5;28;01mNone\u001b[39;00m:\n\u001b[1;32m    345\u001b[0m     gen_constraints \u001b[38;5;241m=\u001b[39m gen_constraints\u001b[38;5;241m.\u001b[39mextend(constraints)\n\u001b[0;32m--> 347\u001b[0m syn_schema \u001b[38;5;241m=\u001b[39m \u001b[43mSchema\u001b[49m\u001b[38;5;241;43m.\u001b[39;49m\u001b[43mfrom_constraints\u001b[49m\u001b[43m(\u001b[49m\u001b[43mgen_constraints\u001b[49m\u001b[43m)\u001b[49m\n\u001b[1;32m    349\u001b[0m X_syn \u001b[38;5;241m=\u001b[39m \u001b[38;5;28mself\u001b[39m\u001b[38;5;241m.\u001b[39m_generate(count\u001b[38;5;241m=\u001b[39mcount, syn_schema\u001b[38;5;241m=\u001b[39msyn_schema, \u001b[38;5;241m*\u001b[39m\u001b[38;5;241m*\u001b[39mkwargs)\n\u001b[1;32m    351\u001b[0m \u001b[38;5;28;01mif\u001b[39;00m X_syn\u001b[38;5;241m.\u001b[39mis_tabular():\n",
      "File \u001b[0;32m~/synthcity/src/synthcity/plugins/core/schema.py:213\u001b[0m, in \u001b[0;36mSchema.from_constraints\u001b[0;34m(cls, constraints)\u001b[0m\n\u001b[1;32m    211\u001b[0m \u001b[38;5;28;01mif\u001b[39;00m dtype \u001b[38;5;241m==\u001b[39m \u001b[38;5;124m\"\u001b[39m\u001b[38;5;124mfloat\u001b[39m\u001b[38;5;124m\"\u001b[39m:\n\u001b[1;32m    212\u001b[0m     \u001b[38;5;28;01mif\u001b[39;00m params[\u001b[38;5;124m\"\u001b[39m\u001b[38;5;124mlow\u001b[39m\u001b[38;5;124m\"\u001b[39m] \u001b[38;5;129;01mis\u001b[39;00m \u001b[38;5;28;01mNone\u001b[39;00m \u001b[38;5;129;01mor\u001b[39;00m params[\u001b[38;5;124m\"\u001b[39m\u001b[38;5;124mhigh\u001b[39m\u001b[38;5;124m\"\u001b[39m] \u001b[38;5;129;01mis\u001b[39;00m \u001b[38;5;28;01mNone\u001b[39;00m:\n\u001b[0;32m--> 213\u001b[0m         \u001b[38;5;28;01mraise\u001b[39;00m \u001b[38;5;167;01mValueError\u001b[39;00m(\n\u001b[1;32m    214\u001b[0m             \u001b[38;5;124mf\u001b[39m\u001b[38;5;124m\"\u001b[39m\u001b[38;5;124mCannot create FloatDistribution for \u001b[39m\u001b[38;5;124m'\u001b[39m\u001b[38;5;132;01m{\u001b[39;00mfeature\u001b[38;5;132;01m}\u001b[39;00m\u001b[38;5;124m'\u001b[39m\u001b[38;5;124m without \u001b[39m\u001b[38;5;124m'\u001b[39m\u001b[38;5;124mlow\u001b[39m\u001b[38;5;124m'\u001b[39m\u001b[38;5;124m and \u001b[39m\u001b[38;5;124m'\u001b[39m\u001b[38;5;124mhigh\u001b[39m\u001b[38;5;124m'\u001b[39m\u001b[38;5;124m values.\u001b[39m\u001b[38;5;124m\"\u001b[39m\n\u001b[1;32m    215\u001b[0m         )\n\u001b[1;32m    216\u001b[0m     domain[feature] \u001b[38;5;241m=\u001b[39m FloatDistribution(\n\u001b[1;32m    217\u001b[0m         name\u001b[38;5;241m=\u001b[39mparams[\u001b[38;5;124m\"\u001b[39m\u001b[38;5;124mname\u001b[39m\u001b[38;5;124m\"\u001b[39m],\n\u001b[1;32m    218\u001b[0m         random_state\u001b[38;5;241m=\u001b[39mparams[\u001b[38;5;124m\"\u001b[39m\u001b[38;5;124mrandom_state\u001b[39m\u001b[38;5;124m\"\u001b[39m],\n\u001b[1;32m    219\u001b[0m         low\u001b[38;5;241m=\u001b[39mparams[\u001b[38;5;124m\"\u001b[39m\u001b[38;5;124mlow\u001b[39m\u001b[38;5;124m\"\u001b[39m],\n\u001b[1;32m    220\u001b[0m         high\u001b[38;5;241m=\u001b[39mparams[\u001b[38;5;124m\"\u001b[39m\u001b[38;5;124mhigh\u001b[39m\u001b[38;5;124m\"\u001b[39m],\n\u001b[1;32m    221\u001b[0m     )\n\u001b[1;32m    222\u001b[0m \u001b[38;5;28;01melif\u001b[39;00m dtype \u001b[38;5;241m==\u001b[39m \u001b[38;5;124m\"\u001b[39m\u001b[38;5;124mint\u001b[39m\u001b[38;5;124m\"\u001b[39m:\n",
      "\u001b[0;31mValueError\u001b[0m: Cannot create FloatDistribution for 'sex' without 'low' and 'high' values."
     ]
    }
   ],
   "source": [
    "syn_model.generate(count=10).dataframe()"
   ]
  },
  {
   "cell_type": "markdown",
   "metadata": {},
   "source": [
    "\n",
    "### 5.1) Generating data under constraints\n",
    "You can optionally enforce constraints such as:\n",
    "- numeric constraints: `(\">=\", 90)`\n",
    "- membership constraints: `(\"in\", [0.0, 1.0])`\n",
    "- equality constraints\n",
    "For instance, if we want `bp >= 90` and `sex` to be in `[0.0, 1.0]`:\n"
   ]
  },
  {
   "cell_type": "code",
   "execution_count": null,
   "metadata": {},
   "outputs": [],
   "source": [
    "constraints = {\n",
    "    \"target\": [\">=\", 0],\n",
    "}\n",
    "\n",
    "syn_data_constrained = syn_model.generate(count=200, constraint=constraints)\n",
    "df_synthetic_constrained = syn_data_constrained.dataframe()\n",
    "df_synthetic_constrained.head()\n"
   ]
  },
  {
   "cell_type": "code",
   "execution_count": null,
   "metadata": {},
   "outputs": [],
   "source": []
  },
  {
   "cell_type": "code",
   "execution_count": null,
   "metadata": {},
   "outputs": [],
   "source": []
  },
  {
   "cell_type": "code",
   "execution_count": null,
   "metadata": {},
   "outputs": [],
   "source": []
  },
  {
   "cell_type": "code",
   "execution_count": null,
   "metadata": {},
   "outputs": [],
   "source": [
    "# third party\n",
    "import matplotlib.pyplot as plt\n",
    "\n",
    "syn_model.plot(plt, loader)\n",
    "\n",
    "plt.show()"
   ]
  },
  {
   "cell_type": "markdown",
   "metadata": {},
   "source": [
    "## Benchmarking metrics\n",
    "\n",
    "| **Metric**                                         | **Description**                                                                                                            |\n",
    "|----------------------------------------------------|----------------------------------------------------------------------------------------------------------------------------|\n",
    "| sanity.data\\_mismatch.score                        | Data types mismatch between the real//synthetic features                                                                   |\n",
    "| sanity.common\\_rows\\_proportion.score              | Real data copy-paste in the synthetic data                                                                                 |\n",
    "| sanity.nearest\\_syn\\_neighbor\\_distance.mean       | Computes the \\textless{}reduction\\textgreater{}(distance) from the real data to the closest neighbor in the synthetic data |\n",
    "| sanity.close\\_values\\_probability.score            | the probability of close values between the real and synthetic data.                                                       |\n",
    "| sanity.distant\\_values\\_probability.score          | the probability of distant values between the real and synthetic data.                                                     |\n",
    "| stats.jensenshannon\\_dist.marginal                 | the average Jensen-Shannon distance                                                                                        |\n",
    "| stats.chi\\_squared\\_test.marginal                  | the one-way chi-square test.                                                                                               |\n",
    "| stats.feature\\_corr.joint                          | the correlation/strength-of-association of features in data-set with both categorical and continuous features              |\n",
    "| stats.inv\\_kl\\_divergence.marginal                 | the average inverse of the Kullback–Leibler Divergence metric.                                                             |\n",
    "| stats.ks\\_test.marginal                            | the Kolmogorov-Smirnov test for goodness of fit.                                                                           |\n",
    "| stats.max\\_mean\\_discrepancy.joint                 | Empirical maximum mean discrepancy. The lower the result the more evidence that distributions are the same.                |\n",
    "| stats.prdc.precision                               | precision between the two manifolds                                                                                        |\n",
    "| stats.prdc.recall                                  | recall between the two manifolds                                                                                           |\n",
    "| stats.prdc.density                                 | density between the two manifolds                                                                                          |\n",
    "| stats.prdc.coverage                                | coverage between the two manifolds                                                                                         |\n",
    "| stats.alpha\\_precision.delta\\_precision\\_alpha\\_OC | Delta precision                                                                                                            |\n",
    "| stats.alpha\\_precision.delta\\_coverage\\_beta\\_OC   | Delta coverage                                                                                                             |\n",
    "| stats.alpha\\_precision.authenticity\\_OC            | Authetnticity                                                                                                              |\n",
    "| stats.survival\\_km\\_distance.optimism              | Kaplan-Meier distance between real-synthetic data                                                                          |\n",
    "| stats.survival\\_km\\_distance.abs\\_optimism         | Kaplan-Meier metrics absolute distance between real-syn data                                                               |\n",
    "| stats.survival\\_km\\_distance.sightedness           | Kaplan-Meier metrics distance on the temporal axis                                                                         |\n",
    "| performance.linear\\_model.gt.c\\_index              | Train on real, test on the test real data using CoxPH: C-Index                                                             |\n",
    "| performance.linear\\_model.gt.brier\\_score          | Train on real, test on the test real data using CoxPH: Brier score                                                         |\n",
    "| performance.linear\\_model.syn\\_id.c\\_index         | Train on synthetic, test on the train real data using CoxPH: C-Index                                                       |\n",
    "| performance.linear\\_model.syn\\_id.brier\\_score     | Train on synthetic, test on the train real data using CoxPH: Brier score                                                   |\n",
    "| performance.linear\\_model.syn\\_ood.c\\_index        | Train on synthetic, test on the test real data using CoxPH: C-Index                                                        |\n",
    "| performance.linear\\_model.syn\\_ood.brier\\_score    | Train on synthetic, test on the test real data using CoxPH: Brier score                                                    |\n",
    "| performance.mlp.gt.c\\_index                        | Train on real, test on the test real data using NN: C-Index                                                                |\n",
    "| performance.mlp.gt.brier\\_score                    | Train on real, test on the test real data using NN : Brier score                                                           |\n",
    "| performance.mlp.syn\\_id.c\\_index                   | Train on synthetic, test on the train real data using NN: C-Index                                                          |\n",
    "| performance.mlp.syn\\_id.brier\\_score               | Train on synthetic, test on the train real data using NN: Brier score                                                      |\n",
    "| performance.mlp.syn\\_ood.c\\_index                  | Train on synthetic, test on the test real data using NN: C-Index                                                           |\n",
    "| performance.mlp.syn\\_ood.brier\\_score              | Train on synthetic, test on the test real data using NN: Brier score                                                       |\n",
    "| performance.xgb.gt.c\\_index                        | Train on real, test on the test real data using XGB: C-Index                                                               |\n",
    "| performance.xgb.gt.brier\\_score                    | Train on real, test on the test real data using XGB : Brier score                                                          |\n",
    "| performance.xgb.syn\\_id.c\\_index                   | Train on synthetic, test on the train real data using XGB: C-Index                                                         |\n",
    "| performance.xgb.syn\\_id.brier\\_score               | Train on synthetic, test on the train real data using XGB: Brier score                                                     |\n",
    "| performance.xgb.syn\\_ood.c\\_index                  | Train on synthetic, test on the test real data using XGB: C-Index                                                          |\n",
    "| performance.xgb.syn\\_ood.brier\\_score              | Train on synthetic, test on the test real data using XGB: Brier score                                                      |\n",
    "| performance.feat\\_rank\\_distance.corr              | Correlation for the rank distances between the feature importance on real and synthetic data                               |\n",
    "| performance.feat\\_rank\\_distance.pvalue            | p-vale for the rank distances between the feature importance on real and synthetic data                                    |\n",
    "| detection.detection\\_xgb.mean                      | The average AUCROC score for detecting synthetic data using an XGBoost.                                                    |\n",
    "| detection.detection\\_mlp.mean                      | The average AUCROC score for detecting synthetic data using a NN.                                                          |\n",
    "| detection.detection\\_gmm.mean                      | The average AUCROC score for detecting synthetic data using a GMM.                                                         |\n",
    "| privacy.delta-presence.score                       | the maximum re-identification probability on the real dataset from the synthetic dataset.                                  |\n",
    "| privacy.k-anonymization.gt                         | the k-anon for the real data                                                                                               |\n",
    "| privacy.k-anonymization.syn                        | the k-anon for the synthetic data                                                                                          |\n",
    "| privacy.k-map.score                                | the minimum value k that satisfies the k-map rule.                                                                         |\n",
    "| privacy.distinct l-diversity.gt                    | the l-diversity for the real data                                                                                          |\n",
    "| privacy.distinct l-diversity.syn                   | the l-diversity for the synthetic data                                                                                     |\n",
    "| privacy.identifiability\\_score.score               | the re-identification score on the real dataset from the synthetic dataset.                                                |"
   ]
  },
  {
   "cell_type": "markdown",
   "metadata": {},
   "source": [
    "## Benchmark the quality of plugins\n",
    "\n",
    "For survival analysis, general purpose generators can be used as well."
   ]
  },
  {
   "cell_type": "code",
   "execution_count": null,
   "metadata": {},
   "outputs": [],
   "source": [
    "# synthcity absolute\n",
    "from synthcity.benchmark import Benchmarks\n",
    "\n",
    "score = Benchmarks.evaluate(\n",
    "    [(f\"test_{model}\", model, {}) for model in [\"syn_seq\", \"ctgan\"]],\n",
    "    loader,\n",
    "    synthetic_size=1000,\n",
    "    repeats=2,\n",
    "    task_type=\"survival_analysis\",\n",
    ")"
   ]
  },
  {
   "cell_type": "markdown",
   "metadata": {},
   "source": [
    "## Congratulations!\n",
    "\n",
    "Congratulations on completing this notebook tutorial! If you enjoyed this and would like to join the movement towards Machine learning and AI for medicine, you can do so in the following ways!\n",
    "\n",
    "### Star [Synthcity](https://github.com/vanderschaarlab/synthcity) on GitHub\n",
    "\n",
    "- The easiest way to help our community is just by starring the Repos! This helps raise awareness of the tools we're building.\n",
    "\n",
    "\n",
    "### Checkout other projects from vanderschaarlab\n",
    "- [HyperImpute](https://github.com/vanderschaarlab/hyperimpute)\n",
    "- [AutoPrognosis](https://github.com/vanderschaarlab/autoprognosis)\n"
   ]
  },
  {
   "cell_type": "code",
   "execution_count": null,
   "metadata": {},
   "outputs": [],
   "source": []
  }
 ],
 "metadata": {
  "kernelspec": {
   "display_name": "syn_seq",
   "language": "python",
   "name": "python3"
  },
  "language_info": {
   "codemirror_mode": {
    "name": "ipython",
    "version": 3
   },
   "file_extension": ".py",
   "mimetype": "text/x-python",
   "name": "python",
   "nbconvert_exporter": "python",
   "pygments_lexer": "ipython3",
   "version": "3.9.21"
  }
 },
 "nbformat": 4,
 "nbformat_minor": 2
}
