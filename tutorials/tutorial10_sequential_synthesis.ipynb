{
 "cells": [
  {
   "cell_type": "markdown",
   "metadata": {
    "vscode": {
     "languageId": "plaintext"
    }
   },
   "source": [
    "# Tutorial 10: Sequential Synthesis\n",
    "In this tutorial, we explore the **Sequential Synthesis** approach using\n",
    "the `syn_seq` plugin in `synthcity`. Sequential synthesis allows us to\n",
    "model variables one-by-one (column-by-column), using conditional relationships\n",
    "learned from the real data. The main idea is:\n",
    "1. Synthesize the first variable (often with sample-without-replacement, \"SWR\"),\n",
    "2. Then synthesize the second variable conditioned on the first,\n",
    "3. And so on for each subsequent variable.\n",
    "This approach can better preserve complex dependencies among columns than\n",
    "simple marginal or naive methods.\n",
    "We'll demonstrate this using the **diabetes** dataset, just like other tutorials,\n",
    "and compare the resulting synthetic data.\n"
   ]
  },
  {
   "cell_type": "code",
   "execution_count": 1,
   "metadata": {},
   "outputs": [
    {
     "name": "stdout",
     "output_type": "stream",
     "text": [
      "Requirement already satisfied: synthcity in c:\\users\\hsrhe\\anaconda3\\envs\\syn_seq\\lib\\site-packages (0.2.11)\n",
      "Requirement already satisfied: importlib-metadata in c:\\users\\hsrhe\\anaconda3\\envs\\syn_seq\\lib\\site-packages (from synthcity) (8.5.0)\n",
      "Requirement already satisfied: pandas>=2.1 in c:\\users\\hsrhe\\anaconda3\\envs\\syn_seq\\lib\\site-packages (from synthcity) (2.2.3)\n",
      "Requirement already satisfied: torch<2.3,>=2.1 in c:\\users\\hsrhe\\anaconda3\\envs\\syn_seq\\lib\\site-packages (from synthcity) (2.2.2)\n",
      "Requirement already satisfied: scikit-learn>=1.2 in c:\\users\\hsrhe\\anaconda3\\envs\\syn_seq\\lib\\site-packages (from synthcity) (1.6.0)\n",
      "Requirement already satisfied: nflows>=0.14 in c:\\users\\hsrhe\\anaconda3\\envs\\syn_seq\\lib\\site-packages (from synthcity) (0.14)\n",
      "Requirement already satisfied: numpy<2.0,>=1.20 in c:\\users\\hsrhe\\anaconda3\\envs\\syn_seq\\lib\\site-packages (from synthcity) (1.26.4)\n",
      "Requirement already satisfied: lifelines<0.30.0,>=0.29.0 in c:\\users\\hsrhe\\anaconda3\\envs\\syn_seq\\lib\\site-packages (from synthcity) (0.29.0)\n",
      "Requirement already satisfied: opacus>=1.3 in c:\\users\\hsrhe\\anaconda3\\envs\\syn_seq\\lib\\site-packages (from synthcity) (1.5.2)\n",
      "Requirement already satisfied: networkx<3.0,>2.0 in c:\\users\\hsrhe\\anaconda3\\envs\\syn_seq\\lib\\site-packages (from synthcity) (2.8.8)\n",
      "Requirement already satisfied: decaf-synthetic-data>=0.1.6 in c:\\users\\hsrhe\\anaconda3\\envs\\syn_seq\\lib\\site-packages (from synthcity) (0.1.6)\n",
      "Requirement already satisfied: optuna>=3.1 in c:\\users\\hsrhe\\anaconda3\\envs\\syn_seq\\lib\\site-packages (from synthcity) (4.1.0)\n",
      "Requirement already satisfied: shap in c:\\users\\hsrhe\\anaconda3\\envs\\syn_seq\\lib\\site-packages (from synthcity) (0.46.0)\n",
      "Requirement already satisfied: tenacity in c:\\users\\hsrhe\\anaconda3\\envs\\syn_seq\\lib\\site-packages (from synthcity) (9.0.0)\n",
      "Requirement already satisfied: tqdm in c:\\users\\hsrhe\\anaconda3\\envs\\syn_seq\\lib\\site-packages (from synthcity) (4.67.1)\n",
      "Requirement already satisfied: loguru in c:\\users\\hsrhe\\anaconda3\\envs\\syn_seq\\lib\\site-packages (from synthcity) (0.7.3)\n",
      "Requirement already satisfied: pydantic>=2.0 in c:\\users\\hsrhe\\anaconda3\\envs\\syn_seq\\lib\\site-packages (from synthcity) (2.10.4)\n",
      "Requirement already satisfied: cloudpickle in c:\\users\\hsrhe\\anaconda3\\envs\\syn_seq\\lib\\site-packages (from synthcity) (3.1.0)\n",
      "Requirement already satisfied: scipy in c:\\users\\hsrhe\\anaconda3\\envs\\syn_seq\\lib\\site-packages (from synthcity) (1.13.1)\n",
      "Requirement already satisfied: xgboost<3.0.0 in c:\\users\\hsrhe\\anaconda3\\envs\\syn_seq\\lib\\site-packages (from synthcity) (2.1.3)\n",
      "Requirement already satisfied: geomloss in c:\\users\\hsrhe\\anaconda3\\envs\\syn_seq\\lib\\site-packages (from synthcity) (0.2.6)\n",
      "Requirement already satisfied: pgmpy in c:\\users\\hsrhe\\anaconda3\\envs\\syn_seq\\lib\\site-packages (from synthcity) (0.1.26)\n",
      "Requirement already satisfied: redis in c:\\users\\hsrhe\\anaconda3\\envs\\syn_seq\\lib\\site-packages (from synthcity) (5.2.1)\n",
      "Requirement already satisfied: pycox in c:\\users\\hsrhe\\anaconda3\\envs\\syn_seq\\lib\\site-packages (from synthcity) (0.3.0)\n",
      "Requirement already satisfied: xgbse>=0.3.1 in c:\\users\\hsrhe\\anaconda3\\envs\\syn_seq\\lib\\site-packages (from synthcity) (0.3.3)\n",
      "Requirement already satisfied: pykeops in c:\\users\\hsrhe\\anaconda3\\envs\\syn_seq\\lib\\site-packages (from synthcity) (2.2.3)\n",
      "Requirement already satisfied: fflows in c:\\users\\hsrhe\\anaconda3\\envs\\syn_seq\\lib\\site-packages (from synthcity) (0.0.3)\n",
      "Requirement already satisfied: monai in c:\\users\\hsrhe\\anaconda3\\envs\\syn_seq\\lib\\site-packages (from synthcity) (1.4.0)\n",
      "Requirement already satisfied: tsai in c:\\users\\hsrhe\\anaconda3\\envs\\syn_seq\\lib\\site-packages (from synthcity) (0.3.9)\n",
      "Requirement already satisfied: be-great>=0.0.5 in c:\\users\\hsrhe\\anaconda3\\envs\\syn_seq\\lib\\site-packages (from synthcity) (0.0.8)\n",
      "Requirement already satisfied: arfpy in c:\\users\\hsrhe\\anaconda3\\envs\\syn_seq\\lib\\site-packages (from synthcity) (0.1.1)\n",
      "Requirement already satisfied: datasets>=2.5.2 in c:\\users\\hsrhe\\anaconda3\\envs\\syn_seq\\lib\\site-packages (from be-great>=0.0.5->synthcity) (3.2.0)\n",
      "Requirement already satisfied: transformers>=4.22.1 in c:\\users\\hsrhe\\anaconda3\\envs\\syn_seq\\lib\\site-packages (from be-great>=0.0.5->synthcity) (4.47.1)\n",
      "Requirement already satisfied: accelerate>=0.20.1 in c:\\users\\hsrhe\\anaconda3\\envs\\syn_seq\\lib\\site-packages (from be-great>=0.0.5->synthcity) (1.2.1)\n",
      "Requirement already satisfied: pytorch-lightning<2.0 in c:\\users\\hsrhe\\anaconda3\\envs\\syn_seq\\lib\\site-packages (from decaf-synthetic-data>=0.1.6->synthcity) (1.9.5)\n",
      "Requirement already satisfied: torchtext>=0.10 in c:\\users\\hsrhe\\anaconda3\\envs\\syn_seq\\lib\\site-packages (from decaf-synthetic-data>=0.1.6->synthcity) (0.17.2)\n",
      "Requirement already satisfied: matplotlib>=3.0 in c:\\users\\hsrhe\\anaconda3\\envs\\syn_seq\\lib\\site-packages (from lifelines<0.30.0,>=0.29.0->synthcity) (3.9.4)\n",
      "Requirement already satisfied: autograd>=1.5 in c:\\users\\hsrhe\\anaconda3\\envs\\syn_seq\\lib\\site-packages (from lifelines<0.30.0,>=0.29.0->synthcity) (1.7.0)\n",
      "Requirement already satisfied: autograd-gamma>=0.3 in c:\\users\\hsrhe\\anaconda3\\envs\\syn_seq\\lib\\site-packages (from lifelines<0.30.0,>=0.29.0->synthcity) (0.5.0)\n",
      "Requirement already satisfied: formulaic>=0.2.2 in c:\\users\\hsrhe\\anaconda3\\envs\\syn_seq\\lib\\site-packages (from lifelines<0.30.0,>=0.29.0->synthcity) (1.1.1)\n",
      "Requirement already satisfied: tensorboard in c:\\users\\hsrhe\\anaconda3\\envs\\syn_seq\\lib\\site-packages (from nflows>=0.14->synthcity) (2.18.0)\n",
      "Requirement already satisfied: opt-einsum>=3.3.0 in c:\\users\\hsrhe\\anaconda3\\envs\\syn_seq\\lib\\site-packages (from opacus>=1.3->synthcity) (3.4.0)\n",
      "Requirement already satisfied: alembic>=1.5.0 in c:\\users\\hsrhe\\anaconda3\\envs\\syn_seq\\lib\\site-packages (from optuna>=3.1->synthcity) (1.14.0)\n",
      "Requirement already satisfied: colorlog in c:\\users\\hsrhe\\anaconda3\\envs\\syn_seq\\lib\\site-packages (from optuna>=3.1->synthcity) (6.9.0)\n",
      "Requirement already satisfied: packaging>=20.0 in c:\\users\\hsrhe\\anaconda3\\envs\\syn_seq\\lib\\site-packages (from optuna>=3.1->synthcity) (24.2)\n",
      "Requirement already satisfied: sqlalchemy>=1.4.2 in c:\\users\\hsrhe\\anaconda3\\envs\\syn_seq\\lib\\site-packages (from optuna>=3.1->synthcity) (2.0.36)\n",
      "Requirement already satisfied: PyYAML in c:\\users\\hsrhe\\anaconda3\\envs\\syn_seq\\lib\\site-packages (from optuna>=3.1->synthcity) (6.0.2)\n",
      "Requirement already satisfied: python-dateutil>=2.8.2 in c:\\users\\hsrhe\\anaconda3\\envs\\syn_seq\\lib\\site-packages (from pandas>=2.1->synthcity) (2.9.0.post0)\n",
      "Requirement already satisfied: pytz>=2020.1 in c:\\users\\hsrhe\\anaconda3\\envs\\syn_seq\\lib\\site-packages (from pandas>=2.1->synthcity) (2024.2)\n",
      "Requirement already satisfied: tzdata>=2022.7 in c:\\users\\hsrhe\\anaconda3\\envs\\syn_seq\\lib\\site-packages (from pandas>=2.1->synthcity) (2024.2)\n",
      "Requirement already satisfied: annotated-types>=0.6.0 in c:\\users\\hsrhe\\anaconda3\\envs\\syn_seq\\lib\\site-packages (from pydantic>=2.0->synthcity) (0.7.0)\n",
      "Requirement already satisfied: pydantic-core==2.27.2 in c:\\users\\hsrhe\\anaconda3\\envs\\syn_seq\\lib\\site-packages (from pydantic>=2.0->synthcity) (2.27.2)\n",
      "Requirement already satisfied: typing-extensions>=4.12.2 in c:\\users\\hsrhe\\anaconda3\\envs\\syn_seq\\lib\\site-packages (from pydantic>=2.0->synthcity) (4.12.2)\n",
      "Requirement already satisfied: joblib>=1.2.0 in c:\\users\\hsrhe\\anaconda3\\envs\\syn_seq\\lib\\site-packages (from scikit-learn>=1.2->synthcity) (1.4.2)\n",
      "Requirement already satisfied: threadpoolctl>=3.1.0 in c:\\users\\hsrhe\\anaconda3\\envs\\syn_seq\\lib\\site-packages (from scikit-learn>=1.2->synthcity) (3.5.0)\n",
      "Requirement already satisfied: filelock in c:\\users\\hsrhe\\anaconda3\\envs\\syn_seq\\lib\\site-packages (from torch<2.3,>=2.1->synthcity) (3.16.1)\n",
      "Requirement already satisfied: sympy in c:\\users\\hsrhe\\anaconda3\\envs\\syn_seq\\lib\\site-packages (from torch<2.3,>=2.1->synthcity) (1.13.3)\n",
      "Requirement already satisfied: jinja2 in c:\\users\\hsrhe\\anaconda3\\envs\\syn_seq\\lib\\site-packages (from torch<2.3,>=2.1->synthcity) (3.1.5)\n",
      "Requirement already satisfied: fsspec in c:\\users\\hsrhe\\anaconda3\\envs\\syn_seq\\lib\\site-packages (from torch<2.3,>=2.1->synthcity) (2024.9.0)\n",
      "Requirement already satisfied: colorama in c:\\users\\hsrhe\\anaconda3\\envs\\syn_seq\\lib\\site-packages (from tqdm->synthcity) (0.4.6)\n",
      "Requirement already satisfied: zipp>=3.20 in c:\\users\\hsrhe\\anaconda3\\envs\\syn_seq\\lib\\site-packages (from importlib-metadata->synthcity) (3.21.0)\n",
      "Requirement already satisfied: win32-setctime>=1.0.0 in c:\\users\\hsrhe\\anaconda3\\envs\\syn_seq\\lib\\site-packages (from loguru->synthcity) (1.2.0)\n",
      "Requirement already satisfied: pyparsing in c:\\users\\hsrhe\\anaconda3\\envs\\syn_seq\\lib\\site-packages (from pgmpy->synthcity) (3.2.1)\n",
      "Requirement already satisfied: statsmodels in c:\\users\\hsrhe\\anaconda3\\envs\\syn_seq\\lib\\site-packages (from pgmpy->synthcity) (0.14.4)\n",
      "Requirement already satisfied: google-generativeai in c:\\users\\hsrhe\\anaconda3\\envs\\syn_seq\\lib\\site-packages (from pgmpy->synthcity) (0.8.3)\n",
      "Requirement already satisfied: torchtuples>=0.2.0 in c:\\users\\hsrhe\\anaconda3\\envs\\syn_seq\\lib\\site-packages (from pycox->synthcity) (0.2.2)\n",
      "Requirement already satisfied: feather-format>=0.4.0 in c:\\users\\hsrhe\\anaconda3\\envs\\syn_seq\\lib\\site-packages (from pycox->synthcity) (0.4.1)\n",
      "Requirement already satisfied: h5py>=2.9.0 in c:\\users\\hsrhe\\anaconda3\\envs\\syn_seq\\lib\\site-packages (from pycox->synthcity) (3.12.1)\n",
      "Requirement already satisfied: numba>=0.44 in c:\\users\\hsrhe\\anaconda3\\envs\\syn_seq\\lib\\site-packages (from pycox->synthcity) (0.60.0)\n",
      "Requirement already satisfied: requests>=2.22.0 in c:\\users\\hsrhe\\anaconda3\\envs\\syn_seq\\lib\\site-packages (from pycox->synthcity) (2.32.3)\n",
      "Requirement already satisfied: py7zr>=0.11.3 in c:\\users\\hsrhe\\anaconda3\\envs\\syn_seq\\lib\\site-packages (from pycox->synthcity) (0.22.0)\n",
      "Requirement already satisfied: pybind11 in c:\\users\\hsrhe\\anaconda3\\envs\\syn_seq\\lib\\site-packages (from pykeops->synthcity) (2.13.6)\n",
      "Requirement already satisfied: keopscore==2.2.3 in c:\\users\\hsrhe\\anaconda3\\envs\\syn_seq\\lib\\site-packages (from pykeops->synthcity) (2.2.3)\n",
      "Requirement already satisfied: async-timeout>=4.0.3 in c:\\users\\hsrhe\\anaconda3\\envs\\syn_seq\\lib\\site-packages (from redis->synthcity) (5.0.1)\n",
      "Requirement already satisfied: slicer==0.0.8 in c:\\users\\hsrhe\\anaconda3\\envs\\syn_seq\\lib\\site-packages (from shap->synthcity) (0.0.8)\n",
      "Requirement already satisfied: fastai>=2.7.14 in c:\\users\\hsrhe\\anaconda3\\envs\\syn_seq\\lib\\site-packages (from tsai->synthcity) (2.7.18)\n",
      "Requirement already satisfied: pyts>=0.12.0 in c:\\users\\hsrhe\\anaconda3\\envs\\syn_seq\\lib\\site-packages (from tsai->synthcity) (0.13.0)\n",
      "Requirement already satisfied: imbalanced-learn>=0.11.0 in c:\\users\\hsrhe\\anaconda3\\envs\\syn_seq\\lib\\site-packages (from tsai->synthcity) (0.12.4)\n",
      "Requirement already satisfied: psutil>=5.4.8 in c:\\users\\hsrhe\\anaconda3\\envs\\syn_seq\\lib\\site-packages (from tsai->synthcity) (6.1.1)\n",
      "Requirement already satisfied: huggingface-hub>=0.21.0 in c:\\users\\hsrhe\\anaconda3\\envs\\syn_seq\\lib\\site-packages (from accelerate>=0.20.1->be-great>=0.0.5->synthcity) (0.27.1)\n",
      "Requirement already satisfied: safetensors>=0.4.3 in c:\\users\\hsrhe\\anaconda3\\envs\\syn_seq\\lib\\site-packages (from accelerate>=0.20.1->be-great>=0.0.5->synthcity) (0.5.0)\n",
      "Requirement already satisfied: Mako in c:\\users\\hsrhe\\anaconda3\\envs\\syn_seq\\lib\\site-packages (from alembic>=1.5.0->optuna>=3.1->synthcity) (1.3.8)\n",
      "Requirement already satisfied: pyarrow>=15.0.0 in c:\\users\\hsrhe\\anaconda3\\envs\\syn_seq\\lib\\site-packages (from datasets>=2.5.2->be-great>=0.0.5->synthcity) (18.1.0)\n",
      "Requirement already satisfied: dill<0.3.9,>=0.3.0 in c:\\users\\hsrhe\\anaconda3\\envs\\syn_seq\\lib\\site-packages (from datasets>=2.5.2->be-great>=0.0.5->synthcity) (0.3.8)\n",
      "Requirement already satisfied: xxhash in c:\\users\\hsrhe\\anaconda3\\envs\\syn_seq\\lib\\site-packages (from datasets>=2.5.2->be-great>=0.0.5->synthcity) (3.5.0)\n",
      "Requirement already satisfied: multiprocess<0.70.17 in c:\\users\\hsrhe\\anaconda3\\envs\\syn_seq\\lib\\site-packages (from datasets>=2.5.2->be-great>=0.0.5->synthcity) (0.70.16)\n",
      "Requirement already satisfied: aiohttp in c:\\users\\hsrhe\\anaconda3\\envs\\syn_seq\\lib\\site-packages (from datasets>=2.5.2->be-great>=0.0.5->synthcity) (3.11.11)\n",
      "Requirement already satisfied: pip in c:\\users\\hsrhe\\anaconda3\\envs\\syn_seq\\lib\\site-packages (from fastai>=2.7.14->tsai->synthcity) (24.2)\n",
      "Requirement already satisfied: fastdownload<2,>=0.0.5 in c:\\users\\hsrhe\\anaconda3\\envs\\syn_seq\\lib\\site-packages (from fastai>=2.7.14->tsai->synthcity) (0.0.7)\n",
      "Requirement already satisfied: fastcore<1.8,>=1.5.29 in c:\\users\\hsrhe\\anaconda3\\envs\\syn_seq\\lib\\site-packages (from fastai>=2.7.14->tsai->synthcity) (1.7.28)\n",
      "Requirement already satisfied: torchvision>=0.11 in c:\\users\\hsrhe\\anaconda3\\envs\\syn_seq\\lib\\site-packages (from fastai>=2.7.14->tsai->synthcity) (0.17.2)\n",
      "Requirement already satisfied: fastprogress>=0.2.4 in c:\\users\\hsrhe\\anaconda3\\envs\\syn_seq\\lib\\site-packages (from fastai>=2.7.14->tsai->synthcity) (1.0.3)\n",
      "Requirement already satisfied: pillow>=9.0.0 in c:\\users\\hsrhe\\anaconda3\\envs\\syn_seq\\lib\\site-packages (from fastai>=2.7.14->tsai->synthcity) (11.1.0)\n",
      "Requirement already satisfied: spacy<4 in c:\\users\\hsrhe\\anaconda3\\envs\\syn_seq\\lib\\site-packages (from fastai>=2.7.14->tsai->synthcity) (3.8.3)\n",
      "Requirement already satisfied: interface-meta>=1.2.0 in c:\\users\\hsrhe\\anaconda3\\envs\\syn_seq\\lib\\site-packages (from formulaic>=0.2.2->lifelines<0.30.0,>=0.29.0->synthcity) (1.3.0)\n",
      "Requirement already satisfied: wrapt>=1.0 in c:\\users\\hsrhe\\anaconda3\\envs\\syn_seq\\lib\\site-packages (from formulaic>=0.2.2->lifelines<0.30.0,>=0.29.0->synthcity) (1.17.0)\n",
      "Requirement already satisfied: contourpy>=1.0.1 in c:\\users\\hsrhe\\anaconda3\\envs\\syn_seq\\lib\\site-packages (from matplotlib>=3.0->lifelines<0.30.0,>=0.29.0->synthcity) (1.3.0)\n",
      "Requirement already satisfied: cycler>=0.10 in c:\\users\\hsrhe\\anaconda3\\envs\\syn_seq\\lib\\site-packages (from matplotlib>=3.0->lifelines<0.30.0,>=0.29.0->synthcity) (0.12.1)\n",
      "Requirement already satisfied: fonttools>=4.22.0 in c:\\users\\hsrhe\\anaconda3\\envs\\syn_seq\\lib\\site-packages (from matplotlib>=3.0->lifelines<0.30.0,>=0.29.0->synthcity) (4.55.3)\n",
      "Requirement already satisfied: kiwisolver>=1.3.1 in c:\\users\\hsrhe\\anaconda3\\envs\\syn_seq\\lib\\site-packages (from matplotlib>=3.0->lifelines<0.30.0,>=0.29.0->synthcity) (1.4.7)\n",
      "Requirement already satisfied: importlib-resources>=3.2.0 in c:\\users\\hsrhe\\anaconda3\\envs\\syn_seq\\lib\\site-packages (from matplotlib>=3.0->lifelines<0.30.0,>=0.29.0->synthcity) (6.5.2)\n",
      "Requirement already satisfied: llvmlite<0.44,>=0.43.0dev0 in c:\\users\\hsrhe\\anaconda3\\envs\\syn_seq\\lib\\site-packages (from numba>=0.44->pycox->synthcity) (0.43.0)\n",
      "Requirement already satisfied: texttable in c:\\users\\hsrhe\\anaconda3\\envs\\syn_seq\\lib\\site-packages (from py7zr>=0.11.3->pycox->synthcity) (1.7.0)\n",
      "Requirement already satisfied: pycryptodomex>=3.16.0 in c:\\users\\hsrhe\\anaconda3\\envs\\syn_seq\\lib\\site-packages (from py7zr>=0.11.3->pycox->synthcity) (3.21.0)\n",
      "Requirement already satisfied: pyzstd>=0.15.9 in c:\\users\\hsrhe\\anaconda3\\envs\\syn_seq\\lib\\site-packages (from py7zr>=0.11.3->pycox->synthcity) (0.16.2)\n",
      "Requirement already satisfied: pyppmd<1.2.0,>=1.1.0 in c:\\users\\hsrhe\\anaconda3\\envs\\syn_seq\\lib\\site-packages (from py7zr>=0.11.3->pycox->synthcity) (1.1.1)\n",
      "Requirement already satisfied: pybcj<1.1.0,>=1.0.0 in c:\\users\\hsrhe\\anaconda3\\envs\\syn_seq\\lib\\site-packages (from py7zr>=0.11.3->pycox->synthcity) (1.0.3)\n",
      "Requirement already satisfied: multivolumefile>=0.2.3 in c:\\users\\hsrhe\\anaconda3\\envs\\syn_seq\\lib\\site-packages (from py7zr>=0.11.3->pycox->synthcity) (0.2.3)\n",
      "Requirement already satisfied: inflate64<1.1.0,>=1.0.0 in c:\\users\\hsrhe\\anaconda3\\envs\\syn_seq\\lib\\site-packages (from py7zr>=0.11.3->pycox->synthcity) (1.0.1)\n",
      "Requirement already satisfied: brotli>=1.1.0 in c:\\users\\hsrhe\\anaconda3\\envs\\syn_seq\\lib\\site-packages (from py7zr>=0.11.3->pycox->synthcity) (1.1.0)\n",
      "Requirement already satisfied: six>=1.5 in c:\\users\\hsrhe\\anaconda3\\envs\\syn_seq\\lib\\site-packages (from python-dateutil>=2.8.2->pandas>=2.1->synthcity) (1.17.0)\n",
      "Requirement already satisfied: torchmetrics>=0.7.0 in c:\\users\\hsrhe\\anaconda3\\envs\\syn_seq\\lib\\site-packages (from pytorch-lightning<2.0->decaf-synthetic-data>=0.1.6->synthcity) (1.6.1)\n",
      "Requirement already satisfied: lightning-utilities>=0.6.0.post0 in c:\\users\\hsrhe\\anaconda3\\envs\\syn_seq\\lib\\site-packages (from pytorch-lightning<2.0->decaf-synthetic-data>=0.1.6->synthcity) (0.11.9)\n",
      "Requirement already satisfied: charset-normalizer<4,>=2 in c:\\users\\hsrhe\\anaconda3\\envs\\syn_seq\\lib\\site-packages (from requests>=2.22.0->pycox->synthcity) (3.4.1)\n",
      "Requirement already satisfied: idna<4,>=2.5 in c:\\users\\hsrhe\\anaconda3\\envs\\syn_seq\\lib\\site-packages (from requests>=2.22.0->pycox->synthcity) (3.10)\n",
      "Requirement already satisfied: urllib3<3,>=1.21.1 in c:\\users\\hsrhe\\anaconda3\\envs\\syn_seq\\lib\\site-packages (from requests>=2.22.0->pycox->synthcity) (2.3.0)\n",
      "Requirement already satisfied: certifi>=2017.4.17 in c:\\users\\hsrhe\\anaconda3\\envs\\syn_seq\\lib\\site-packages (from requests>=2.22.0->pycox->synthcity) (2024.12.14)\n",
      "Requirement already satisfied: greenlet!=0.4.17 in c:\\users\\hsrhe\\anaconda3\\envs\\syn_seq\\lib\\site-packages (from sqlalchemy>=1.4.2->optuna>=3.1->synthcity) (3.1.1)\n",
      "Requirement already satisfied: regex!=2019.12.17 in c:\\users\\hsrhe\\anaconda3\\envs\\syn_seq\\lib\\site-packages (from transformers>=4.22.1->be-great>=0.0.5->synthcity) (2024.11.6)\n",
      "Requirement already satisfied: tokenizers<0.22,>=0.21 in c:\\users\\hsrhe\\anaconda3\\envs\\syn_seq\\lib\\site-packages (from transformers>=4.22.1->be-great>=0.0.5->synthcity) (0.21.0)\n",
      "Requirement already satisfied: google-ai-generativelanguage==0.6.10 in c:\\users\\hsrhe\\anaconda3\\envs\\syn_seq\\lib\\site-packages (from google-generativeai->pgmpy->synthcity) (0.6.10)\n",
      "Requirement already satisfied: google-api-core in c:\\users\\hsrhe\\anaconda3\\envs\\syn_seq\\lib\\site-packages (from google-generativeai->pgmpy->synthcity) (2.24.0)\n",
      "Requirement already satisfied: google-api-python-client in c:\\users\\hsrhe\\anaconda3\\envs\\syn_seq\\lib\\site-packages (from google-generativeai->pgmpy->synthcity) (2.157.0)\n",
      "Requirement already satisfied: google-auth>=2.15.0 in c:\\users\\hsrhe\\anaconda3\\envs\\syn_seq\\lib\\site-packages (from google-generativeai->pgmpy->synthcity) (2.37.0)\n",
      "Requirement already satisfied: protobuf in c:\\users\\hsrhe\\anaconda3\\envs\\syn_seq\\lib\\site-packages (from google-generativeai->pgmpy->synthcity) (5.29.2)\n",
      "Requirement already satisfied: proto-plus<2.0.0dev,>=1.22.3 in c:\\users\\hsrhe\\anaconda3\\envs\\syn_seq\\lib\\site-packages (from google-ai-generativelanguage==0.6.10->google-generativeai->pgmpy->synthcity) (1.25.0)\n",
      "Requirement already satisfied: MarkupSafe>=2.0 in c:\\users\\hsrhe\\anaconda3\\envs\\syn_seq\\lib\\site-packages (from jinja2->torch<2.3,>=2.1->synthcity) (3.0.2)\n",
      "Requirement already satisfied: patsy>=0.5.6 in c:\\users\\hsrhe\\anaconda3\\envs\\syn_seq\\lib\\site-packages (from statsmodels->pgmpy->synthcity) (1.0.1)\n",
      "Requirement already satisfied: mpmath<1.4,>=1.1.0 in c:\\users\\hsrhe\\anaconda3\\envs\\syn_seq\\lib\\site-packages (from sympy->torch<2.3,>=2.1->synthcity) (1.3.0)\n",
      "Requirement already satisfied: absl-py>=0.4 in c:\\users\\hsrhe\\anaconda3\\envs\\syn_seq\\lib\\site-packages (from tensorboard->nflows>=0.14->synthcity) (2.1.0)\n",
      "Requirement already satisfied: grpcio>=1.48.2 in c:\\users\\hsrhe\\anaconda3\\envs\\syn_seq\\lib\\site-packages (from tensorboard->nflows>=0.14->synthcity) (1.69.0)\n",
      "Requirement already satisfied: markdown>=2.6.8 in c:\\users\\hsrhe\\anaconda3\\envs\\syn_seq\\lib\\site-packages (from tensorboard->nflows>=0.14->synthcity) (3.7)\n",
      "Requirement already satisfied: setuptools>=41.0.0 in c:\\users\\hsrhe\\anaconda3\\envs\\syn_seq\\lib\\site-packages (from tensorboard->nflows>=0.14->synthcity) (75.1.0)\n",
      "Requirement already satisfied: tensorboard-data-server<0.8.0,>=0.7.0 in c:\\users\\hsrhe\\anaconda3\\envs\\syn_seq\\lib\\site-packages (from tensorboard->nflows>=0.14->synthcity) (0.7.2)\n",
      "Requirement already satisfied: werkzeug>=1.0.1 in c:\\users\\hsrhe\\anaconda3\\envs\\syn_seq\\lib\\site-packages (from tensorboard->nflows>=0.14->synthcity) (3.1.3)\n",
      "Requirement already satisfied: aiohappyeyeballs>=2.3.0 in c:\\users\\hsrhe\\anaconda3\\envs\\syn_seq\\lib\\site-packages (from aiohttp->datasets>=2.5.2->be-great>=0.0.5->synthcity) (2.4.4)\n",
      "Requirement already satisfied: aiosignal>=1.1.2 in c:\\users\\hsrhe\\anaconda3\\envs\\syn_seq\\lib\\site-packages (from aiohttp->datasets>=2.5.2->be-great>=0.0.5->synthcity) (1.3.2)\n",
      "Requirement already satisfied: attrs>=17.3.0 in c:\\users\\hsrhe\\anaconda3\\envs\\syn_seq\\lib\\site-packages (from aiohttp->datasets>=2.5.2->be-great>=0.0.5->synthcity) (24.3.0)\n",
      "Requirement already satisfied: frozenlist>=1.1.1 in c:\\users\\hsrhe\\anaconda3\\envs\\syn_seq\\lib\\site-packages (from aiohttp->datasets>=2.5.2->be-great>=0.0.5->synthcity) (1.5.0)\n",
      "Requirement already satisfied: multidict<7.0,>=4.5 in c:\\users\\hsrhe\\anaconda3\\envs\\syn_seq\\lib\\site-packages (from aiohttp->datasets>=2.5.2->be-great>=0.0.5->synthcity) (6.1.0)\n",
      "Requirement already satisfied: propcache>=0.2.0 in c:\\users\\hsrhe\\anaconda3\\envs\\syn_seq\\lib\\site-packages (from aiohttp->datasets>=2.5.2->be-great>=0.0.5->synthcity) (0.2.1)\n",
      "Requirement already satisfied: yarl<2.0,>=1.17.0 in c:\\users\\hsrhe\\anaconda3\\envs\\syn_seq\\lib\\site-packages (from aiohttp->datasets>=2.5.2->be-great>=0.0.5->synthcity) (1.18.3)\n",
      "Requirement already satisfied: googleapis-common-protos<2.0.dev0,>=1.56.2 in c:\\users\\hsrhe\\anaconda3\\envs\\syn_seq\\lib\\site-packages (from google-api-core->google-generativeai->pgmpy->synthcity) (1.66.0)\n",
      "Requirement already satisfied: cachetools<6.0,>=2.0.0 in c:\\users\\hsrhe\\anaconda3\\envs\\syn_seq\\lib\\site-packages (from google-auth>=2.15.0->google-generativeai->pgmpy->synthcity) (5.5.0)\n",
      "Requirement already satisfied: pyasn1-modules>=0.2.1 in c:\\users\\hsrhe\\anaconda3\\envs\\syn_seq\\lib\\site-packages (from google-auth>=2.15.0->google-generativeai->pgmpy->synthcity) (0.4.1)\n",
      "Requirement already satisfied: rsa<5,>=3.1.4 in c:\\users\\hsrhe\\anaconda3\\envs\\syn_seq\\lib\\site-packages (from google-auth>=2.15.0->google-generativeai->pgmpy->synthcity) (4.9)\n",
      "Requirement already satisfied: spacy-legacy<3.1.0,>=3.0.11 in c:\\users\\hsrhe\\anaconda3\\envs\\syn_seq\\lib\\site-packages (from spacy<4->fastai>=2.7.14->tsai->synthcity) (3.0.12)\n",
      "Requirement already satisfied: spacy-loggers<2.0.0,>=1.0.0 in c:\\users\\hsrhe\\anaconda3\\envs\\syn_seq\\lib\\site-packages (from spacy<4->fastai>=2.7.14->tsai->synthcity) (1.0.5)\n",
      "Requirement already satisfied: murmurhash<1.1.0,>=0.28.0 in c:\\users\\hsrhe\\anaconda3\\envs\\syn_seq\\lib\\site-packages (from spacy<4->fastai>=2.7.14->tsai->synthcity) (1.0.11)\n",
      "Requirement already satisfied: cymem<2.1.0,>=2.0.2 in c:\\users\\hsrhe\\anaconda3\\envs\\syn_seq\\lib\\site-packages (from spacy<4->fastai>=2.7.14->tsai->synthcity) (2.0.10)\n",
      "Requirement already satisfied: preshed<3.1.0,>=3.0.2 in c:\\users\\hsrhe\\anaconda3\\envs\\syn_seq\\lib\\site-packages (from spacy<4->fastai>=2.7.14->tsai->synthcity) (3.0.9)\n",
      "Requirement already satisfied: thinc<8.4.0,>=8.3.0 in c:\\users\\hsrhe\\anaconda3\\envs\\syn_seq\\lib\\site-packages (from spacy<4->fastai>=2.7.14->tsai->synthcity) (8.3.3)\n",
      "Requirement already satisfied: wasabi<1.2.0,>=0.9.1 in c:\\users\\hsrhe\\anaconda3\\envs\\syn_seq\\lib\\site-packages (from spacy<4->fastai>=2.7.14->tsai->synthcity) (1.1.3)\n",
      "Requirement already satisfied: srsly<3.0.0,>=2.4.3 in c:\\users\\hsrhe\\anaconda3\\envs\\syn_seq\\lib\\site-packages (from spacy<4->fastai>=2.7.14->tsai->synthcity) (2.5.0)\n",
      "Requirement already satisfied: catalogue<2.1.0,>=2.0.6 in c:\\users\\hsrhe\\anaconda3\\envs\\syn_seq\\lib\\site-packages (from spacy<4->fastai>=2.7.14->tsai->synthcity) (2.0.10)\n",
      "Requirement already satisfied: weasel<0.5.0,>=0.1.0 in c:\\users\\hsrhe\\anaconda3\\envs\\syn_seq\\lib\\site-packages (from spacy<4->fastai>=2.7.14->tsai->synthcity) (0.4.1)\n",
      "Requirement already satisfied: typer<1.0.0,>=0.3.0 in c:\\users\\hsrhe\\anaconda3\\envs\\syn_seq\\lib\\site-packages (from spacy<4->fastai>=2.7.14->tsai->synthcity) (0.15.1)\n",
      "Requirement already satisfied: langcodes<4.0.0,>=3.2.0 in c:\\users\\hsrhe\\anaconda3\\envs\\syn_seq\\lib\\site-packages (from spacy<4->fastai>=2.7.14->tsai->synthcity) (3.5.0)\n",
      "Requirement already satisfied: httplib2<1.dev0,>=0.19.0 in c:\\users\\hsrhe\\anaconda3\\envs\\syn_seq\\lib\\site-packages (from google-api-python-client->google-generativeai->pgmpy->synthcity) (0.22.0)\n",
      "Requirement already satisfied: google-auth-httplib2<1.0.0,>=0.2.0 in c:\\users\\hsrhe\\anaconda3\\envs\\syn_seq\\lib\\site-packages (from google-api-python-client->google-generativeai->pgmpy->synthcity) (0.2.0)\n",
      "Requirement already satisfied: uritemplate<5,>=3.0.1 in c:\\users\\hsrhe\\anaconda3\\envs\\syn_seq\\lib\\site-packages (from google-api-python-client->google-generativeai->pgmpy->synthcity) (4.1.1)\n",
      "Requirement already satisfied: grpcio-status<2.0.dev0,>=1.33.2 in c:\\users\\hsrhe\\anaconda3\\envs\\syn_seq\\lib\\site-packages (from google-api-core[grpc]!=2.0.*,!=2.1.*,!=2.10.*,!=2.2.*,!=2.3.*,!=2.4.*,!=2.5.*,!=2.6.*,!=2.7.*,!=2.8.*,!=2.9.*,<3.0.0dev,>=1.34.1->google-ai-generativelanguage==0.6.10->google-generativeai->pgmpy->synthcity) (1.69.0)\n",
      "Requirement already satisfied: language-data>=1.2 in c:\\users\\hsrhe\\anaconda3\\envs\\syn_seq\\lib\\site-packages (from langcodes<4.0.0,>=3.2.0->spacy<4->fastai>=2.7.14->tsai->synthcity) (1.3.0)\n",
      "Requirement already satisfied: pyasn1<0.7.0,>=0.4.6 in c:\\users\\hsrhe\\anaconda3\\envs\\syn_seq\\lib\\site-packages (from pyasn1-modules>=0.2.1->google-auth>=2.15.0->google-generativeai->pgmpy->synthcity) (0.6.1)\n",
      "Requirement already satisfied: blis<1.2.0,>=1.1.0 in c:\\users\\hsrhe\\anaconda3\\envs\\syn_seq\\lib\\site-packages (from thinc<8.4.0,>=8.3.0->spacy<4->fastai>=2.7.14->tsai->synthcity) (1.1.0)\n",
      "Requirement already satisfied: confection<1.0.0,>=0.0.1 in c:\\users\\hsrhe\\anaconda3\\envs\\syn_seq\\lib\\site-packages (from thinc<8.4.0,>=8.3.0->spacy<4->fastai>=2.7.14->tsai->synthcity) (0.1.5)\n",
      "Requirement already satisfied: click>=8.0.0 in c:\\users\\hsrhe\\anaconda3\\envs\\syn_seq\\lib\\site-packages (from typer<1.0.0,>=0.3.0->spacy<4->fastai>=2.7.14->tsai->synthcity) (8.1.8)\n",
      "Requirement already satisfied: shellingham>=1.3.0 in c:\\users\\hsrhe\\anaconda3\\envs\\syn_seq\\lib\\site-packages (from typer<1.0.0,>=0.3.0->spacy<4->fastai>=2.7.14->tsai->synthcity) (1.5.4)\n",
      "Requirement already satisfied: rich>=10.11.0 in c:\\users\\hsrhe\\anaconda3\\envs\\syn_seq\\lib\\site-packages (from typer<1.0.0,>=0.3.0->spacy<4->fastai>=2.7.14->tsai->synthcity) (13.9.4)\n",
      "Requirement already satisfied: cloudpathlib<1.0.0,>=0.7.0 in c:\\users\\hsrhe\\anaconda3\\envs\\syn_seq\\lib\\site-packages (from weasel<0.5.0,>=0.1.0->spacy<4->fastai>=2.7.14->tsai->synthcity) (0.20.0)\n",
      "Requirement already satisfied: smart-open<8.0.0,>=5.2.1 in c:\\users\\hsrhe\\anaconda3\\envs\\syn_seq\\lib\\site-packages (from weasel<0.5.0,>=0.1.0->spacy<4->fastai>=2.7.14->tsai->synthcity) (7.1.0)\n",
      "Requirement already satisfied: marisa-trie>=1.1.0 in c:\\users\\hsrhe\\anaconda3\\envs\\syn_seq\\lib\\site-packages (from language-data>=1.2->langcodes<4.0.0,>=3.2.0->spacy<4->fastai>=2.7.14->tsai->synthcity) (1.2.1)\n",
      "Requirement already satisfied: markdown-it-py>=2.2.0 in c:\\users\\hsrhe\\anaconda3\\envs\\syn_seq\\lib\\site-packages (from rich>=10.11.0->typer<1.0.0,>=0.3.0->spacy<4->fastai>=2.7.14->tsai->synthcity) (3.0.0)\n",
      "Requirement already satisfied: pygments<3.0.0,>=2.13.0 in c:\\users\\hsrhe\\anaconda3\\envs\\syn_seq\\lib\\site-packages (from rich>=10.11.0->typer<1.0.0,>=0.3.0->spacy<4->fastai>=2.7.14->tsai->synthcity) (2.18.0)\n",
      "Requirement already satisfied: mdurl~=0.1 in c:\\users\\hsrhe\\anaconda3\\envs\\syn_seq\\lib\\site-packages (from markdown-it-py>=2.2.0->rich>=10.11.0->typer<1.0.0,>=0.3.0->spacy<4->fastai>=2.7.14->tsai->synthcity) (0.1.2)\n"
     ]
    }
   ],
   "source": [
    "!pip install synthcity"
   ]
  },
  {
   "cell_type": "code",
   "execution_count": 2,
   "metadata": {},
   "outputs": [
    {
     "name": "stdout",
     "output_type": "stream",
     "text": [
      "[KeOps] Warning : \n",
      "    The default C++ compiler could not be found on your system.\n",
      "    You need to either define the CXX environment variable or a symlink to the g++ command.\n",
      "    For example if g++-8 is the command you can do\n",
      "      import os\n",
      "      os.environ['CXX'] = 'g++-8'\n",
      "    \n",
      "[KeOps] Warning : Cuda libraries were not detected on the system or could not be loaded ; using cpu only mode\n"
     ]
    }
   ],
   "source": [
    "\n",
    "import sys\n",
    "import warnings\n",
    "\n",
    "warnings.filterwarnings(\"ignore\")\n",
    "\n",
    "from sklearn.datasets import load_diabetes\n",
    "\n",
    "# synthcity absolute\n",
    "import synthcity.logger as log\n",
    "from synthcity.plugins import Plugins\n",
    "\n",
    "log.add(sink=sys.stderr, level=\"INFO\")\n"
   ]
  },
  {
   "cell_type": "markdown",
   "metadata": {},
   "source": [
    "## 1) Load the data\n",
    "We will use the diabetes dataset for simplicity.\n"
   ]
  },
  {
   "cell_type": "code",
   "execution_count": 3,
   "metadata": {},
   "outputs": [
    {
     "data": {
      "text/html": [
       "<div>\n",
       "<style scoped>\n",
       "    .dataframe tbody tr th:only-of-type {\n",
       "        vertical-align: middle;\n",
       "    }\n",
       "\n",
       "    .dataframe tbody tr th {\n",
       "        vertical-align: top;\n",
       "    }\n",
       "\n",
       "    .dataframe thead th {\n",
       "        text-align: right;\n",
       "    }\n",
       "</style>\n",
       "<table border=\"1\" class=\"dataframe\">\n",
       "  <thead>\n",
       "    <tr style=\"text-align: right;\">\n",
       "      <th></th>\n",
       "      <th>age</th>\n",
       "      <th>sex</th>\n",
       "      <th>bmi</th>\n",
       "      <th>bp</th>\n",
       "      <th>s1</th>\n",
       "      <th>s2</th>\n",
       "      <th>s3</th>\n",
       "      <th>s4</th>\n",
       "      <th>s5</th>\n",
       "      <th>s6</th>\n",
       "      <th>target</th>\n",
       "    </tr>\n",
       "  </thead>\n",
       "  <tbody>\n",
       "    <tr>\n",
       "      <th>0</th>\n",
       "      <td>0.038076</td>\n",
       "      <td>0.050680</td>\n",
       "      <td>0.061696</td>\n",
       "      <td>0.021872</td>\n",
       "      <td>-0.044223</td>\n",
       "      <td>-0.034821</td>\n",
       "      <td>-0.043401</td>\n",
       "      <td>-0.002592</td>\n",
       "      <td>0.019907</td>\n",
       "      <td>-0.017646</td>\n",
       "      <td>151.0</td>\n",
       "    </tr>\n",
       "    <tr>\n",
       "      <th>1</th>\n",
       "      <td>-0.001882</td>\n",
       "      <td>-0.044642</td>\n",
       "      <td>-0.051474</td>\n",
       "      <td>-0.026328</td>\n",
       "      <td>-0.008449</td>\n",
       "      <td>-0.019163</td>\n",
       "      <td>0.074412</td>\n",
       "      <td>-0.039493</td>\n",
       "      <td>-0.068332</td>\n",
       "      <td>-0.092204</td>\n",
       "      <td>75.0</td>\n",
       "    </tr>\n",
       "    <tr>\n",
       "      <th>2</th>\n",
       "      <td>0.085299</td>\n",
       "      <td>0.050680</td>\n",
       "      <td>0.044451</td>\n",
       "      <td>-0.005670</td>\n",
       "      <td>-0.045599</td>\n",
       "      <td>-0.034194</td>\n",
       "      <td>-0.032356</td>\n",
       "      <td>-0.002592</td>\n",
       "      <td>0.002861</td>\n",
       "      <td>-0.025930</td>\n",
       "      <td>141.0</td>\n",
       "    </tr>\n",
       "    <tr>\n",
       "      <th>3</th>\n",
       "      <td>-0.089063</td>\n",
       "      <td>-0.044642</td>\n",
       "      <td>-0.011595</td>\n",
       "      <td>-0.036656</td>\n",
       "      <td>0.012191</td>\n",
       "      <td>0.024991</td>\n",
       "      <td>-0.036038</td>\n",
       "      <td>0.034309</td>\n",
       "      <td>0.022688</td>\n",
       "      <td>-0.009362</td>\n",
       "      <td>206.0</td>\n",
       "    </tr>\n",
       "    <tr>\n",
       "      <th>4</th>\n",
       "      <td>0.005383</td>\n",
       "      <td>-0.044642</td>\n",
       "      <td>-0.036385</td>\n",
       "      <td>0.021872</td>\n",
       "      <td>0.003935</td>\n",
       "      <td>0.015596</td>\n",
       "      <td>0.008142</td>\n",
       "      <td>-0.002592</td>\n",
       "      <td>-0.031988</td>\n",
       "      <td>-0.046641</td>\n",
       "      <td>135.0</td>\n",
       "    </tr>\n",
       "  </tbody>\n",
       "</table>\n",
       "</div>"
      ],
      "text/plain": [
       "        age       sex       bmi        bp        s1        s2        s3  \\\n",
       "0  0.038076  0.050680  0.061696  0.021872 -0.044223 -0.034821 -0.043401   \n",
       "1 -0.001882 -0.044642 -0.051474 -0.026328 -0.008449 -0.019163  0.074412   \n",
       "2  0.085299  0.050680  0.044451 -0.005670 -0.045599 -0.034194 -0.032356   \n",
       "3 -0.089063 -0.044642 -0.011595 -0.036656  0.012191  0.024991 -0.036038   \n",
       "4  0.005383 -0.044642 -0.036385  0.021872  0.003935  0.015596  0.008142   \n",
       "\n",
       "         s4        s5        s6  target  \n",
       "0 -0.002592  0.019907 -0.017646   151.0  \n",
       "1 -0.039493 -0.068332 -0.092204    75.0  \n",
       "2 -0.002592  0.002861 -0.025930   141.0  \n",
       "3  0.034309  0.022688 -0.009362   206.0  \n",
       "4 -0.002592 -0.031988 -0.046641   135.0  "
      ]
     },
     "execution_count": 3,
     "metadata": {},
     "output_type": "execute_result"
    }
   ],
   "source": [
    "\n",
    "X, y = load_diabetes(return_X_y=True, as_frame=True)\n",
    "X[\"target\"] = y\n",
    "\n",
    "ods = X\n",
    "\n",
    "ods.head()\n"
   ]
  },
  {
   "cell_type": "markdown",
   "metadata": {},
   "source": [
    "\n",
    "## 2) Create a Syn_SeqDataLoader\n",
    "Instead of using a `GenericDataLoader`, we use our specialized\n",
    "`Syn_SeqDataLoader`. We'll define a `syn_order` — the sequence in which columns\n",
    "get synthesized. If not provided, it defaults to the data's columns order.\n"
   ]
  },
  {
   "cell_type": "code",
   "execution_count": 4,
   "metadata": {},
   "outputs": [],
   "source": [
    "user_custom = {\n",
    "  'syn_order' : ['sex', 'bmi', 'age', 'bp', 's1', 's2', 's3', 's4', 's5', 's6', 'target'],\n",
    "  'method' : {'bp':'norm'},\n",
    "  'col_type' : {\"age\": \"category\"},\n",
    "  'special_value' : {'bp':[-0.040099, -0.005670]},\n",
    "  'variable_selection' : {\n",
    "    \"s4\": ['sex', 'bmi', 'age', 'bp', 's1', 's2'],\n",
    "    \"target\": ['sex', 'bmi', 'age', 'bp', 's1', 's2', 's3'],\n",
    "  }\n",
    "}"
   ]
  },
  {
   "cell_type": "code",
   "execution_count": 5,
   "metadata": {},
   "outputs": [
    {
     "name": "stdout",
     "output_type": "stream",
     "text": [
      "[INFO] Syn_SeqDataLoader init complete. splitted_df shape= (442, 12)\n",
      "  - syn_order: ['sex', 'bmi', 'age', 'bp_cat', 'bp', 's1', 's2', 's3', 's4', 's5', 's6', 'target']\n",
      "  - special_value: {'bp': [-0.040099, -0.00567]}\n",
      "  - col_type: {'age': 'category'}\n",
      "  - max_categories: 20\n",
      "  - encoder.col_map =>\n",
      "     sex: original_dtype=float64, converted_type=category, method=cart\n",
      "     bmi: original_dtype=float64, converted_type=numeric, method=cart\n",
      "     age: original_dtype=float64, converted_type=category, method=cart\n",
      "     bp: original_dtype=float64, converted_type=numeric, method=cart\n",
      "     s1: original_dtype=float64, converted_type=numeric, method=cart\n",
      "     s2: original_dtype=float64, converted_type=numeric, method=cart\n",
      "     s3: original_dtype=float64, converted_type=numeric, method=cart\n",
      "     s4: original_dtype=float64, converted_type=numeric, method=cart\n",
      "     s5: original_dtype=float64, converted_type=numeric, method=cart\n",
      "     s6: original_dtype=float64, converted_type=numeric, method=cart\n",
      "     target: original_dtype=float64, converted_type=numeric, method=cart\n",
      "     bp_cat: original_dtype=None, converted_type=category, method=cart\n",
      "  variable_selection_ (matrix form) =>\n",
      "         sex  bmi  age  bp_cat  bp  s1  s2  s3  s4  s5  s6  target\n",
      "sex       0    0    0       0   0   0   0   0   0   0   0       0\n",
      "bmi       1    0    0       0   0   0   0   0   0   0   0       0\n",
      "age       1    1    0       0   0   0   0   0   0   0   0       0\n",
      "bp_cat    1    1    1       0   0   0   0   0   0   0   0       0\n",
      "bp        1    1    1       1   0   0   0   0   0   0   0       0\n",
      "s1        1    1    1       1   1   0   0   0   0   0   0       0\n",
      "s2        1    1    1       1   1   1   0   0   0   0   0       0\n",
      "s3        1    1    1       1   1   1   1   0   0   0   0       0\n",
      "s4        1    1    1       0   1   1   1   0   0   0   0       0\n",
      "s5        1    1    1       1   1   1   1   1   1   0   0       0\n",
      "s6        1    1    1       1   1   1   1   1   1   1   0       0\n",
      "target    1    1    1       0   1   1   1   1   0   0   0       0\n",
      "----------------------------------------------------------------\n"
     ]
    }
   ],
   "source": [
    "from synthcity.plugins.core.dataloader import Syn_SeqDataLoader\n",
    "loader = Syn_SeqDataLoader(X, target_column=\"target\", sensitive_columns=[\"sex\"], user_custom = user_custom)"
   ]
  },
  {
   "cell_type": "code",
   "execution_count": 6,
   "metadata": {},
   "outputs": [
    {
     "name": "stdout",
     "output_type": "stream",
     "text": [
      "['sex', 'bmi', 'age', 'bp_cat', 'bp', 's1', 's2', 's3', 's4', 's5', 's6', 'target']\n",
      "{'bp': [-0.040099, -0.00567]}\n",
      "{'s4': ['sex', 'bmi', 'age', 'bp', 's1', 's2'], 'target': ['sex', 'bmi', 'age', 'bp', 's1', 's2', 's3'], 'sex': [], 'bmi': ['sex'], 'age': ['sex', 'bmi'], 'bp': ['sex', 'bmi', 'age', 'bp_cat'], 's1': ['sex', 'bmi', 'age', 'bp_cat', 'bp'], 's2': ['sex', 'bmi', 'age', 'bp_cat', 'bp', 's1'], 's3': ['sex', 'bmi', 'age', 'bp_cat', 'bp', 's1', 's2'], 's5': ['sex', 'bmi', 'age', 'bp_cat', 'bp', 's1', 's2', 's3', 's4'], 's6': ['sex', 'bmi', 'age', 'bp_cat', 'bp', 's1', 's2', 's3', 's4', 's5'], 'bp_cat': ['sex', 'bmi', 'age']}\n",
      "['sex', 'bmi', 'age', 'bp_cat', 'bp', 's1', 's2', 's3', 's4', 's5', 's6', 'target']\n",
      "['sex', 'bmi', 'age', 'bp_cat', 'bp', 's1', 's2', 's3', 's4', 's5', 's6', 'target']\n"
     ]
    }
   ],
   "source": [
    "print(loader.info()['syn_order'])\n",
    "print(loader.info()['special_value'])\n",
    "print(loader.info()['variable_selection'])\n",
    "print(loader.info()['syn_order'])\n",
    "print(loader.info()['syn_order'])"
   ]
  },
  {
   "cell_type": "markdown",
   "metadata": {},
   "source": [
    "\n",
    "The `Syn_SeqDataLoader` also prints out debug info, including the\n",
    "automatically-detected numeric vs categorical columns.\n",
    "\n",
    "## 3) List available plugins\n",
    "Recall from earlier tutorials that you can see all generative model plugins\n",
    "with `Plugins().list()`. We'll specifically focus on `\"syn_seq\"` here.\n",
    "\n"
   ]
  },
  {
   "cell_type": "code",
   "execution_count": 11,
   "metadata": {},
   "outputs": [
    {
     "name": "stderr",
     "output_type": "stream",
     "text": [
      "[2025-01-17T19:20:30.259236+0900][39776][CRITICAL] module disabled: C:\\Users\\hsrhe\\Desktop\\synthcity\\src\\synthcity\\plugins\\generic\\plugin_goggle.py\n",
      "[2025-01-17T19:20:30.259236+0900][39776][CRITICAL] module disabled: C:\\Users\\hsrhe\\Desktop\\synthcity\\src\\synthcity\\plugins\\generic\\plugin_goggle.py\n",
      "[2025-01-17T19:20:30.259236+0900][39776][CRITICAL] module disabled: C:\\Users\\hsrhe\\Desktop\\synthcity\\src\\synthcity\\plugins\\generic\\plugin_goggle.py\n"
     ]
    },
    {
     "data": {
      "text/plain": [
       "['aim',\n",
       " 'fflows',\n",
       " 'privbayes',\n",
       " 'bayesian_network',\n",
       " 'ctgan',\n",
       " 'radialgan',\n",
       " 'survival_ctgan',\n",
       " 'survival_nflow',\n",
       " 'survival_gan',\n",
       " 'rtvae',\n",
       " 'uniform_sampler',\n",
       " 'pategan',\n",
       " 'tvae',\n",
       " 'image_adsgan',\n",
       " 'nflow',\n",
       " 'dummy_sampler',\n",
       " 'arf',\n",
       " 'syn_seq',\n",
       " 'adsgan',\n",
       " 'image_cgan',\n",
       " 'great',\n",
       " 'dpgan',\n",
       " 'survae',\n",
       " 'ddpm',\n",
       " 'timegan',\n",
       " 'timevae',\n",
       " 'marginal_distributions',\n",
       " 'decaf']"
      ]
     },
     "execution_count": 11,
     "metadata": {},
     "output_type": "execute_result"
    }
   ],
   "source": [
    "Plugins().list()"
   ]
  },
  {
   "cell_type": "markdown",
   "metadata": {},
   "source": [
    "You should see `\"syn_seq\"` in the returned list.\n",
    "\n",
    "## 4) Load and train the Sequential Synthesis Model\n",
    "The `syn_seq` plugin allows you to specify how each column is synthesized:\n",
    "- `\"SWR\"` = sample without replacement\n",
    "- `\"CART\"`, `\"rf\"`, `\"pmm\"`, `\"logreg\"`, etc. for the rest\n",
    "Typically, we do `\"SWR\"` for the first column, and `\"CART\"` or `\"rf\"` for subsequent columns.\n",
    "But you can choose any method for each column.\n"
   ]
  },
  {
   "cell_type": "code",
   "execution_count": 12,
   "metadata": {},
   "outputs": [],
   "source": [
    "user_custom = {\n",
    "  'syn_order' : ['sex', 'bmi', 'age', 'bp', 's1', 's2', 's3', 's4', 's5', 's6', 'target'],\n",
    "  'method' : {'bp':'norm'},\n",
    "  'variable_selection' : {\n",
    "    \"s4\": ['sex', 'bmi', 'age', 'bp', 's1', 's2'],\n",
    "    \"target\": ['sex', 'bmi', 'age', 'bp', 's1', 's2', 's3']\n",
    "  }\n",
    "}"
   ]
  },
  {
   "cell_type": "code",
   "execution_count": 13,
   "metadata": {},
   "outputs": [
    {
     "name": "stderr",
     "output_type": "stream",
     "text": [
      "[2025-01-17T19:20:45.887420+0900][39776][CRITICAL] module disabled: C:\\Users\\hsrhe\\Desktop\\synthcity\\src\\synthcity\\plugins\\generic\\plugin_goggle.py\n"
     ]
    }
   ],
   "source": [
    "syn_model = Plugins().get(\"syn_seq\")\n"
   ]
  },
  {
   "cell_type": "code",
   "execution_count": 14,
   "metadata": {},
   "outputs": [
    {
     "name": "stdout",
     "output_type": "stream",
     "text": [
      "[WARN] encode() called again. We already splitted in __init__.\n"
     ]
    },
    {
     "ename": "AttributeError",
     "evalue": "'Syn_SeqDataLoader' object has no attribute 'update_user_custom'",
     "output_type": "error",
     "traceback": [
      "\u001b[1;31m---------------------------------------------------------------------------\u001b[0m",
      "\u001b[1;31mAttributeError\u001b[0m                            Traceback (most recent call last)",
      "Cell \u001b[1;32mIn[14], line 1\u001b[0m\n\u001b[1;32m----> 1\u001b[0m \u001b[43msyn_model\u001b[49m\u001b[38;5;241;43m.\u001b[39;49m\u001b[43mfit\u001b[49m\u001b[43m(\u001b[49m\u001b[43mloader\u001b[49m\u001b[43m,\u001b[49m\u001b[43muser_custom\u001b[49m\u001b[43m)\u001b[49m\n",
      "File \u001b[1;32mc:\\Users\\hsrhe\\anaconda3\\envs\\syn_seq\\lib\\site-packages\\pydantic\\deprecated\\decorator.py:55\u001b[0m, in \u001b[0;36mvalidate_arguments.<locals>.validate.<locals>.wrapper_function\u001b[1;34m(*args, **kwargs)\u001b[0m\n\u001b[0;32m     53\u001b[0m \u001b[38;5;129m@wraps\u001b[39m(_func)\n\u001b[0;32m     54\u001b[0m \u001b[38;5;28;01mdef\u001b[39;00m \u001b[38;5;21mwrapper_function\u001b[39m(\u001b[38;5;241m*\u001b[39margs: Any, \u001b[38;5;241m*\u001b[39m\u001b[38;5;241m*\u001b[39mkwargs: Any) \u001b[38;5;241m-\u001b[39m\u001b[38;5;241m>\u001b[39m Any:\n\u001b[1;32m---> 55\u001b[0m     \u001b[38;5;28;01mreturn\u001b[39;00m vd\u001b[38;5;241m.\u001b[39mcall(\u001b[38;5;241m*\u001b[39margs, \u001b[38;5;241m*\u001b[39m\u001b[38;5;241m*\u001b[39mkwargs)\n",
      "File \u001b[1;32mc:\\Users\\hsrhe\\anaconda3\\envs\\syn_seq\\lib\\site-packages\\pydantic\\deprecated\\decorator.py:150\u001b[0m, in \u001b[0;36mValidatedFunction.call\u001b[1;34m(self, *args, **kwargs)\u001b[0m\n\u001b[0;32m    148\u001b[0m \u001b[38;5;28;01mdef\u001b[39;00m \u001b[38;5;21mcall\u001b[39m(\u001b[38;5;28mself\u001b[39m, \u001b[38;5;241m*\u001b[39margs: Any, \u001b[38;5;241m*\u001b[39m\u001b[38;5;241m*\u001b[39mkwargs: Any) \u001b[38;5;241m-\u001b[39m\u001b[38;5;241m>\u001b[39m Any:\n\u001b[0;32m    149\u001b[0m     m \u001b[38;5;241m=\u001b[39m \u001b[38;5;28mself\u001b[39m\u001b[38;5;241m.\u001b[39minit_model_instance(\u001b[38;5;241m*\u001b[39margs, \u001b[38;5;241m*\u001b[39m\u001b[38;5;241m*\u001b[39mkwargs)\n\u001b[1;32m--> 150\u001b[0m     \u001b[38;5;28;01mreturn\u001b[39;00m \u001b[38;5;28;43mself\u001b[39;49m\u001b[38;5;241;43m.\u001b[39;49m\u001b[43mexecute\u001b[49m\u001b[43m(\u001b[49m\u001b[43mm\u001b[49m\u001b[43m)\u001b[49m\n",
      "File \u001b[1;32mc:\\Users\\hsrhe\\anaconda3\\envs\\syn_seq\\lib\\site-packages\\pydantic\\deprecated\\decorator.py:215\u001b[0m, in \u001b[0;36mValidatedFunction.execute\u001b[1;34m(self, m)\u001b[0m\n\u001b[0;32m    213\u001b[0m         \u001b[38;5;28;01melse\u001b[39;00m:\n\u001b[0;32m    214\u001b[0m             args_\u001b[38;5;241m.\u001b[39mappend(value)\n\u001b[1;32m--> 215\u001b[0m     \u001b[38;5;28;01mreturn\u001b[39;00m \u001b[38;5;28mself\u001b[39m\u001b[38;5;241m.\u001b[39mraw_function(\u001b[38;5;241m*\u001b[39margs_, \u001b[38;5;241m*\u001b[39m\u001b[38;5;241m*\u001b[39mkwargs, \u001b[38;5;241m*\u001b[39m\u001b[38;5;241m*\u001b[39mvar_kwargs)\n\u001b[0;32m    216\u001b[0m \u001b[38;5;28;01melif\u001b[39;00m \u001b[38;5;28mself\u001b[39m\u001b[38;5;241m.\u001b[39mpositional_only_args:\n\u001b[0;32m    217\u001b[0m     args_ \u001b[38;5;241m=\u001b[39m []\n",
      "File \u001b[1;32m~\\Desktop\\synthcity\\src\\synthcity\\plugins\\core\\plugin.py:254\u001b[0m, in \u001b[0;36mPlugin.fit\u001b[1;34m(self, X, *args, **kwargs)\u001b[0m\n\u001b[0;32m    246\u001b[0m         X, \u001b[38;5;28mself\u001b[39m\u001b[38;5;241m.\u001b[39mcompress_context \u001b[38;5;241m=\u001b[39m load_from_file(bkp_file)\n\u001b[0;32m    248\u001b[0m \u001b[38;5;28mself\u001b[39m\u001b[38;5;241m.\u001b[39m_training_schema \u001b[38;5;241m=\u001b[39m Schema(\n\u001b[0;32m    249\u001b[0m     data\u001b[38;5;241m=\u001b[39mX,\n\u001b[0;32m    250\u001b[0m     sampling_strategy\u001b[38;5;241m=\u001b[39m\u001b[38;5;28mself\u001b[39m\u001b[38;5;241m.\u001b[39msampling_strategy,\n\u001b[0;32m    251\u001b[0m     random_state\u001b[38;5;241m=\u001b[39m\u001b[38;5;28mself\u001b[39m\u001b[38;5;241m.\u001b[39mrandom_state,\n\u001b[0;32m    252\u001b[0m )\n\u001b[1;32m--> 254\u001b[0m output \u001b[38;5;241m=\u001b[39m \u001b[38;5;28mself\u001b[39m\u001b[38;5;241m.\u001b[39m_fit(X, \u001b[38;5;241m*\u001b[39margs, \u001b[38;5;241m*\u001b[39m\u001b[38;5;241m*\u001b[39mkwargs)\n\u001b[0;32m    255\u001b[0m \u001b[38;5;28mself\u001b[39m\u001b[38;5;241m.\u001b[39mfitted \u001b[38;5;241m=\u001b[39m \u001b[38;5;28;01mTrue\u001b[39;00m\n\u001b[0;32m    257\u001b[0m \u001b[38;5;28;01mreturn\u001b[39;00m output\n",
      "File \u001b[1;32m~\\Desktop\\synthcity\\src\\synthcity\\plugins\\generic\\plugin_syn_seq.py:143\u001b[0m, in \u001b[0;36mSyn_SeqPlugin._fit\u001b[1;34m(self, X, user_custom, *args, **kwargs)\u001b[0m\n\u001b[0;32m    140\u001b[0m     \u001b[38;5;28;01mraise\u001b[39;00m \u001b[38;5;167;01mTypeError\u001b[39;00m(\u001b[38;5;124m\"\u001b[39m\u001b[38;5;124mSyn_SeqPlugin expects a Syn_SeqDataLoader for sequential usage.\u001b[39m\u001b[38;5;124m\"\u001b[39m)\n\u001b[0;32m    142\u001b[0m \u001b[38;5;66;03m# aggregator fit => merges user_custom into loader => encode => partial-fit\u001b[39;00m\n\u001b[1;32m--> 143\u001b[0m \u001b[38;5;28mself\u001b[39m\u001b[38;5;241m.\u001b[39m_aggregator\u001b[38;5;241m.\u001b[39mfit(\n\u001b[0;32m    144\u001b[0m     loader\u001b[38;5;241m=\u001b[39mX,\n\u001b[0;32m    145\u001b[0m     user_custom\u001b[38;5;241m=\u001b[39muser_custom,\n\u001b[0;32m    146\u001b[0m     \u001b[38;5;241m*\u001b[39margs,\n\u001b[0;32m    147\u001b[0m     \u001b[38;5;241m*\u001b[39m\u001b[38;5;241m*\u001b[39mkwargs\n\u001b[0;32m    148\u001b[0m )\n\u001b[0;32m    149\u001b[0m \u001b[38;5;28mself\u001b[39m\u001b[38;5;241m.\u001b[39m_model_trained \u001b[38;5;241m=\u001b[39m \u001b[38;5;28;01mTrue\u001b[39;00m\n\u001b[0;32m    150\u001b[0m \u001b[38;5;28;01mreturn\u001b[39;00m \u001b[38;5;28mself\u001b[39m\n",
      "File \u001b[1;32m~\\Desktop\\synthcity\\src\\synthcity\\plugins\\core\\models\\syn_seq\\syn_seq.py:117\u001b[0m, in \u001b[0;36mSyn_Seq.fit\u001b[1;34m(self, loader, user_custom, *args, **kwargs)\u001b[0m\n\u001b[0;32m    115\u001b[0m \u001b[38;5;66;03m# (1) incorporate user overrides\u001b[39;00m\n\u001b[0;32m    116\u001b[0m \u001b[38;5;28;01mif\u001b[39;00m user_custom:\n\u001b[1;32m--> 117\u001b[0m     \u001b[43mloader\u001b[49m\u001b[38;5;241;43m.\u001b[39;49m\u001b[43mupdate_user_custom\u001b[49m(user_custom)\n\u001b[0;32m    119\u001b[0m \u001b[38;5;66;03m# (2) encode => splitted columns\u001b[39;00m\n\u001b[0;32m    120\u001b[0m encoded_loader, enc_dict \u001b[38;5;241m=\u001b[39m loader\u001b[38;5;241m.\u001b[39mencode(encoders\u001b[38;5;241m=\u001b[39m\u001b[38;5;28;01mNone\u001b[39;00m)\n",
      "\u001b[1;31mAttributeError\u001b[0m: 'Syn_SeqDataLoader' object has no attribute 'update_user_custom'"
     ]
    }
   ],
   "source": [
    "syn_model.fit(loader,user_custom)"
   ]
  },
  {
   "cell_type": "code",
   "execution_count": 9,
   "metadata": {},
   "outputs": [
    {
     "name": "stdout",
     "output_type": "stream",
     "text": [
      "age       float64\n",
      "sex       float64\n",
      "bmi       float64\n",
      "bp        float64\n",
      "s1        float64\n",
      "s2        float64\n",
      "s3        float64\n",
      "s4        float64\n",
      "s5        float64\n",
      "s6        float64\n",
      "target    float64\n",
      "dtype: object\n"
     ]
    }
   ],
   "source": [
    "df = loader.dataframe()\n",
    "print(df.dtypes)"
   ]
  },
  {
   "cell_type": "markdown",
   "metadata": {},
   "source": [
    "\n",
    "**Note**: During training, you'll see some printed info about which method\n",
    "is used for each column, plus the final variable selection matrix.\n",
    "\n",
    "## 5) Generate synthetic data\n",
    "By default, let's sample 200 synthetic rows.\n",
    "\n"
   ]
  },
  {
   "cell_type": "code",
   "execution_count": 10,
   "metadata": {},
   "outputs": [
    {
     "ename": "ValueError",
     "evalue": "Cannot create FloatDistribution for 'age' without 'low' and 'high' values.",
     "output_type": "error",
     "traceback": [
      "\u001b[1;31m---------------------------------------------------------------------------\u001b[0m",
      "\u001b[1;31mValueError\u001b[0m                                Traceback (most recent call last)",
      "Cell \u001b[1;32mIn[10], line 9\u001b[0m\n\u001b[0;32m      1\u001b[0m constraints \u001b[38;5;241m=\u001b[39m {\n\u001b[0;32m      2\u001b[0m   \u001b[38;5;124m\"\u001b[39m\u001b[38;5;124mtarget\u001b[39m\u001b[38;5;124m\"\u001b[39m:[\n\u001b[0;32m      3\u001b[0m     (\u001b[38;5;124m\"\u001b[39m\u001b[38;5;124mbmi\u001b[39m\u001b[38;5;124m\"\u001b[39m, \u001b[38;5;124m\"\u001b[39m\u001b[38;5;124m>\u001b[39m\u001b[38;5;124m\"\u001b[39m, \u001b[38;5;241m0.15\u001b[39m),\n\u001b[0;32m      4\u001b[0m     (\u001b[38;5;124m\"\u001b[39m\u001b[38;5;124mtarget\u001b[39m\u001b[38;5;124m\"\u001b[39m, \u001b[38;5;124m\"\u001b[39m\u001b[38;5;124m>\u001b[39m\u001b[38;5;124m\"\u001b[39m, \u001b[38;5;241m0\u001b[39m)\n\u001b[0;32m      5\u001b[0m   ]\n\u001b[0;32m      6\u001b[0m }\n\u001b[0;32m      8\u001b[0m \u001b[38;5;66;03m# 여기서 X=loader 를 함께 넘긴다고 가정\u001b[39;00m\n\u001b[1;32m----> 9\u001b[0m synthetic_loader \u001b[38;5;241m=\u001b[39m \u001b[43msyn_model\u001b[49m\u001b[38;5;241;43m.\u001b[39;49m\u001b[43mgenerate\u001b[49m\u001b[43m(\u001b[49m\n\u001b[0;32m     10\u001b[0m \u001b[43m    \u001b[49m\u001b[43mcount\u001b[49m\u001b[38;5;241;43m=\u001b[39;49m\u001b[38;5;28;43mlen\u001b[39;49m\u001b[43m(\u001b[49m\u001b[43mdf\u001b[49m\u001b[43m)\u001b[49m\u001b[43m,\u001b[49m\n\u001b[0;32m     11\u001b[0m \u001b[43m    \u001b[49m\u001b[43mconstraints\u001b[49m\u001b[38;5;241;43m=\u001b[39;49m\u001b[43mconstraints\u001b[49m\u001b[43m,\u001b[49m\n\u001b[0;32m     12\u001b[0m \u001b[43m    \u001b[49m\u001b[43mX\u001b[49m\u001b[38;5;241;43m=\u001b[39;49m\u001b[43mloader\u001b[49m\u001b[43m  \u001b[49m\u001b[38;5;66;43;03m# <-- 꼭 넣어주세요!\u001b[39;49;00m\n\u001b[0;32m     13\u001b[0m \u001b[43m)\u001b[49m\n\u001b[0;32m     15\u001b[0m \u001b[38;5;66;03m# 6) 결과\u001b[39;00m\n\u001b[0;32m     16\u001b[0m synthetic_df \u001b[38;5;241m=\u001b[39m synthetic_loader\u001b[38;5;241m.\u001b[39mdataframe()\n",
      "File \u001b[1;32mc:\\Users\\hsrhe\\anaconda3\\envs\\syn_seq\\lib\\site-packages\\pydantic\\deprecated\\decorator.py:55\u001b[0m, in \u001b[0;36mvalidate_arguments.<locals>.validate.<locals>.wrapper_function\u001b[1;34m(*args, **kwargs)\u001b[0m\n\u001b[0;32m     53\u001b[0m \u001b[38;5;129m@wraps\u001b[39m(_func)\n\u001b[0;32m     54\u001b[0m \u001b[38;5;28;01mdef\u001b[39;00m \u001b[38;5;21mwrapper_function\u001b[39m(\u001b[38;5;241m*\u001b[39margs: Any, \u001b[38;5;241m*\u001b[39m\u001b[38;5;241m*\u001b[39mkwargs: Any) \u001b[38;5;241m-\u001b[39m\u001b[38;5;241m>\u001b[39m Any:\n\u001b[1;32m---> 55\u001b[0m     \u001b[38;5;28;01mreturn\u001b[39;00m vd\u001b[38;5;241m.\u001b[39mcall(\u001b[38;5;241m*\u001b[39margs, \u001b[38;5;241m*\u001b[39m\u001b[38;5;241m*\u001b[39mkwargs)\n",
      "File \u001b[1;32mc:\\Users\\hsrhe\\anaconda3\\envs\\syn_seq\\lib\\site-packages\\pydantic\\deprecated\\decorator.py:150\u001b[0m, in \u001b[0;36mValidatedFunction.call\u001b[1;34m(self, *args, **kwargs)\u001b[0m\n\u001b[0;32m    148\u001b[0m \u001b[38;5;28;01mdef\u001b[39;00m \u001b[38;5;21mcall\u001b[39m(\u001b[38;5;28mself\u001b[39m, \u001b[38;5;241m*\u001b[39margs: Any, \u001b[38;5;241m*\u001b[39m\u001b[38;5;241m*\u001b[39mkwargs: Any) \u001b[38;5;241m-\u001b[39m\u001b[38;5;241m>\u001b[39m Any:\n\u001b[0;32m    149\u001b[0m     m \u001b[38;5;241m=\u001b[39m \u001b[38;5;28mself\u001b[39m\u001b[38;5;241m.\u001b[39minit_model_instance(\u001b[38;5;241m*\u001b[39margs, \u001b[38;5;241m*\u001b[39m\u001b[38;5;241m*\u001b[39mkwargs)\n\u001b[1;32m--> 150\u001b[0m     \u001b[38;5;28;01mreturn\u001b[39;00m \u001b[38;5;28;43mself\u001b[39;49m\u001b[38;5;241;43m.\u001b[39;49m\u001b[43mexecute\u001b[49m\u001b[43m(\u001b[49m\u001b[43mm\u001b[49m\u001b[43m)\u001b[49m\n",
      "File \u001b[1;32mc:\\Users\\hsrhe\\anaconda3\\envs\\syn_seq\\lib\\site-packages\\pydantic\\deprecated\\decorator.py:226\u001b[0m, in \u001b[0;36mValidatedFunction.execute\u001b[1;34m(self, m)\u001b[0m\n\u001b[0;32m    224\u001b[0m     \u001b[38;5;28;01mreturn\u001b[39;00m \u001b[38;5;28mself\u001b[39m\u001b[38;5;241m.\u001b[39mraw_function(\u001b[38;5;241m*\u001b[39margs_, \u001b[38;5;241m*\u001b[39m\u001b[38;5;241m*\u001b[39mkwargs, \u001b[38;5;241m*\u001b[39m\u001b[38;5;241m*\u001b[39mvar_kwargs)\n\u001b[0;32m    225\u001b[0m \u001b[38;5;28;01melse\u001b[39;00m:\n\u001b[1;32m--> 226\u001b[0m     \u001b[38;5;28;01mreturn\u001b[39;00m \u001b[38;5;28mself\u001b[39m\u001b[38;5;241m.\u001b[39mraw_function(\u001b[38;5;241m*\u001b[39m\u001b[38;5;241m*\u001b[39md, \u001b[38;5;241m*\u001b[39m\u001b[38;5;241m*\u001b[39mvar_kwargs)\n",
      "File \u001b[1;32m~\\Desktop\\synthcity\\src\\synthcity\\plugins\\core\\plugin.py:347\u001b[0m, in \u001b[0;36mPlugin.generate\u001b[1;34m(self, count, constraints, random_state, **kwargs)\u001b[0m\n\u001b[0;32m    344\u001b[0m \u001b[38;5;28;01mif\u001b[39;00m constraints \u001b[38;5;129;01mis\u001b[39;00m \u001b[38;5;129;01mnot\u001b[39;00m \u001b[38;5;28;01mNone\u001b[39;00m:\n\u001b[0;32m    345\u001b[0m     gen_constraints \u001b[38;5;241m=\u001b[39m gen_constraints\u001b[38;5;241m.\u001b[39mextend(constraints)\n\u001b[1;32m--> 347\u001b[0m syn_schema \u001b[38;5;241m=\u001b[39m \u001b[43mSchema\u001b[49m\u001b[38;5;241;43m.\u001b[39;49m\u001b[43mfrom_constraints\u001b[49m\u001b[43m(\u001b[49m\u001b[43mgen_constraints\u001b[49m\u001b[43m)\u001b[49m\n\u001b[0;32m    349\u001b[0m X_syn \u001b[38;5;241m=\u001b[39m \u001b[38;5;28mself\u001b[39m\u001b[38;5;241m.\u001b[39m_generate(count\u001b[38;5;241m=\u001b[39mcount, syn_schema\u001b[38;5;241m=\u001b[39msyn_schema, \u001b[38;5;241m*\u001b[39m\u001b[38;5;241m*\u001b[39mkwargs)\n\u001b[0;32m    351\u001b[0m \u001b[38;5;28;01mif\u001b[39;00m X_syn\u001b[38;5;241m.\u001b[39mis_tabular():\n",
      "File \u001b[1;32m~\\Desktop\\synthcity\\src\\synthcity\\plugins\\core\\schema.py:213\u001b[0m, in \u001b[0;36mSchema.from_constraints\u001b[1;34m(cls, constraints)\u001b[0m\n\u001b[0;32m    211\u001b[0m \u001b[38;5;28;01mif\u001b[39;00m dtype \u001b[38;5;241m==\u001b[39m \u001b[38;5;124m\"\u001b[39m\u001b[38;5;124mfloat\u001b[39m\u001b[38;5;124m\"\u001b[39m:\n\u001b[0;32m    212\u001b[0m     \u001b[38;5;28;01mif\u001b[39;00m params[\u001b[38;5;124m\"\u001b[39m\u001b[38;5;124mlow\u001b[39m\u001b[38;5;124m\"\u001b[39m] \u001b[38;5;129;01mis\u001b[39;00m \u001b[38;5;28;01mNone\u001b[39;00m \u001b[38;5;129;01mor\u001b[39;00m params[\u001b[38;5;124m\"\u001b[39m\u001b[38;5;124mhigh\u001b[39m\u001b[38;5;124m\"\u001b[39m] \u001b[38;5;129;01mis\u001b[39;00m \u001b[38;5;28;01mNone\u001b[39;00m:\n\u001b[1;32m--> 213\u001b[0m         \u001b[38;5;28;01mraise\u001b[39;00m \u001b[38;5;167;01mValueError\u001b[39;00m(\n\u001b[0;32m    214\u001b[0m             \u001b[38;5;124mf\u001b[39m\u001b[38;5;124m\"\u001b[39m\u001b[38;5;124mCannot create FloatDistribution for \u001b[39m\u001b[38;5;124m'\u001b[39m\u001b[38;5;132;01m{\u001b[39;00mfeature\u001b[38;5;132;01m}\u001b[39;00m\u001b[38;5;124m'\u001b[39m\u001b[38;5;124m without \u001b[39m\u001b[38;5;124m'\u001b[39m\u001b[38;5;124mlow\u001b[39m\u001b[38;5;124m'\u001b[39m\u001b[38;5;124m and \u001b[39m\u001b[38;5;124m'\u001b[39m\u001b[38;5;124mhigh\u001b[39m\u001b[38;5;124m'\u001b[39m\u001b[38;5;124m values.\u001b[39m\u001b[38;5;124m\"\u001b[39m\n\u001b[0;32m    215\u001b[0m         )\n\u001b[0;32m    216\u001b[0m     domain[feature] \u001b[38;5;241m=\u001b[39m FloatDistribution(\n\u001b[0;32m    217\u001b[0m         name\u001b[38;5;241m=\u001b[39mparams[\u001b[38;5;124m\"\u001b[39m\u001b[38;5;124mname\u001b[39m\u001b[38;5;124m\"\u001b[39m],\n\u001b[0;32m    218\u001b[0m         random_state\u001b[38;5;241m=\u001b[39mparams[\u001b[38;5;124m\"\u001b[39m\u001b[38;5;124mrandom_state\u001b[39m\u001b[38;5;124m\"\u001b[39m],\n\u001b[0;32m    219\u001b[0m         low\u001b[38;5;241m=\u001b[39mparams[\u001b[38;5;124m\"\u001b[39m\u001b[38;5;124mlow\u001b[39m\u001b[38;5;124m\"\u001b[39m],\n\u001b[0;32m    220\u001b[0m         high\u001b[38;5;241m=\u001b[39mparams[\u001b[38;5;124m\"\u001b[39m\u001b[38;5;124mhigh\u001b[39m\u001b[38;5;124m\"\u001b[39m],\n\u001b[0;32m    221\u001b[0m     )\n\u001b[0;32m    222\u001b[0m \u001b[38;5;28;01melif\u001b[39;00m dtype \u001b[38;5;241m==\u001b[39m \u001b[38;5;124m\"\u001b[39m\u001b[38;5;124mint\u001b[39m\u001b[38;5;124m\"\u001b[39m:\n",
      "\u001b[1;31mValueError\u001b[0m: Cannot create FloatDistribution for 'age' without 'low' and 'high' values."
     ]
    }
   ],
   "source": [
    "constraints = {\n",
    "  \"target\":[\n",
    "    (\"bmi\", \">\", 0.15),\n",
    "    (\"target\", \">\", 0)\n",
    "  ]\n",
    "}\n",
    "\n",
    "# 여기서 X=loader 를 함께 넘긴다고 가정\n",
    "synthetic_loader = syn_model.generate(\n",
    "    count=len(df),\n",
    "    constraints=constraints,\n",
    "    X=loader  # <-- 꼭 넣어주세요!\n",
    ")\n",
    "\n",
    "# 6) 결과\n",
    "synthetic_df = synthetic_loader.dataframe()\n",
    "print(synthetic_df.head())"
   ]
  },
  {
   "cell_type": "code",
   "execution_count": null,
   "metadata": {},
   "outputs": [],
   "source": []
  },
  {
   "cell_type": "code",
   "execution_count": null,
   "metadata": {},
   "outputs": [],
   "source": [
    "# third party\n",
    "import matplotlib.pyplot as plt\n",
    "\n",
    "syn_model.plot(plt, loader)\n",
    "\n",
    "plt.show()"
   ]
  },
  {
   "cell_type": "markdown",
   "metadata": {},
   "source": [
    "## Benchmarking metrics\n",
    "\n",
    "| **Metric**                                         | **Description**                                                                                                            |\n",
    "|----------------------------------------------------|----------------------------------------------------------------------------------------------------------------------------|\n",
    "| sanity.data\\_mismatch.score                        | Data types mismatch between the real//synthetic features                                                                   |\n",
    "| sanity.common\\_rows\\_proportion.score              | Real data copy-paste in the synthetic data                                                                                 |\n",
    "| sanity.nearest\\_syn\\_neighbor\\_distance.mean       | Computes the \\textless{}reduction\\textgreater{}(distance) from the real data to the closest neighbor in the synthetic data |\n",
    "| sanity.close\\_values\\_probability.score            | the probability of close values between the real and synthetic data.                                                       |\n",
    "| sanity.distant\\_values\\_probability.score          | the probability of distant values between the real and synthetic data.                                                     |\n",
    "| stats.jensenshannon\\_dist.marginal                 | the average Jensen-Shannon distance                                                                                        |\n",
    "| stats.chi\\_squared\\_test.marginal                  | the one-way chi-square test.                                                                                               |\n",
    "| stats.feature\\_corr.joint                          | the correlation/strength-of-association of features in data-set with both categorical and continuous features              |\n",
    "| stats.inv\\_kl\\_divergence.marginal                 | the average inverse of the Kullback–Leibler Divergence metric.                                                             |\n",
    "| stats.ks\\_test.marginal                            | the Kolmogorov-Smirnov test for goodness of fit.                                                                           |\n",
    "| stats.max\\_mean\\_discrepancy.joint                 | Empirical maximum mean discrepancy. The lower the result the more evidence that distributions are the same.                |\n",
    "| stats.prdc.precision                               | precision between the two manifolds                                                                                        |\n",
    "| stats.prdc.recall                                  | recall between the two manifolds                                                                                           |\n",
    "| stats.prdc.density                                 | density between the two manifolds                                                                                          |\n",
    "| stats.prdc.coverage                                | coverage between the two manifolds                                                                                         |\n",
    "| stats.alpha\\_precision.delta\\_precision\\_alpha\\_OC | Delta precision                                                                                                            |\n",
    "| stats.alpha\\_precision.delta\\_coverage\\_beta\\_OC   | Delta coverage                                                                                                             |\n",
    "| stats.alpha\\_precision.authenticity\\_OC            | Authetnticity                                                                                                              |\n",
    "| stats.survival\\_km\\_distance.optimism              | Kaplan-Meier distance between real-synthetic data                                                                          |\n",
    "| stats.survival\\_km\\_distance.abs\\_optimism         | Kaplan-Meier metrics absolute distance between real-syn data                                                               |\n",
    "| stats.survival\\_km\\_distance.sightedness           | Kaplan-Meier metrics distance on the temporal axis                                                                         |\n",
    "| performance.linear\\_model.gt.c\\_index              | Train on real, test on the test real data using CoxPH: C-Index                                                             |\n",
    "| performance.linear\\_model.gt.brier\\_score          | Train on real, test on the test real data using CoxPH: Brier score                                                         |\n",
    "| performance.linear\\_model.syn\\_id.c\\_index         | Train on synthetic, test on the train real data using CoxPH: C-Index                                                       |\n",
    "| performance.linear\\_model.syn\\_id.brier\\_score     | Train on synthetic, test on the train real data using CoxPH: Brier score                                                   |\n",
    "| performance.linear\\_model.syn\\_ood.c\\_index        | Train on synthetic, test on the test real data using CoxPH: C-Index                                                        |\n",
    "| performance.linear\\_model.syn\\_ood.brier\\_score    | Train on synthetic, test on the test real data using CoxPH: Brier score                                                    |\n",
    "| performance.mlp.gt.c\\_index                        | Train on real, test on the test real data using NN: C-Index                                                                |\n",
    "| performance.mlp.gt.brier\\_score                    | Train on real, test on the test real data using NN : Brier score                                                           |\n",
    "| performance.mlp.syn\\_id.c\\_index                   | Train on synthetic, test on the train real data using NN: C-Index                                                          |\n",
    "| performance.mlp.syn\\_id.brier\\_score               | Train on synthetic, test on the train real data using NN: Brier score                                                      |\n",
    "| performance.mlp.syn\\_ood.c\\_index                  | Train on synthetic, test on the test real data using NN: C-Index                                                           |\n",
    "| performance.mlp.syn\\_ood.brier\\_score              | Train on synthetic, test on the test real data using NN: Brier score                                                       |\n",
    "| performance.xgb.gt.c\\_index                        | Train on real, test on the test real data using XGB: C-Index                                                               |\n",
    "| performance.xgb.gt.brier\\_score                    | Train on real, test on the test real data using XGB : Brier score                                                          |\n",
    "| performance.xgb.syn\\_id.c\\_index                   | Train on synthetic, test on the train real data using XGB: C-Index                                                         |\n",
    "| performance.xgb.syn\\_id.brier\\_score               | Train on synthetic, test on the train real data using XGB: Brier score                                                     |\n",
    "| performance.xgb.syn\\_ood.c\\_index                  | Train on synthetic, test on the test real data using XGB: C-Index                                                          |\n",
    "| performance.xgb.syn\\_ood.brier\\_score              | Train on synthetic, test on the test real data using XGB: Brier score                                                      |\n",
    "| performance.feat\\_rank\\_distance.corr              | Correlation for the rank distances between the feature importance on real and synthetic data                               |\n",
    "| performance.feat\\_rank\\_distance.pvalue            | p-vale for the rank distances between the feature importance on real and synthetic data                                    |\n",
    "| detection.detection\\_xgb.mean                      | The average AUCROC score for detecting synthetic data using an XGBoost.                                                    |\n",
    "| detection.detection\\_mlp.mean                      | The average AUCROC score for detecting synthetic data using a NN.                                                          |\n",
    "| detection.detection\\_gmm.mean                      | The average AUCROC score for detecting synthetic data using a GMM.                                                         |\n",
    "| privacy.delta-presence.score                       | the maximum re-identification probability on the real dataset from the synthetic dataset.                                  |\n",
    "| privacy.k-anonymization.gt                         | the k-anon for the real data                                                                                               |\n",
    "| privacy.k-anonymization.syn                        | the k-anon for the synthetic data                                                                                          |\n",
    "| privacy.k-map.score                                | the minimum value k that satisfies the k-map rule.                                                                         |\n",
    "| privacy.distinct l-diversity.gt                    | the l-diversity for the real data                                                                                          |\n",
    "| privacy.distinct l-diversity.syn                   | the l-diversity for the synthetic data                                                                                     |\n",
    "| privacy.identifiability\\_score.score               | the re-identification score on the real dataset from the synthetic dataset.                                                |"
   ]
  },
  {
   "cell_type": "markdown",
   "metadata": {},
   "source": [
    "## Benchmark the quality of plugins\n",
    "\n",
    "For survival analysis, general purpose generators can be used as well."
   ]
  },
  {
   "cell_type": "code",
   "execution_count": null,
   "metadata": {},
   "outputs": [],
   "source": [
    "# synthcity absolute\n",
    "from synthcity.benchmark import Benchmarks\n",
    "\n",
    "score = Benchmarks.evaluate(\n",
    "    [(f\"test_{model}\", model, {}) for model in [\"syn_seq\", \"ctgan\"]],\n",
    "    loader,\n",
    "    synthetic_size=1000,\n",
    "    repeats=2,\n",
    "    task_type=\"survival_analysis\",\n",
    ")"
   ]
  },
  {
   "cell_type": "markdown",
   "metadata": {},
   "source": [
    "## Congratulations!\n",
    "\n",
    "Congratulations on completing this notebook tutorial! If you enjoyed this and would like to join the movement towards Machine learning and AI for medicine, you can do so in the following ways!\n",
    "\n",
    "### Star [Synthcity](https://github.com/vanderschaarlab/synthcity) on GitHub\n",
    "\n",
    "- The easiest way to help our community is just by starring the Repos! This helps raise awareness of the tools we're building.\n",
    "\n",
    "\n",
    "### Checkout other projects from vanderschaarlab\n",
    "- [HyperImpute](https://github.com/vanderschaarlab/hyperimpute)\n",
    "- [AutoPrognosis](https://github.com/vanderschaarlab/autoprognosis)\n"
   ]
  },
  {
   "cell_type": "code",
   "execution_count": null,
   "metadata": {},
   "outputs": [],
   "source": []
  }
 ],
 "metadata": {
  "kernelspec": {
   "display_name": "syn_seq",
   "language": "python",
   "name": "python3"
  },
  "language_info": {
   "codemirror_mode": {
    "name": "ipython",
    "version": 3
   },
   "file_extension": ".py",
   "mimetype": "text/x-python",
   "name": "python",
   "nbconvert_exporter": "python",
   "pygments_lexer": "ipython3",
   "version": "3.9.21"
  }
 },
 "nbformat": 4,
 "nbformat_minor": 2
}
