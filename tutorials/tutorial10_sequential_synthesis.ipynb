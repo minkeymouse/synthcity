{
 "cells": [
  {
   "cell_type": "markdown",
   "metadata": {
    "vscode": {
     "languageId": "plaintext"
    }
   },
   "source": [
    "# Tutorial 10: Sequential Synthesis\n",
    "In this tutorial, we explore the **Sequential Synthesis** approach using\n",
    "the `syn_seq` plugin in `synthcity`. Sequential synthesis allows us to\n",
    "model variables one-by-one (column-by-column), using conditional relationships\n",
    "learned from the real data. The main idea is:\n",
    "1. Synthesize the first variable (often with sample-without-replacement, \"SWR\"),\n",
    "2. Then synthesize the second variable conditioned on the first,\n",
    "3. And so on for each subsequent variable.\n",
    "This approach can better preserve complex dependencies among columns than\n",
    "simple marginal or naive methods.\n",
    "We'll demonstrate this using the **diabetes** dataset, just like other tutorials,\n",
    "and compare the resulting synthetic data.\n"
   ]
  },
  {
   "cell_type": "code",
   "execution_count": 1,
   "metadata": {},
   "outputs": [
    {
     "name": "stdout",
     "output_type": "stream",
     "text": [
      "Requirement already satisfied: synthcity in /Users/minkeychang/anaconda3/envs/syn_seq/lib/python3.9/site-packages (0.2.11)\n",
      "Requirement already satisfied: importlib-metadata in /Users/minkeychang/anaconda3/envs/syn_seq/lib/python3.9/site-packages (from synthcity) (8.5.0)\n",
      "Requirement already satisfied: pandas>=2.1 in /Users/minkeychang/anaconda3/envs/syn_seq/lib/python3.9/site-packages (from synthcity) (2.2.3)\n",
      "Requirement already satisfied: torch<2.3,>=2.1 in /Users/minkeychang/anaconda3/envs/syn_seq/lib/python3.9/site-packages (from synthcity) (2.2.2)\n",
      "Requirement already satisfied: scikit-learn>=1.2 in /Users/minkeychang/anaconda3/envs/syn_seq/lib/python3.9/site-packages (from synthcity) (1.6.0)\n",
      "Requirement already satisfied: nflows>=0.14 in /Users/minkeychang/anaconda3/envs/syn_seq/lib/python3.9/site-packages (from synthcity) (0.14)\n",
      "Requirement already satisfied: numpy<2.0,>=1.20 in /Users/minkeychang/anaconda3/envs/syn_seq/lib/python3.9/site-packages (from synthcity) (1.26.4)\n",
      "Requirement already satisfied: lifelines<0.30.0,>=0.29.0 in /Users/minkeychang/anaconda3/envs/syn_seq/lib/python3.9/site-packages (from synthcity) (0.29.0)\n",
      "Requirement already satisfied: opacus>=1.3 in /Users/minkeychang/anaconda3/envs/syn_seq/lib/python3.9/site-packages (from synthcity) (1.5.2)\n",
      "Requirement already satisfied: networkx<3.0,>2.0 in /Users/minkeychang/anaconda3/envs/syn_seq/lib/python3.9/site-packages (from synthcity) (2.8.8)\n",
      "Requirement already satisfied: decaf-synthetic-data>=0.1.6 in /Users/minkeychang/anaconda3/envs/syn_seq/lib/python3.9/site-packages (from synthcity) (0.1.6)\n",
      "Requirement already satisfied: optuna>=3.1 in /Users/minkeychang/anaconda3/envs/syn_seq/lib/python3.9/site-packages (from synthcity) (4.1.0)\n",
      "Requirement already satisfied: shap in /Users/minkeychang/anaconda3/envs/syn_seq/lib/python3.9/site-packages (from synthcity) (0.46.0)\n",
      "Requirement already satisfied: tenacity in /Users/minkeychang/anaconda3/envs/syn_seq/lib/python3.9/site-packages (from synthcity) (9.0.0)\n",
      "Requirement already satisfied: tqdm in /Users/minkeychang/anaconda3/envs/syn_seq/lib/python3.9/site-packages (from synthcity) (4.67.1)\n",
      "Requirement already satisfied: loguru in /Users/minkeychang/anaconda3/envs/syn_seq/lib/python3.9/site-packages (from synthcity) (0.7.3)\n",
      "Requirement already satisfied: pydantic>=2.0 in /Users/minkeychang/anaconda3/envs/syn_seq/lib/python3.9/site-packages (from synthcity) (2.10.4)\n",
      "Requirement already satisfied: cloudpickle in /Users/minkeychang/anaconda3/envs/syn_seq/lib/python3.9/site-packages (from synthcity) (3.1.0)\n",
      "Requirement already satisfied: scipy in /Users/minkeychang/anaconda3/envs/syn_seq/lib/python3.9/site-packages (from synthcity) (1.13.1)\n",
      "Requirement already satisfied: xgboost<3.0.0 in /Users/minkeychang/anaconda3/envs/syn_seq/lib/python3.9/site-packages (from synthcity) (2.1.3)\n",
      "Requirement already satisfied: geomloss in /Users/minkeychang/anaconda3/envs/syn_seq/lib/python3.9/site-packages (from synthcity) (0.2.6)\n",
      "Requirement already satisfied: pgmpy in /Users/minkeychang/anaconda3/envs/syn_seq/lib/python3.9/site-packages (from synthcity) (0.1.26)\n",
      "Requirement already satisfied: redis in /Users/minkeychang/anaconda3/envs/syn_seq/lib/python3.9/site-packages (from synthcity) (5.2.1)\n",
      "Requirement already satisfied: pycox in /Users/minkeychang/anaconda3/envs/syn_seq/lib/python3.9/site-packages (from synthcity) (0.3.0)\n",
      "Requirement already satisfied: xgbse>=0.3.1 in /Users/minkeychang/anaconda3/envs/syn_seq/lib/python3.9/site-packages (from synthcity) (0.3.3)\n",
      "Requirement already satisfied: pykeops in /Users/minkeychang/anaconda3/envs/syn_seq/lib/python3.9/site-packages (from synthcity) (2.2.3)\n",
      "Requirement already satisfied: fflows in /Users/minkeychang/anaconda3/envs/syn_seq/lib/python3.9/site-packages (from synthcity) (0.0.3)\n",
      "Requirement already satisfied: monai in /Users/minkeychang/anaconda3/envs/syn_seq/lib/python3.9/site-packages (from synthcity) (1.4.0)\n",
      "Requirement already satisfied: tsai in /Users/minkeychang/anaconda3/envs/syn_seq/lib/python3.9/site-packages (from synthcity) (0.3.9)\n",
      "Requirement already satisfied: be-great>=0.0.5 in /Users/minkeychang/anaconda3/envs/syn_seq/lib/python3.9/site-packages (from synthcity) (0.0.8)\n",
      "Requirement already satisfied: arfpy in /Users/minkeychang/anaconda3/envs/syn_seq/lib/python3.9/site-packages (from synthcity) (0.1.1)\n",
      "Requirement already satisfied: datasets>=2.5.2 in /Users/minkeychang/anaconda3/envs/syn_seq/lib/python3.9/site-packages (from be-great>=0.0.5->synthcity) (3.2.0)\n",
      "Requirement already satisfied: transformers>=4.22.1 in /Users/minkeychang/anaconda3/envs/syn_seq/lib/python3.9/site-packages (from be-great>=0.0.5->synthcity) (4.47.1)\n",
      "Requirement already satisfied: accelerate>=0.20.1 in /Users/minkeychang/anaconda3/envs/syn_seq/lib/python3.9/site-packages (from be-great>=0.0.5->synthcity) (1.2.1)\n",
      "Requirement already satisfied: pytorch-lightning<2.0 in /Users/minkeychang/anaconda3/envs/syn_seq/lib/python3.9/site-packages (from decaf-synthetic-data>=0.1.6->synthcity) (1.9.5)\n",
      "Requirement already satisfied: torchtext>=0.10 in /Users/minkeychang/anaconda3/envs/syn_seq/lib/python3.9/site-packages (from decaf-synthetic-data>=0.1.6->synthcity) (0.17.2)\n",
      "Requirement already satisfied: matplotlib>=3.0 in /Users/minkeychang/anaconda3/envs/syn_seq/lib/python3.9/site-packages (from lifelines<0.30.0,>=0.29.0->synthcity) (3.9.4)\n",
      "Requirement already satisfied: autograd>=1.5 in /Users/minkeychang/anaconda3/envs/syn_seq/lib/python3.9/site-packages (from lifelines<0.30.0,>=0.29.0->synthcity) (1.7.0)\n",
      "Requirement already satisfied: autograd-gamma>=0.3 in /Users/minkeychang/anaconda3/envs/syn_seq/lib/python3.9/site-packages (from lifelines<0.30.0,>=0.29.0->synthcity) (0.5.0)\n",
      "Requirement already satisfied: formulaic>=0.2.2 in /Users/minkeychang/anaconda3/envs/syn_seq/lib/python3.9/site-packages (from lifelines<0.30.0,>=0.29.0->synthcity) (1.1.1)\n",
      "Requirement already satisfied: tensorboard in /Users/minkeychang/anaconda3/envs/syn_seq/lib/python3.9/site-packages (from nflows>=0.14->synthcity) (2.18.0)\n",
      "Requirement already satisfied: opt-einsum>=3.3.0 in /Users/minkeychang/anaconda3/envs/syn_seq/lib/python3.9/site-packages (from opacus>=1.3->synthcity) (3.4.0)\n",
      "Requirement already satisfied: alembic>=1.5.0 in /Users/minkeychang/anaconda3/envs/syn_seq/lib/python3.9/site-packages (from optuna>=3.1->synthcity) (1.14.0)\n",
      "Requirement already satisfied: colorlog in /Users/minkeychang/anaconda3/envs/syn_seq/lib/python3.9/site-packages (from optuna>=3.1->synthcity) (6.9.0)\n",
      "Requirement already satisfied: packaging>=20.0 in /Users/minkeychang/anaconda3/envs/syn_seq/lib/python3.9/site-packages (from optuna>=3.1->synthcity) (24.2)\n",
      "Requirement already satisfied: sqlalchemy>=1.4.2 in /Users/minkeychang/anaconda3/envs/syn_seq/lib/python3.9/site-packages (from optuna>=3.1->synthcity) (2.0.36)\n",
      "Requirement already satisfied: PyYAML in /Users/minkeychang/anaconda3/envs/syn_seq/lib/python3.9/site-packages (from optuna>=3.1->synthcity) (6.0.2)\n",
      "Requirement already satisfied: python-dateutil>=2.8.2 in /Users/minkeychang/anaconda3/envs/syn_seq/lib/python3.9/site-packages (from pandas>=2.1->synthcity) (2.9.0.post0)\n",
      "Requirement already satisfied: pytz>=2020.1 in /Users/minkeychang/anaconda3/envs/syn_seq/lib/python3.9/site-packages (from pandas>=2.1->synthcity) (2024.2)\n",
      "Requirement already satisfied: tzdata>=2022.7 in /Users/minkeychang/anaconda3/envs/syn_seq/lib/python3.9/site-packages (from pandas>=2.1->synthcity) (2024.2)\n",
      "Requirement already satisfied: annotated-types>=0.6.0 in /Users/minkeychang/anaconda3/envs/syn_seq/lib/python3.9/site-packages (from pydantic>=2.0->synthcity) (0.7.0)\n",
      "Requirement already satisfied: pydantic-core==2.27.2 in /Users/minkeychang/anaconda3/envs/syn_seq/lib/python3.9/site-packages (from pydantic>=2.0->synthcity) (2.27.2)\n",
      "Requirement already satisfied: typing-extensions>=4.12.2 in /Users/minkeychang/anaconda3/envs/syn_seq/lib/python3.9/site-packages (from pydantic>=2.0->synthcity) (4.12.2)\n",
      "Requirement already satisfied: joblib>=1.2.0 in /Users/minkeychang/anaconda3/envs/syn_seq/lib/python3.9/site-packages (from scikit-learn>=1.2->synthcity) (1.4.2)\n",
      "Requirement already satisfied: threadpoolctl>=3.1.0 in /Users/minkeychang/anaconda3/envs/syn_seq/lib/python3.9/site-packages (from scikit-learn>=1.2->synthcity) (3.5.0)\n",
      "Requirement already satisfied: filelock in /Users/minkeychang/anaconda3/envs/syn_seq/lib/python3.9/site-packages (from torch<2.3,>=2.1->synthcity) (3.16.1)\n",
      "Requirement already satisfied: sympy in /Users/minkeychang/anaconda3/envs/syn_seq/lib/python3.9/site-packages (from torch<2.3,>=2.1->synthcity) (1.13.3)\n",
      "Requirement already satisfied: jinja2 in /Users/minkeychang/anaconda3/envs/syn_seq/lib/python3.9/site-packages (from torch<2.3,>=2.1->synthcity) (3.1.5)\n",
      "Requirement already satisfied: fsspec in /Users/minkeychang/anaconda3/envs/syn_seq/lib/python3.9/site-packages (from torch<2.3,>=2.1->synthcity) (2024.9.0)\n",
      "Requirement already satisfied: zipp>=3.20 in /Users/minkeychang/anaconda3/envs/syn_seq/lib/python3.9/site-packages (from importlib-metadata->synthcity) (3.21.0)\n",
      "Requirement already satisfied: pyparsing in /Users/minkeychang/anaconda3/envs/syn_seq/lib/python3.9/site-packages (from pgmpy->synthcity) (3.2.1)\n",
      "Requirement already satisfied: statsmodels in /Users/minkeychang/anaconda3/envs/syn_seq/lib/python3.9/site-packages (from pgmpy->synthcity) (0.14.4)\n",
      "Requirement already satisfied: google-generativeai in /Users/minkeychang/anaconda3/envs/syn_seq/lib/python3.9/site-packages (from pgmpy->synthcity) (0.8.3)\n",
      "Requirement already satisfied: torchtuples>=0.2.0 in /Users/minkeychang/anaconda3/envs/syn_seq/lib/python3.9/site-packages (from pycox->synthcity) (0.2.2)\n",
      "Requirement already satisfied: feather-format>=0.4.0 in /Users/minkeychang/anaconda3/envs/syn_seq/lib/python3.9/site-packages (from pycox->synthcity) (0.4.1)\n",
      "Requirement already satisfied: h5py>=2.9.0 in /Users/minkeychang/anaconda3/envs/syn_seq/lib/python3.9/site-packages (from pycox->synthcity) (3.12.1)\n",
      "Requirement already satisfied: numba>=0.44 in /Users/minkeychang/anaconda3/envs/syn_seq/lib/python3.9/site-packages (from pycox->synthcity) (0.60.0)\n",
      "Requirement already satisfied: requests>=2.22.0 in /Users/minkeychang/anaconda3/envs/syn_seq/lib/python3.9/site-packages (from pycox->synthcity) (2.32.3)\n",
      "Requirement already satisfied: py7zr>=0.11.3 in /Users/minkeychang/anaconda3/envs/syn_seq/lib/python3.9/site-packages (from pycox->synthcity) (0.22.0)\n",
      "Requirement already satisfied: pybind11 in /Users/minkeychang/anaconda3/envs/syn_seq/lib/python3.9/site-packages (from pykeops->synthcity) (2.13.6)\n",
      "Requirement already satisfied: keopscore==2.2.3 in /Users/minkeychang/anaconda3/envs/syn_seq/lib/python3.9/site-packages (from pykeops->synthcity) (2.2.3)\n",
      "Requirement already satisfied: async-timeout>=4.0.3 in /Users/minkeychang/anaconda3/envs/syn_seq/lib/python3.9/site-packages (from redis->synthcity) (5.0.1)\n",
      "Requirement already satisfied: slicer==0.0.8 in /Users/minkeychang/anaconda3/envs/syn_seq/lib/python3.9/site-packages (from shap->synthcity) (0.0.8)\n",
      "Requirement already satisfied: fastai>=2.7.14 in /Users/minkeychang/anaconda3/envs/syn_seq/lib/python3.9/site-packages (from tsai->synthcity) (2.7.18)\n",
      "Requirement already satisfied: pyts>=0.12.0 in /Users/minkeychang/anaconda3/envs/syn_seq/lib/python3.9/site-packages (from tsai->synthcity) (0.13.0)\n",
      "Requirement already satisfied: imbalanced-learn>=0.11.0 in /Users/minkeychang/anaconda3/envs/syn_seq/lib/python3.9/site-packages (from tsai->synthcity) (0.12.4)\n",
      "Requirement already satisfied: psutil>=5.4.8 in /Users/minkeychang/anaconda3/envs/syn_seq/lib/python3.9/site-packages (from tsai->synthcity) (5.8.0)\n",
      "Requirement already satisfied: huggingface-hub>=0.21.0 in /Users/minkeychang/anaconda3/envs/syn_seq/lib/python3.9/site-packages (from accelerate>=0.20.1->be-great>=0.0.5->synthcity) (0.27.0)\n",
      "Requirement already satisfied: safetensors>=0.4.3 in /Users/minkeychang/anaconda3/envs/syn_seq/lib/python3.9/site-packages (from accelerate>=0.20.1->be-great>=0.0.5->synthcity) (0.5.0)\n",
      "Requirement already satisfied: Mako in /Users/minkeychang/anaconda3/envs/syn_seq/lib/python3.9/site-packages (from alembic>=1.5.0->optuna>=3.1->synthcity) (1.3.8)\n",
      "Requirement already satisfied: pyarrow>=15.0.0 in /Users/minkeychang/anaconda3/envs/syn_seq/lib/python3.9/site-packages (from datasets>=2.5.2->be-great>=0.0.5->synthcity) (18.1.0)\n",
      "Requirement already satisfied: dill<0.3.9,>=0.3.0 in /Users/minkeychang/anaconda3/envs/syn_seq/lib/python3.9/site-packages (from datasets>=2.5.2->be-great>=0.0.5->synthcity) (0.3.8)\n",
      "Requirement already satisfied: xxhash in /Users/minkeychang/anaconda3/envs/syn_seq/lib/python3.9/site-packages (from datasets>=2.5.2->be-great>=0.0.5->synthcity) (3.5.0)\n",
      "Requirement already satisfied: multiprocess<0.70.17 in /Users/minkeychang/anaconda3/envs/syn_seq/lib/python3.9/site-packages (from datasets>=2.5.2->be-great>=0.0.5->synthcity) (0.70.16)\n",
      "Requirement already satisfied: aiohttp in /Users/minkeychang/anaconda3/envs/syn_seq/lib/python3.9/site-packages (from datasets>=2.5.2->be-great>=0.0.5->synthcity) (3.11.11)\n",
      "Requirement already satisfied: pip in /Users/minkeychang/anaconda3/envs/syn_seq/lib/python3.9/site-packages (from fastai>=2.7.14->tsai->synthcity) (24.2)\n",
      "Requirement already satisfied: fastdownload<2,>=0.0.5 in /Users/minkeychang/anaconda3/envs/syn_seq/lib/python3.9/site-packages (from fastai>=2.7.14->tsai->synthcity) (0.0.7)\n",
      "Requirement already satisfied: fastcore<1.8,>=1.5.29 in /Users/minkeychang/anaconda3/envs/syn_seq/lib/python3.9/site-packages (from fastai>=2.7.14->tsai->synthcity) (1.7.28)\n",
      "Requirement already satisfied: torchvision>=0.11 in /Users/minkeychang/anaconda3/envs/syn_seq/lib/python3.9/site-packages (from fastai>=2.7.14->tsai->synthcity) (0.17.2)\n",
      "Requirement already satisfied: fastprogress>=0.2.4 in /Users/minkeychang/anaconda3/envs/syn_seq/lib/python3.9/site-packages (from fastai>=2.7.14->tsai->synthcity) (1.0.3)\n",
      "Requirement already satisfied: pillow>=9.0.0 in /Users/minkeychang/anaconda3/envs/syn_seq/lib/python3.9/site-packages (from fastai>=2.7.14->tsai->synthcity) (11.1.0)\n",
      "Requirement already satisfied: spacy<4 in /Users/minkeychang/anaconda3/envs/syn_seq/lib/python3.9/site-packages (from fastai>=2.7.14->tsai->synthcity) (3.8.3)\n",
      "Requirement already satisfied: interface-meta>=1.2.0 in /Users/minkeychang/anaconda3/envs/syn_seq/lib/python3.9/site-packages (from formulaic>=0.2.2->lifelines<0.30.0,>=0.29.0->synthcity) (1.3.0)\n",
      "Requirement already satisfied: wrapt>=1.0 in /Users/minkeychang/anaconda3/envs/syn_seq/lib/python3.9/site-packages (from formulaic>=0.2.2->lifelines<0.30.0,>=0.29.0->synthcity) (1.17.0)\n",
      "Requirement already satisfied: contourpy>=1.0.1 in /Users/minkeychang/anaconda3/envs/syn_seq/lib/python3.9/site-packages (from matplotlib>=3.0->lifelines<0.30.0,>=0.29.0->synthcity) (1.3.0)\n",
      "Requirement already satisfied: cycler>=0.10 in /Users/minkeychang/anaconda3/envs/syn_seq/lib/python3.9/site-packages (from matplotlib>=3.0->lifelines<0.30.0,>=0.29.0->synthcity) (0.12.1)\n",
      "Requirement already satisfied: fonttools>=4.22.0 in /Users/minkeychang/anaconda3/envs/syn_seq/lib/python3.9/site-packages (from matplotlib>=3.0->lifelines<0.30.0,>=0.29.0->synthcity) (4.55.3)\n",
      "Requirement already satisfied: kiwisolver>=1.3.1 in /Users/minkeychang/anaconda3/envs/syn_seq/lib/python3.9/site-packages (from matplotlib>=3.0->lifelines<0.30.0,>=0.29.0->synthcity) (1.4.7)\n",
      "Requirement already satisfied: importlib-resources>=3.2.0 in /Users/minkeychang/anaconda3/envs/syn_seq/lib/python3.9/site-packages (from matplotlib>=3.0->lifelines<0.30.0,>=0.29.0->synthcity) (6.5.2)\n",
      "Requirement already satisfied: llvmlite<0.44,>=0.43.0dev0 in /Users/minkeychang/anaconda3/envs/syn_seq/lib/python3.9/site-packages (from numba>=0.44->pycox->synthcity) (0.43.0)\n",
      "Requirement already satisfied: texttable in /Users/minkeychang/anaconda3/envs/syn_seq/lib/python3.9/site-packages (from py7zr>=0.11.3->pycox->synthcity) (1.7.0)\n",
      "Requirement already satisfied: pycryptodomex>=3.16.0 in /Users/minkeychang/anaconda3/envs/syn_seq/lib/python3.9/site-packages (from py7zr>=0.11.3->pycox->synthcity) (3.21.0)\n",
      "Requirement already satisfied: pyzstd>=0.15.9 in /Users/minkeychang/anaconda3/envs/syn_seq/lib/python3.9/site-packages (from py7zr>=0.11.3->pycox->synthcity) (0.16.2)\n",
      "Requirement already satisfied: pyppmd<1.2.0,>=1.1.0 in /Users/minkeychang/anaconda3/envs/syn_seq/lib/python3.9/site-packages (from py7zr>=0.11.3->pycox->synthcity) (1.1.1)\n",
      "Requirement already satisfied: pybcj<1.1.0,>=1.0.0 in /Users/minkeychang/anaconda3/envs/syn_seq/lib/python3.9/site-packages (from py7zr>=0.11.3->pycox->synthcity) (1.0.3)\n",
      "Requirement already satisfied: multivolumefile>=0.2.3 in /Users/minkeychang/anaconda3/envs/syn_seq/lib/python3.9/site-packages (from py7zr>=0.11.3->pycox->synthcity) (0.2.3)\n",
      "Requirement already satisfied: inflate64<1.1.0,>=1.0.0 in /Users/minkeychang/anaconda3/envs/syn_seq/lib/python3.9/site-packages (from py7zr>=0.11.3->pycox->synthcity) (1.0.1)\n",
      "Requirement already satisfied: brotli>=1.1.0 in /Users/minkeychang/anaconda3/envs/syn_seq/lib/python3.9/site-packages (from py7zr>=0.11.3->pycox->synthcity) (1.1.0)\n",
      "Requirement already satisfied: six>=1.5 in /Users/minkeychang/anaconda3/envs/syn_seq/lib/python3.9/site-packages (from python-dateutil>=2.8.2->pandas>=2.1->synthcity) (1.17.0)\n",
      "Requirement already satisfied: torchmetrics>=0.7.0 in /Users/minkeychang/anaconda3/envs/syn_seq/lib/python3.9/site-packages (from pytorch-lightning<2.0->decaf-synthetic-data>=0.1.6->synthcity) (1.6.1)\n",
      "Requirement already satisfied: lightning-utilities>=0.6.0.post0 in /Users/minkeychang/anaconda3/envs/syn_seq/lib/python3.9/site-packages (from pytorch-lightning<2.0->decaf-synthetic-data>=0.1.6->synthcity) (0.11.9)\n",
      "Requirement already satisfied: charset-normalizer<4,>=2 in /Users/minkeychang/anaconda3/envs/syn_seq/lib/python3.9/site-packages (from requests>=2.22.0->pycox->synthcity) (3.4.1)\n",
      "Requirement already satisfied: idna<4,>=2.5 in /Users/minkeychang/anaconda3/envs/syn_seq/lib/python3.9/site-packages (from requests>=2.22.0->pycox->synthcity) (3.10)\n",
      "Requirement already satisfied: urllib3<3,>=1.21.1 in /Users/minkeychang/anaconda3/envs/syn_seq/lib/python3.9/site-packages (from requests>=2.22.0->pycox->synthcity) (2.3.0)\n",
      "Requirement already satisfied: certifi>=2017.4.17 in /Users/minkeychang/anaconda3/envs/syn_seq/lib/python3.9/site-packages (from requests>=2.22.0->pycox->synthcity) (2024.12.14)\n",
      "Requirement already satisfied: regex!=2019.12.17 in /Users/minkeychang/anaconda3/envs/syn_seq/lib/python3.9/site-packages (from transformers>=4.22.1->be-great>=0.0.5->synthcity) (2024.11.6)\n",
      "Requirement already satisfied: tokenizers<0.22,>=0.21 in /Users/minkeychang/anaconda3/envs/syn_seq/lib/python3.9/site-packages (from transformers>=4.22.1->be-great>=0.0.5->synthcity) (0.21.0)\n",
      "Requirement already satisfied: google-ai-generativelanguage==0.6.10 in /Users/minkeychang/anaconda3/envs/syn_seq/lib/python3.9/site-packages (from google-generativeai->pgmpy->synthcity) (0.6.10)\n",
      "Requirement already satisfied: google-api-core in /Users/minkeychang/anaconda3/envs/syn_seq/lib/python3.9/site-packages (from google-generativeai->pgmpy->synthcity) (2.24.0)\n",
      "Requirement already satisfied: google-api-python-client in /Users/minkeychang/anaconda3/envs/syn_seq/lib/python3.9/site-packages (from google-generativeai->pgmpy->synthcity) (2.157.0)\n",
      "Requirement already satisfied: google-auth>=2.15.0 in /Users/minkeychang/anaconda3/envs/syn_seq/lib/python3.9/site-packages (from google-generativeai->pgmpy->synthcity) (2.37.0)\n",
      "Requirement already satisfied: protobuf in /Users/minkeychang/anaconda3/envs/syn_seq/lib/python3.9/site-packages (from google-generativeai->pgmpy->synthcity) (5.29.2)\n",
      "Requirement already satisfied: proto-plus<2.0.0dev,>=1.22.3 in /Users/minkeychang/anaconda3/envs/syn_seq/lib/python3.9/site-packages (from google-ai-generativelanguage==0.6.10->google-generativeai->pgmpy->synthcity) (1.25.0)\n",
      "Requirement already satisfied: MarkupSafe>=2.0 in /Users/minkeychang/anaconda3/envs/syn_seq/lib/python3.9/site-packages (from jinja2->torch<2.3,>=2.1->synthcity) (3.0.2)\n",
      "Requirement already satisfied: patsy>=0.5.6 in /Users/minkeychang/anaconda3/envs/syn_seq/lib/python3.9/site-packages (from statsmodels->pgmpy->synthcity) (1.0.1)\n",
      "Requirement already satisfied: mpmath<1.4,>=1.1.0 in /Users/minkeychang/anaconda3/envs/syn_seq/lib/python3.9/site-packages (from sympy->torch<2.3,>=2.1->synthcity) (1.3.0)\n",
      "Requirement already satisfied: absl-py>=0.4 in /Users/minkeychang/anaconda3/envs/syn_seq/lib/python3.9/site-packages (from tensorboard->nflows>=0.14->synthcity) (2.1.0)\n",
      "Requirement already satisfied: grpcio>=1.48.2 in /Users/minkeychang/anaconda3/envs/syn_seq/lib/python3.9/site-packages (from tensorboard->nflows>=0.14->synthcity) (1.69.0)\n",
      "Requirement already satisfied: markdown>=2.6.8 in /Users/minkeychang/anaconda3/envs/syn_seq/lib/python3.9/site-packages (from tensorboard->nflows>=0.14->synthcity) (3.7)\n",
      "Requirement already satisfied: setuptools>=41.0.0 in /Users/minkeychang/anaconda3/envs/syn_seq/lib/python3.9/site-packages (from tensorboard->nflows>=0.14->synthcity) (75.1.0)\n",
      "Requirement already satisfied: tensorboard-data-server<0.8.0,>=0.7.0 in /Users/minkeychang/anaconda3/envs/syn_seq/lib/python3.9/site-packages (from tensorboard->nflows>=0.14->synthcity) (0.7.2)\n",
      "Requirement already satisfied: werkzeug>=1.0.1 in /Users/minkeychang/anaconda3/envs/syn_seq/lib/python3.9/site-packages (from tensorboard->nflows>=0.14->synthcity) (3.1.3)\n",
      "Requirement already satisfied: aiohappyeyeballs>=2.3.0 in /Users/minkeychang/anaconda3/envs/syn_seq/lib/python3.9/site-packages (from aiohttp->datasets>=2.5.2->be-great>=0.0.5->synthcity) (2.4.4)\n",
      "Requirement already satisfied: aiosignal>=1.1.2 in /Users/minkeychang/anaconda3/envs/syn_seq/lib/python3.9/site-packages (from aiohttp->datasets>=2.5.2->be-great>=0.0.5->synthcity) (1.3.2)\n",
      "Requirement already satisfied: attrs>=17.3.0 in /Users/minkeychang/anaconda3/envs/syn_seq/lib/python3.9/site-packages (from aiohttp->datasets>=2.5.2->be-great>=0.0.5->synthcity) (24.3.0)\n",
      "Requirement already satisfied: frozenlist>=1.1.1 in /Users/minkeychang/anaconda3/envs/syn_seq/lib/python3.9/site-packages (from aiohttp->datasets>=2.5.2->be-great>=0.0.5->synthcity) (1.5.0)\n",
      "Requirement already satisfied: multidict<7.0,>=4.5 in /Users/minkeychang/anaconda3/envs/syn_seq/lib/python3.9/site-packages (from aiohttp->datasets>=2.5.2->be-great>=0.0.5->synthcity) (6.1.0)\n",
      "Requirement already satisfied: propcache>=0.2.0 in /Users/minkeychang/anaconda3/envs/syn_seq/lib/python3.9/site-packages (from aiohttp->datasets>=2.5.2->be-great>=0.0.5->synthcity) (0.2.1)\n",
      "Requirement already satisfied: yarl<2.0,>=1.17.0 in /Users/minkeychang/anaconda3/envs/syn_seq/lib/python3.9/site-packages (from aiohttp->datasets>=2.5.2->be-great>=0.0.5->synthcity) (1.18.3)\n",
      "Requirement already satisfied: googleapis-common-protos<2.0.dev0,>=1.56.2 in /Users/minkeychang/anaconda3/envs/syn_seq/lib/python3.9/site-packages (from google-api-core->google-generativeai->pgmpy->synthcity) (1.66.0)\n",
      "Requirement already satisfied: cachetools<6.0,>=2.0.0 in /Users/minkeychang/anaconda3/envs/syn_seq/lib/python3.9/site-packages (from google-auth>=2.15.0->google-generativeai->pgmpy->synthcity) (5.5.0)\n",
      "Requirement already satisfied: pyasn1-modules>=0.2.1 in /Users/minkeychang/anaconda3/envs/syn_seq/lib/python3.9/site-packages (from google-auth>=2.15.0->google-generativeai->pgmpy->synthcity) (0.4.1)\n",
      "Requirement already satisfied: rsa<5,>=3.1.4 in /Users/minkeychang/anaconda3/envs/syn_seq/lib/python3.9/site-packages (from google-auth>=2.15.0->google-generativeai->pgmpy->synthcity) (4.9)\n",
      "Requirement already satisfied: spacy-legacy<3.1.0,>=3.0.11 in /Users/minkeychang/anaconda3/envs/syn_seq/lib/python3.9/site-packages (from spacy<4->fastai>=2.7.14->tsai->synthcity) (3.0.12)\n",
      "Requirement already satisfied: spacy-loggers<2.0.0,>=1.0.0 in /Users/minkeychang/anaconda3/envs/syn_seq/lib/python3.9/site-packages (from spacy<4->fastai>=2.7.14->tsai->synthcity) (1.0.5)\n",
      "Requirement already satisfied: murmurhash<1.1.0,>=0.28.0 in /Users/minkeychang/anaconda3/envs/syn_seq/lib/python3.9/site-packages (from spacy<4->fastai>=2.7.14->tsai->synthcity) (1.0.11)\n",
      "Requirement already satisfied: cymem<2.1.0,>=2.0.2 in /Users/minkeychang/anaconda3/envs/syn_seq/lib/python3.9/site-packages (from spacy<4->fastai>=2.7.14->tsai->synthcity) (2.0.10)\n",
      "Requirement already satisfied: preshed<3.1.0,>=3.0.2 in /Users/minkeychang/anaconda3/envs/syn_seq/lib/python3.9/site-packages (from spacy<4->fastai>=2.7.14->tsai->synthcity) (3.0.9)\n",
      "Requirement already satisfied: thinc<8.4.0,>=8.3.0 in /Users/minkeychang/anaconda3/envs/syn_seq/lib/python3.9/site-packages (from spacy<4->fastai>=2.7.14->tsai->synthcity) (8.3.3)\n",
      "Requirement already satisfied: wasabi<1.2.0,>=0.9.1 in /Users/minkeychang/anaconda3/envs/syn_seq/lib/python3.9/site-packages (from spacy<4->fastai>=2.7.14->tsai->synthcity) (1.1.3)\n",
      "Requirement already satisfied: srsly<3.0.0,>=2.4.3 in /Users/minkeychang/anaconda3/envs/syn_seq/lib/python3.9/site-packages (from spacy<4->fastai>=2.7.14->tsai->synthcity) (2.5.0)\n",
      "Requirement already satisfied: catalogue<2.1.0,>=2.0.6 in /Users/minkeychang/anaconda3/envs/syn_seq/lib/python3.9/site-packages (from spacy<4->fastai>=2.7.14->tsai->synthcity) (2.0.10)\n",
      "Requirement already satisfied: weasel<0.5.0,>=0.1.0 in /Users/minkeychang/anaconda3/envs/syn_seq/lib/python3.9/site-packages (from spacy<4->fastai>=2.7.14->tsai->synthcity) (0.4.1)\n",
      "Requirement already satisfied: typer<1.0.0,>=0.3.0 in /Users/minkeychang/anaconda3/envs/syn_seq/lib/python3.9/site-packages (from spacy<4->fastai>=2.7.14->tsai->synthcity) (0.15.1)\n",
      "Requirement already satisfied: langcodes<4.0.0,>=3.2.0 in /Users/minkeychang/anaconda3/envs/syn_seq/lib/python3.9/site-packages (from spacy<4->fastai>=2.7.14->tsai->synthcity) (3.5.0)\n",
      "Requirement already satisfied: httplib2<1.dev0,>=0.19.0 in /Users/minkeychang/anaconda3/envs/syn_seq/lib/python3.9/site-packages (from google-api-python-client->google-generativeai->pgmpy->synthcity) (0.22.0)\n",
      "Requirement already satisfied: google-auth-httplib2<1.0.0,>=0.2.0 in /Users/minkeychang/anaconda3/envs/syn_seq/lib/python3.9/site-packages (from google-api-python-client->google-generativeai->pgmpy->synthcity) (0.2.0)\n",
      "Requirement already satisfied: uritemplate<5,>=3.0.1 in /Users/minkeychang/anaconda3/envs/syn_seq/lib/python3.9/site-packages (from google-api-python-client->google-generativeai->pgmpy->synthcity) (4.1.1)\n",
      "Requirement already satisfied: grpcio-status<2.0.dev0,>=1.33.2 in /Users/minkeychang/anaconda3/envs/syn_seq/lib/python3.9/site-packages (from google-api-core[grpc]!=2.0.*,!=2.1.*,!=2.10.*,!=2.2.*,!=2.3.*,!=2.4.*,!=2.5.*,!=2.6.*,!=2.7.*,!=2.8.*,!=2.9.*,<3.0.0dev,>=1.34.1->google-ai-generativelanguage==0.6.10->google-generativeai->pgmpy->synthcity) (1.69.0)\n",
      "Requirement already satisfied: language-data>=1.2 in /Users/minkeychang/anaconda3/envs/syn_seq/lib/python3.9/site-packages (from langcodes<4.0.0,>=3.2.0->spacy<4->fastai>=2.7.14->tsai->synthcity) (1.3.0)\n",
      "Requirement already satisfied: pyasn1<0.7.0,>=0.4.6 in /Users/minkeychang/anaconda3/envs/syn_seq/lib/python3.9/site-packages (from pyasn1-modules>=0.2.1->google-auth>=2.15.0->google-generativeai->pgmpy->synthcity) (0.6.1)\n",
      "Requirement already satisfied: blis<1.2.0,>=1.1.0 in /Users/minkeychang/anaconda3/envs/syn_seq/lib/python3.9/site-packages (from thinc<8.4.0,>=8.3.0->spacy<4->fastai>=2.7.14->tsai->synthcity) (1.1.0)\n",
      "Requirement already satisfied: confection<1.0.0,>=0.0.1 in /Users/minkeychang/anaconda3/envs/syn_seq/lib/python3.9/site-packages (from thinc<8.4.0,>=8.3.0->spacy<4->fastai>=2.7.14->tsai->synthcity) (0.1.5)\n",
      "Requirement already satisfied: click>=8.0.0 in /Users/minkeychang/anaconda3/envs/syn_seq/lib/python3.9/site-packages (from typer<1.0.0,>=0.3.0->spacy<4->fastai>=2.7.14->tsai->synthcity) (8.1.8)\n",
      "Requirement already satisfied: shellingham>=1.3.0 in /Users/minkeychang/anaconda3/envs/syn_seq/lib/python3.9/site-packages (from typer<1.0.0,>=0.3.0->spacy<4->fastai>=2.7.14->tsai->synthcity) (1.5.4)\n",
      "Requirement already satisfied: rich>=10.11.0 in /Users/minkeychang/anaconda3/envs/syn_seq/lib/python3.9/site-packages (from typer<1.0.0,>=0.3.0->spacy<4->fastai>=2.7.14->tsai->synthcity) (13.9.4)\n",
      "Requirement already satisfied: cloudpathlib<1.0.0,>=0.7.0 in /Users/minkeychang/anaconda3/envs/syn_seq/lib/python3.9/site-packages (from weasel<0.5.0,>=0.1.0->spacy<4->fastai>=2.7.14->tsai->synthcity) (0.20.0)\n",
      "Requirement already satisfied: smart-open<8.0.0,>=5.2.1 in /Users/minkeychang/anaconda3/envs/syn_seq/lib/python3.9/site-packages (from weasel<0.5.0,>=0.1.0->spacy<4->fastai>=2.7.14->tsai->synthcity) (7.1.0)\n",
      "Requirement already satisfied: marisa-trie>=1.1.0 in /Users/minkeychang/anaconda3/envs/syn_seq/lib/python3.9/site-packages (from language-data>=1.2->langcodes<4.0.0,>=3.2.0->spacy<4->fastai>=2.7.14->tsai->synthcity) (1.2.1)\n",
      "Requirement already satisfied: markdown-it-py>=2.2.0 in /Users/minkeychang/anaconda3/envs/syn_seq/lib/python3.9/site-packages (from rich>=10.11.0->typer<1.0.0,>=0.3.0->spacy<4->fastai>=2.7.14->tsai->synthcity) (3.0.0)\n",
      "Requirement already satisfied: pygments<3.0.0,>=2.13.0 in /Users/minkeychang/anaconda3/envs/syn_seq/lib/python3.9/site-packages (from rich>=10.11.0->typer<1.0.0,>=0.3.0->spacy<4->fastai>=2.7.14->tsai->synthcity) (2.18.0)\n",
      "Requirement already satisfied: mdurl~=0.1 in /Users/minkeychang/anaconda3/envs/syn_seq/lib/python3.9/site-packages (from markdown-it-py>=2.2.0->rich>=10.11.0->typer<1.0.0,>=0.3.0->spacy<4->fastai>=2.7.14->tsai->synthcity) (0.1.2)\n"
     ]
    }
   ],
   "source": [
    "!pip install synthcity"
   ]
  },
  {
   "cell_type": "code",
   "execution_count": 2,
   "metadata": {},
   "outputs": [
    {
     "name": "stdout",
     "output_type": "stream",
     "text": [
      "[KeOps] Warning : omp.h header is not in the path, disabling OpenMP. To fix this, you can set the environment\n",
      "                  variable OMP_PATH to the location of the header before importing keopscore or pykeops,\n",
      "                  e.g. using os.environ: import os; os.environ['OMP_PATH'] = '/path/to/omp/header'\n",
      "[KeOps] Warning : Cuda libraries were not detected on the system or could not be loaded ; using cpu only mode\n"
     ]
    }
   ],
   "source": [
    "\n",
    "import sys\n",
    "import warnings\n",
    "\n",
    "warnings.filterwarnings(\"ignore\")\n",
    "\n",
    "from sklearn.datasets import load_diabetes\n",
    "\n",
    "# synthcity absolute\n",
    "import synthcity.logger as log\n",
    "from synthcity.plugins import Plugins\n",
    "\n",
    "log.add(sink=sys.stderr, level=\"INFO\")\n"
   ]
  },
  {
   "cell_type": "markdown",
   "metadata": {},
   "source": [
    "## 1) Load the data\n",
    "We will use the diabetes dataset for simplicity.\n"
   ]
  },
  {
   "cell_type": "code",
   "execution_count": 7,
   "metadata": {},
   "outputs": [
    {
     "data": {
      "text/plain": [
       "'/Users/minkeychang/synthcity/tutorials'"
      ]
     },
     "execution_count": 3,
     "metadata": {},
     "output_type": "execute_result"
    }
   ],
   "source": [
    "pwd()"
   ]
  },
  {
   "cell_type": "code",
   "execution_count": 4,
   "metadata": {},
   "outputs": [
    {
     "name": "stdout",
     "output_type": "stream",
     "text": [
      "      sex  age                   edu  marital  income smoke  nociga  wkabdur  \\\n",
      "0  FEMALE   57    VOCATIONAL/GRAMMAR  MARRIED   800.0    NO      -8       -8   \n",
      "1    MALE   20    VOCATIONAL/GRAMMAR   SINGLE   350.0    NO      -8       -8   \n",
      "2  FEMALE   18    VOCATIONAL/GRAMMAR   SINGLE     NaN    NO      -8       -8   \n",
      "3  FEMALE   78  PRIMARY/NO EDUCATION  WIDOWED   900.0    NO      -8       -8   \n",
      "4  FEMALE   54    VOCATIONAL/GRAMMAR  MARRIED  1500.0   YES      20       -8   \n",
      "\n",
      "                 ls wkabint        date  \n",
      "0           PLEASED      NO  1979-10-07  \n",
      "1  MOSTLY SATISFIED      NO         NaN  \n",
      "2           PLEASED      NO         NaN  \n",
      "3             MIXED      NO  1958-08-11  \n",
      "4  MOSTLY SATISFIED      NO  1980-06-08  \n"
     ]
    },
    {
     "data": {
      "text/plain": [
       "sex         object\n",
       "age          int64\n",
       "edu         object\n",
       "marital     object\n",
       "income     float64\n",
       "smoke       object\n",
       "nociga       int64\n",
       "wkabdur      int64\n",
       "ls          object\n",
       "wkabint     object\n",
       "date        object\n",
       "dtype: object"
      ]
     },
     "execution_count": 7,
     "metadata": {},
     "output_type": "execute_result"
    }
   ],
   "source": [
    "import pandas as pd\n",
    "\n",
    "# 이중 백슬래시 사용\n",
<<<<<<< HEAD
    "ods = pd.read_csv(\"C:\\\\Users\\\\hsrhe\\\\Desktop\\\\SQRG\\\\ods.csv\")\n",
    "target = [\"sex\", \"age\", \"edu\", \"marital\", \"income\", \"smoke\", \"nociga\", \"wkabdur\", \"ls\", \"wkabint\", \"date\"]\n",
    "ods = ods[target]\n",
=======
    "ods = pd.read_csv(\"../.././temp_data/ods.csv\")\n",
    "\n",
>>>>>>> 4934298295585ad067a871fc5f7cc760780c1d44
    "# 데이터 확인\n",
    "print(ods.head())\n",
    "ods.dtypes\n"
   ]
  },
  {
   "cell_type": "markdown",
   "metadata": {},
   "source": [
    "\n",
    "## 2) Create a Syn_SeqDataLoader\n",
    "Instead of using a `GenericDataLoader`, we use our specialized\n",
    "`Syn_SeqDataLoader`. We'll define a `syn_order` — the sequence in which columns\n",
    "get synthesized. If not provided, it defaults to the data's columns order.\n"
   ]
  },
  {
   "cell_type": "code",
<<<<<<< HEAD
   "execution_count": 8,
=======
   "execution_count": 5,
>>>>>>> 4934298295585ad067a871fc5f7cc760780c1d44
   "metadata": {},
   "outputs": [],
   "source": [
    "from synthcity.plugins.core.dataloader import Syn_SeqDataLoader\n",
    "\n",
    "user_custom = {\n",
    "  'syn_order' : [\"sex\", \"age\", \"edu\", \"marital\", \"income\", \"smoke\", \"nociga\", \"wkabdur\", \"ls\", \"wkabint\", \"date\"],\n",
    "  'method' : {},\n",
    "  'special_value': {'income': [-8], 'nociga': [-8]},\n",
    "  'col_type' : {\"date\": \"date\"},\n",
    "  'variable_selection' : {\n",
    "    \"nociga\": [\"sex\", \"age\", \"edu\", \"marital\", \"smoke\"],\n",
    "    \"ls\": ['sex', 'age', 'income'],\n",
    "  }\n",
    "}\n"
   ]
  },
  {
   "cell_type": "code",
<<<<<<< HEAD
   "execution_count": 9,
=======
   "execution_count": 6,
>>>>>>> 4934298295585ad067a871fc5f7cc760780c1d44
   "metadata": {},
   "outputs": [
    {
     "name": "stdout",
     "output_type": "stream",
     "text": [
      "\n",
      "[INFO] Syn_SeqEncoder summary:\n",
      "  (column, converted_type, method)\n",
      "\n",
      "  (sex, category, swr)\n",
      "    --> \n",
      "  (age, numeric, cart)\n",
      "    --> \n",
      "  (edu, category, cart)\n",
      "    --> \n",
      "  (marital, category, cart)\n",
      "    --> \n",
      "  (income, numeric, cart)\n",
      "    --> \n",
      "  (smoke, category, cart)\n",
      "    --> \n",
      "  (nociga, numeric, cart)\n",
      "    --> \n",
      "  (wkabdur, numeric, cart)\n",
      "    --> \n",
      "  (ls, category, cart)\n",
      "    --> \n",
      "  (wkabint, category, cart)\n",
      "    --> \n",
      "  (date, numeric, cart)\n",
      "\n",
      "  - special_value => {'income': [-8], 'nociga': [-8], 'wkabdur': [-8]}\n",
      "\n",
      "  - variable_selection_:\n",
      "         sex  age  edu  marital  income  smoke  nociga  wkabdur  ls  wkabint  \\\n",
      "sex        0    0    0        0       0      0       0        0   0        0   \n",
      "age        1    0    0        0       0      0       0        0   0        0   \n",
      "edu        1    1    0        0       0      0       0        0   0        0   \n",
      "marital    1    1    1        0       0      0       0        0   0        0   \n",
      "income     1    1    1        1       0      0       0        0   0        0   \n",
      "smoke      1    1    1        1       1      0       0        0   0        0   \n",
      "nociga     1    1    1        1       0      1       0        0   0        0   \n",
      "wkabdur    1    1    1        1       1      1       1        0   0        0   \n",
      "ls         1    1    0        0       1      0       0        0   0        0   \n",
      "wkabint    1    1    1        1       1      1       1        1   1        0   \n",
      "date       1    1    1        1       1      1       1        1   1        1   \n",
      "\n",
      "         date  \n",
      "sex         0  \n",
      "age         0  \n",
      "edu         0  \n",
      "marital     0  \n",
      "income      0  \n",
      "smoke       0  \n",
      "nociga      0  \n",
      "wkabdur     0  \n",
      "ls          0  \n",
      "wkabint     0  \n",
      "date        0  \n",
      "------------------------------------------------\n"
     ]
    }
   ],
   "source": [
    "loader = Syn_SeqDataLoader(\n",
    "    ods, \n",
    "    target_column=\"income\", \n",
    "    sensitive_columns=[\"income\"], \n",
    "    user_custom = user_custom, \n",
    "    max_categories = 15\n",
    "    )"
   ]
  },
  {
   "cell_type": "code",
   "execution_count": 17,
   "metadata": {},
   "outputs": [
    {
     "data": {
      "text/plain": [
       "sex         object\n",
       "age          int64\n",
       "edu         object\n",
       "marital     object\n",
       "income     float64\n",
       "smoke       object\n",
       "nociga       int64\n",
       "wkabdur      int64\n",
       "ls          object\n",
       "wkabint     object\n",
       "date        object\n",
       "dtype: object"
      ]
     },
     "execution_count": 17,
     "metadata": {},
     "output_type": "execute_result"
    }
   ],
   "source": [
    "loader.data.dtypes"
   ]
  },
  {
   "cell_type": "markdown",
   "metadata": {},
   "source": [
    "\n",
    "The `Syn_SeqDataLoader` also prints out debug info, including the\n",
    "automatically-detected numeric vs categorical columns.\n",
    "\n",
    "## 3) List available plugins\n",
    "Recall from earlier tutorials that you can see all generative model plugins\n",
    "with `Plugins().list()`. We'll specifically focus on `\"syn_seq\"` here.\n",
    "\n"
   ]
  },
  {
   "cell_type": "code",
<<<<<<< HEAD
   "execution_count": 12,
=======
   "execution_count": 7,
>>>>>>> 4934298295585ad067a871fc5f7cc760780c1d44
   "metadata": {},
   "outputs": [
    {
     "name": "stderr",
     "output_type": "stream",
     "text": [
<<<<<<< HEAD
      "[2025-01-21T20:22:39.292444+0900][21756][CRITICAL] module disabled: C:\\Users\\hsrhe\\Desktop\\synthcity\\src\\synthcity\\plugins\\generic\\plugin_goggle.py\n"
=======
      "[2025-01-21T21:35:08.820488+0900][11065][CRITICAL] module disabled: /Users/minkeychang/synthcity/src/synthcity/plugins/generic/plugin_goggle.py\n",
      "[2025-01-21T21:35:08.820488+0900][11065][CRITICAL] module disabled: /Users/minkeychang/synthcity/src/synthcity/plugins/generic/plugin_goggle.py\n"
>>>>>>> 4934298295585ad067a871fc5f7cc760780c1d44
     ]
    },
    {
     "data": {
      "text/plain": [
<<<<<<< HEAD
       "['arf',\n",
       " 'pategan',\n",
       " 'survival_ctgan',\n",
       " 'ddpm',\n",
       " 'image_cgan',\n",
       " 'fflows',\n",
       " 'privbayes',\n",
       " 'radialgan',\n",
       " 'nflow',\n",
       " 'dpgan',\n",
       " 'survival_nflow',\n",
       " 'great',\n",
       " 'marginal_distributions',\n",
       " 'ctgan',\n",
       " 'rtvae',\n",
       " 'survival_gan',\n",
       " 'timevae',\n",
       " 'syn_seq',\n",
       " 'aim',\n",
       " 'timegan',\n",
       " 'dummy_sampler',\n",
       " 'survae',\n",
       " 'image_adsgan',\n",
       " 'bayesian_network',\n",
       " 'uniform_sampler',\n",
       " 'decaf',\n",
       " 'adsgan',\n",
       " 'tvae']"
      ]
     },
     "execution_count": 12,
=======
       "['survival_ctgan',\n",
       " 'survival_nflow',\n",
       " 'timevae',\n",
       " 'rtvae',\n",
       " 'uniform_sampler',\n",
       " 'fflows',\n",
       " 'adsgan',\n",
       " 'dpgan',\n",
       " 'syn_seq',\n",
       " 'bayesian_network',\n",
       " 'survae',\n",
       " 'aim',\n",
       " 'image_cgan',\n",
       " 'marginal_distributions',\n",
       " 'radialgan',\n",
       " 'arf',\n",
       " 'great',\n",
       " 'timegan',\n",
       " 'pategan',\n",
       " 'survival_gan',\n",
       " 'nflow',\n",
       " 'image_adsgan',\n",
       " 'ddpm',\n",
       " 'privbayes',\n",
       " 'tvae',\n",
       " 'ctgan',\n",
       " 'decaf',\n",
       " 'dummy_sampler']"
      ]
     },
     "execution_count": 7,
>>>>>>> 4934298295585ad067a871fc5f7cc760780c1d44
     "metadata": {},
     "output_type": "execute_result"
    }
   ],
   "source": [
    "Plugins().list()"
   ]
  },
  {
   "cell_type": "code",
<<<<<<< HEAD
   "execution_count": 16,
=======
   "execution_count": 8,
>>>>>>> 4934298295585ad067a871fc5f7cc760780c1d44
   "metadata": {},
   "outputs": [
    {
     "name": "stdout",
     "output_type": "stream",
     "text": [
      "sex            category\n",
      "age               int64\n",
      "edu            category\n",
      "marital        category\n",
      "income          float64\n",
      "smoke          category\n",
      "nociga          float64\n",
      "wkabdur         float64\n",
      "ls             category\n",
      "wkabint        category\n",
      "date            float64\n",
      "income_cat     category\n",
      "nociga_cat     category\n",
      "wkabdur_cat    category\n",
      "dtype: object\n",
      "['sex', 'age', 'edu', 'marital', 'income_cat', 'income', 'smoke', 'nociga_cat', 'nociga', 'wkabdur_cat', 'wkabdur', 'ls', 'wkabint', 'date']\n"
     ]
    }
   ],
   "source": [
    "encoded_loader, enc_dict = loader.encode()\n",
    "encoded_df = encoded_loader.dataframe()\n",
    "print(encoded_df.dtypes)\n",
    "    # print(encoded_df)\n",
    "print(enc_dict['syn_order'])"
   ]
  },
  {
   "cell_type": "code",
   "execution_count": 17,
   "metadata": {},
   "outputs": [
    {
     "name": "stdout",
     "output_type": "stream",
     "text": [
      "컬럼 'sex'의 고유값 빈도수:\n",
      "sex\n",
      "FEMALE    2818\n",
      "MALE      2182\n",
      "Name: count, dtype: int64 \n",
      "\n",
      "컬럼 'age'의 고유값 빈도수:\n",
      "age\n",
      "61    113\n",
      "58    110\n",
      "53    110\n",
      "57    109\n",
      "60    109\n",
      "     ... \n",
      "90      7\n",
      "92      4\n",
      "91      4\n",
      "96      2\n",
      "97      1\n",
      "Name: count, Length: 79, dtype: int64 \n",
      "\n",
      "컬럼 'edu'의 고유값 빈도수:\n",
      "edu\n",
      "VOCATIONAL/GRAMMAR          1613\n",
      "SECONDARY                   1482\n",
      "PRIMARY/NO EDUCATION         962\n",
      "POST-SECONDARY OR HIGHER     936\n",
      "Name: count, dtype: int64 \n",
      "\n",
      "컬럼 'marital'의 고유값 빈도수:\n",
      "marital\n",
      "MARRIED               2979\n",
      "SINGLE                1253\n",
      "WIDOWED                531\n",
      "DIVORCED               199\n",
      "DE FACTO SEPARATED      22\n",
      "LEGALLY SEPARATED        7\n",
      "Name: count, dtype: int64 \n",
      "\n",
      "컬럼 'income'의 고유값 빈도수:\n",
      "income\n",
      "1000.0    282\n",
      "1500.0    264\n",
      "2000.0    260\n",
      "1200.0    212\n",
      "1300.0    151\n",
      "         ... \n",
      "1115.0      1\n",
      "1598.0      1\n",
      "2536.0      1\n",
      "909.0       1\n",
      "3450.0      1\n",
      "Name: count, Length: 405, dtype: int64 \n",
      "\n",
      "컬럼 'smoke'의 고유값 빈도수:\n",
      "smoke\n",
      "NO     3713\n",
      "YES    1277\n",
      "Name: count, dtype: int64 \n",
      "\n",
      "컬럼 'nociga'의 고유값 빈도수:\n",
      "nociga\n",
      "20.0    444\n",
      "10.0    316\n",
      "15.0    149\n",
      "5.0      62\n",
      "30.0     52\n",
      "25.0     36\n",
      "8.0      28\n",
      "40.0     27\n",
      "12.0     26\n",
      "6.0      23\n",
      "3.0      23\n",
      "7.0      13\n",
      "2.0      13\n",
      "1.0      12\n",
      "4.0       9\n",
      "18.0      8\n",
      "14.0      5\n",
      "50.0      3\n",
      "16.0      2\n",
      "13.0      2\n",
      "22.0      2\n",
      "9.0       1\n",
      "60.0      1\n",
      "29.0      1\n",
      "21.0      1\n",
      "26.0      1\n",
      "35.0      1\n",
      "24.0      1\n",
      "17.0      1\n",
      "Name: count, dtype: int64 \n",
      "\n",
      "컬럼 'wkabdur'의 고유값 빈도수:\n",
      "wkabdur\n",
      "24.0    14\n",
      "3.0     11\n",
      "12.0    11\n",
      "4.0     10\n",
      "6.0     10\n",
      "2.0      9\n",
      "36.0     8\n",
      "1.0      7\n",
      "9.0      5\n",
      "8.0      4\n",
      "18.0     4\n",
      "16.0     3\n",
      "7.0      3\n",
      "5.0      2\n",
      "40.0     2\n",
      "15.0     2\n",
      "13.0     2\n",
      "20.0     2\n",
      "10.0     2\n",
      "11.0     2\n",
      "45.0     1\n",
      "27.0     1\n",
      "60.0     1\n",
      "28.0     1\n",
      "26.0     1\n",
      "52.0     1\n",
      "14.0     1\n",
      "0.0      1\n",
      "22.0     1\n",
      "50.0     1\n",
      "32.0     1\n",
      "34.0     1\n",
      "Name: count, dtype: int64 \n",
      "\n",
      "컬럼 'ls'의 고유값 빈도수:\n",
      "ls\n",
      "PLEASED                1947\n",
      "MOSTLY SATISFIED       1692\n",
      "MIXED                   827\n",
      "MOSTLY DISSATISFIED     274\n",
      "DELIGHTED               191\n",
      "UNHAPPY                  41\n",
      "TERRIBLE                 20\n",
      "Name: count, dtype: int64 \n",
      "\n",
      "컬럼 'wkabint'의 고유값 빈도수:\n",
      "wkabint\n",
      "NO                        4646\n",
      "YES, TO EU COUNTRY         293\n",
      "YES, TO NON-EU COUNTRY      25\n",
      "Name: count, dtype: int64 \n",
      "\n",
      "컬럼 'date'의 고유값 빈도수:\n",
      "date\n",
      "16583.0    4\n",
      "14411.0    4\n",
      "16997.0    3\n",
      "25744.0    3\n",
      "13758.0    3\n",
      "          ..\n",
      "25691.0    1\n",
      "10803.0    1\n",
      "15314.0    1\n",
      "14931.0    1\n",
      "23863.0    1\n",
      "Name: count, Length: 3251, dtype: int64 \n",
      "\n",
      "컬럼 'income_cat'의 고유값 빈도수:\n",
      "income_cat\n",
      "-777.0     3714\n",
      "-9999.0     683\n",
      "-8.0        603\n",
      "Name: count, dtype: int64 \n",
      "\n",
      "컬럼 'nociga_cat'의 고유값 빈도수:\n",
      "nociga_cat\n",
      "-8      3737\n",
      "-777    1263\n",
      "Name: count, dtype: int64 \n",
      "\n",
      "컬럼 'wkabdur_cat'의 고유값 빈도수:\n",
      "wkabdur_cat\n",
      "-8      4875\n",
      "-777     125\n",
      "Name: count, dtype: int64 \n",
      "\n"
     ]
    }
   ],
   "source": [
    "for col in encoded_df.columns:\n",
    "    print(f\"컬럼 '{col}'의 고유값 빈도수:\")\n",
    "    print(encoded_df[col].value_counts(), \"\\n\")"
   ]
  },
  {
   "cell_type": "markdown",
   "metadata": {},
   "source": [
    "You should see `\"syn_seq\"` in the returned list.\n",
    "\n",
    "## 4) Load and train the Sequential Synthesis Model\n",
    "The `syn_seq` plugin allows you to specify how each column is synthesized:\n",
    "- `\"SWR\"` = sample without replacement\n",
    "- `\"CART\"`, `\"rf\"`, `\"pmm\"`, `\"logreg\"`, etc. for the rest\n",
    "Typically, we do `\"SWR\"` for the first column, and `\"CART\"` or `\"rf\"` for subsequent columns.\n",
    "But you can choose any method for each column.\n"
   ]
  },
  {
   "cell_type": "code",
   "execution_count": 9,
   "metadata": {},
   "outputs": [
    {
     "name": "stderr",
     "output_type": "stream",
     "text": [
      "[2025-01-21T21:35:09.764530+0900][11065][CRITICAL] module disabled: /Users/minkeychang/synthcity/src/synthcity/plugins/generic/plugin_goggle.py\n"
     ]
    }
   ],
   "source": [
    "syn_model = Plugins().get(\"syn_seq\")\n"
   ]
  },
  {
   "cell_type": "code",
   "execution_count": 10,
   "metadata": {},
   "outputs": [
    {
     "ename": "TypeError",
     "evalue": "ufunc 'isnan' not supported for the input types, and the inputs could not be safely coerced to any supported types according to the casting rule ''safe''",
     "output_type": "error",
     "traceback": [
      "\u001b[0;31m---------------------------------------------------------------------------\u001b[0m",
      "\u001b[0;31mTypeError\u001b[0m                                 Traceback (most recent call last)",
      "Cell \u001b[0;32mIn[10], line 1\u001b[0m\n\u001b[0;32m----> 1\u001b[0m \u001b[43msyn_model\u001b[49m\u001b[38;5;241;43m.\u001b[39;49m\u001b[43mfit\u001b[49m\u001b[43m(\u001b[49m\u001b[43mloader\u001b[49m\u001b[43m)\u001b[49m\n",
      "File \u001b[0;32m~/anaconda3/envs/syn_seq/lib/python3.9/site-packages/pydantic/deprecated/decorator.py:55\u001b[0m, in \u001b[0;36mvalidate_arguments.<locals>.validate.<locals>.wrapper_function\u001b[0;34m(*args, **kwargs)\u001b[0m\n\u001b[1;32m     53\u001b[0m \u001b[38;5;129m@wraps\u001b[39m(_func)\n\u001b[1;32m     54\u001b[0m \u001b[38;5;28;01mdef\u001b[39;00m \u001b[38;5;21mwrapper_function\u001b[39m(\u001b[38;5;241m*\u001b[39margs: Any, \u001b[38;5;241m*\u001b[39m\u001b[38;5;241m*\u001b[39mkwargs: Any) \u001b[38;5;241m-\u001b[39m\u001b[38;5;241m>\u001b[39m Any:\n\u001b[0;32m---> 55\u001b[0m     \u001b[38;5;28;01mreturn\u001b[39;00m \u001b[43mvd\u001b[49m\u001b[38;5;241;43m.\u001b[39;49m\u001b[43mcall\u001b[49m\u001b[43m(\u001b[49m\u001b[38;5;241;43m*\u001b[39;49m\u001b[43margs\u001b[49m\u001b[43m,\u001b[49m\u001b[43m \u001b[49m\u001b[38;5;241;43m*\u001b[39;49m\u001b[38;5;241;43m*\u001b[39;49m\u001b[43mkwargs\u001b[49m\u001b[43m)\u001b[49m\n",
      "File \u001b[0;32m~/anaconda3/envs/syn_seq/lib/python3.9/site-packages/pydantic/deprecated/decorator.py:150\u001b[0m, in \u001b[0;36mValidatedFunction.call\u001b[0;34m(self, *args, **kwargs)\u001b[0m\n\u001b[1;32m    148\u001b[0m \u001b[38;5;28;01mdef\u001b[39;00m \u001b[38;5;21mcall\u001b[39m(\u001b[38;5;28mself\u001b[39m, \u001b[38;5;241m*\u001b[39margs: Any, \u001b[38;5;241m*\u001b[39m\u001b[38;5;241m*\u001b[39mkwargs: Any) \u001b[38;5;241m-\u001b[39m\u001b[38;5;241m>\u001b[39m Any:\n\u001b[1;32m    149\u001b[0m     m \u001b[38;5;241m=\u001b[39m \u001b[38;5;28mself\u001b[39m\u001b[38;5;241m.\u001b[39minit_model_instance(\u001b[38;5;241m*\u001b[39margs, \u001b[38;5;241m*\u001b[39m\u001b[38;5;241m*\u001b[39mkwargs)\n\u001b[0;32m--> 150\u001b[0m     \u001b[38;5;28;01mreturn\u001b[39;00m \u001b[38;5;28;43mself\u001b[39;49m\u001b[38;5;241;43m.\u001b[39;49m\u001b[43mexecute\u001b[49m\u001b[43m(\u001b[49m\u001b[43mm\u001b[49m\u001b[43m)\u001b[49m\n",
      "File \u001b[0;32m~/anaconda3/envs/syn_seq/lib/python3.9/site-packages/pydantic/deprecated/decorator.py:226\u001b[0m, in \u001b[0;36mValidatedFunction.execute\u001b[0;34m(self, m)\u001b[0m\n\u001b[1;32m    224\u001b[0m     \u001b[38;5;28;01mreturn\u001b[39;00m \u001b[38;5;28mself\u001b[39m\u001b[38;5;241m.\u001b[39mraw_function(\u001b[38;5;241m*\u001b[39margs_, \u001b[38;5;241m*\u001b[39m\u001b[38;5;241m*\u001b[39mkwargs, \u001b[38;5;241m*\u001b[39m\u001b[38;5;241m*\u001b[39mvar_kwargs)\n\u001b[1;32m    225\u001b[0m \u001b[38;5;28;01melse\u001b[39;00m:\n\u001b[0;32m--> 226\u001b[0m     \u001b[38;5;28;01mreturn\u001b[39;00m \u001b[38;5;28;43mself\u001b[39;49m\u001b[38;5;241;43m.\u001b[39;49m\u001b[43mraw_function\u001b[49m\u001b[43m(\u001b[49m\u001b[38;5;241;43m*\u001b[39;49m\u001b[38;5;241;43m*\u001b[39;49m\u001b[43md\u001b[49m\u001b[43m,\u001b[49m\u001b[43m \u001b[49m\u001b[38;5;241;43m*\u001b[39;49m\u001b[38;5;241;43m*\u001b[39;49m\u001b[43mvar_kwargs\u001b[49m\u001b[43m)\u001b[49m\n",
      "File \u001b[0;32m~/synthcity/src/synthcity/plugins/generic/plugin_syn_seq.py:109\u001b[0m, in \u001b[0;36mSyn_SeqPlugin.fit\u001b[0;34m(self, X, *args, **kwargs)\u001b[0m\n\u001b[1;32m    106\u001b[0m \u001b[38;5;28mself\u001b[39m\u001b[38;5;241m.\u001b[39m_training_schema \u001b[38;5;241m=\u001b[39m \u001b[38;5;28mself\u001b[39m\u001b[38;5;241m.\u001b[39m_domain_rebuild(X_encoded, base_schema)\n\u001b[1;32m    108\u001b[0m \u001b[38;5;66;03m# aggregator training\u001b[39;00m\n\u001b[0;32m--> 109\u001b[0m output \u001b[38;5;241m=\u001b[39m \u001b[38;5;28;43mself\u001b[39;49m\u001b[38;5;241;43m.\u001b[39;49m\u001b[43m_fit\u001b[49m\u001b[43m(\u001b[49m\u001b[43mX_encoded\u001b[49m\u001b[43m,\u001b[49m\u001b[43m \u001b[49m\u001b[38;5;241;43m*\u001b[39;49m\u001b[43margs\u001b[49m\u001b[43m,\u001b[49m\u001b[43m \u001b[49m\u001b[38;5;241;43m*\u001b[39;49m\u001b[38;5;241;43m*\u001b[39;49m\u001b[43mkwargs\u001b[49m\u001b[43m)\u001b[49m\n\u001b[1;32m    110\u001b[0m \u001b[38;5;28mself\u001b[39m\u001b[38;5;241m.\u001b[39mfitted \u001b[38;5;241m=\u001b[39m \u001b[38;5;28;01mTrue\u001b[39;00m\n\u001b[1;32m    111\u001b[0m \u001b[38;5;28;01mreturn\u001b[39;00m output\n",
      "File \u001b[0;32m~/synthcity/src/synthcity/plugins/generic/plugin_syn_seq.py:122\u001b[0m, in \u001b[0;36mSyn_SeqPlugin._fit\u001b[0;34m(self, X, *args, **kwargs)\u001b[0m\n\u001b[1;32m    114\u001b[0m \u001b[38;5;250m\u001b[39m\u001b[38;5;124;03m\"\"\"\u001b[39;00m\n\u001b[1;32m    115\u001b[0m \u001b[38;5;124;03mTrain the aggregator column-by-column using the encoded DataLoader.\u001b[39;00m\n\u001b[1;32m    116\u001b[0m \u001b[38;5;124;03m\"\"\"\u001b[39;00m\n\u001b[1;32m    117\u001b[0m \u001b[38;5;28mself\u001b[39m\u001b[38;5;241m.\u001b[39mmodel \u001b[38;5;241m=\u001b[39m Syn_Seq(\n\u001b[1;32m    118\u001b[0m     random_state\u001b[38;5;241m=\u001b[39m\u001b[38;5;28mself\u001b[39m\u001b[38;5;241m.\u001b[39mrandom_state,\n\u001b[1;32m    119\u001b[0m     strict\u001b[38;5;241m=\u001b[39m\u001b[38;5;28mself\u001b[39m\u001b[38;5;241m.\u001b[39mstrict,\n\u001b[1;32m    120\u001b[0m     sampling_patience\u001b[38;5;241m=\u001b[39m\u001b[38;5;28mself\u001b[39m\u001b[38;5;241m.\u001b[39msampling_patience,\n\u001b[1;32m    121\u001b[0m )\n\u001b[0;32m--> 122\u001b[0m \u001b[38;5;28;43mself\u001b[39;49m\u001b[38;5;241;43m.\u001b[39;49m\u001b[43mmodel\u001b[49m\u001b[38;5;241;43m.\u001b[39;49m\u001b[43mfit_col\u001b[49m\u001b[43m(\u001b[49m\u001b[43mX\u001b[49m\u001b[43m,\u001b[49m\u001b[43m \u001b[49m\u001b[38;5;241;43m*\u001b[39;49m\u001b[43margs\u001b[49m\u001b[43m,\u001b[49m\u001b[43m \u001b[49m\u001b[38;5;241;43m*\u001b[39;49m\u001b[38;5;241;43m*\u001b[39;49m\u001b[43mkwargs\u001b[49m\u001b[43m)\u001b[49m\n\u001b[1;32m    123\u001b[0m \u001b[38;5;28;01mreturn\u001b[39;00m \u001b[38;5;28mself\u001b[39m\n",
      "File \u001b[0;32m~/synthcity/src/synthcity/plugins/core/models/syn_seq/syn_seq.py:206\u001b[0m, in \u001b[0;36mSyn_Seq.fit_col\u001b[0;34m(self, loader, *args, **kwargs)\u001b[0m\n\u001b[1;32m    203\u001b[0m     mask_y \u001b[38;5;241m=\u001b[39m np\u001b[38;5;241m.\u001b[39mones(y, dtype\u001b[38;5;241m=\u001b[39m\u001b[38;5;28mbool\u001b[39m)\n\u001b[1;32m    204\u001b[0m \u001b[38;5;28;01melse\u001b[39;00m:\n\u001b[1;32m    205\u001b[0m     \u001b[38;5;66;03m# For numeric columns, remove rows with NaN in X\u001b[39;00m\n\u001b[0;32m--> 206\u001b[0m     mask_x \u001b[38;5;241m=\u001b[39m \u001b[38;5;241m~\u001b[39m\u001b[43mnp\u001b[49m\u001b[38;5;241;43m.\u001b[39;49m\u001b[43misnan\u001b[49m\u001b[43m(\u001b[49m\u001b[43mX\u001b[49m\u001b[43m)\u001b[49m\u001b[38;5;241m.\u001b[39many(axis\u001b[38;5;241m=\u001b[39m\u001b[38;5;241m1\u001b[39m)\n\u001b[1;32m    207\u001b[0m     mask_y \u001b[38;5;241m=\u001b[39m \u001b[38;5;241m~\u001b[39mpd\u001b[38;5;241m.\u001b[39misna(y)\n\u001b[1;32m    209\u001b[0m \u001b[38;5;66;03m# Combine the masks\u001b[39;00m\n",
      "\u001b[0;31mTypeError\u001b[0m: ufunc 'isnan' not supported for the input types, and the inputs could not be safely coerced to any supported types according to the casting rule ''safe''"
     ]
    }
   ],
   "source": [
    "syn_model.fit(loader)"
   ]
  },
  {
   "cell_type": "code",
   "execution_count": 11,
   "metadata": {},
   "outputs": [
    {
     "name": "stdout",
     "output_type": "stream",
     "text": [
      "age       float64\n",
      "sex       float64\n",
      "bmi       float64\n",
      "bp        float64\n",
      "s1        float64\n",
      "s2        float64\n",
      "s3        float64\n",
      "s4        float64\n",
      "s5        float64\n",
      "s6        float64\n",
      "target    float64\n",
      "dtype: object\n"
     ]
    }
   ],
   "source": [
    "df = loader.dataframe()\n",
    "print(df.dtypes)"
   ]
  },
  {
   "cell_type": "markdown",
   "metadata": {},
   "source": [
    "\n",
    "**Note**: During training, you'll see some printed info about which method\n",
    "is used for each column, plus the final variable selection matrix.\n",
    "\n",
    "## 5) Generate synthetic data\n",
    "By default, let's sample 200 synthetic rows.\n",
    "\n"
   ]
  },
  {
   "cell_type": "code",
   "execution_count": 13,
   "metadata": {},
   "outputs": [
    {
     "data": {
      "text/plain": [
       "sex       category\n",
       "bmi        float64\n",
       "age       category\n",
       "bp_cat    category\n",
       "bp         float64\n",
       "s1         float64\n",
       "s2         float64\n",
       "s3         float64\n",
       "s4         float64\n",
       "s5         float64\n",
       "s6         float64\n",
       "target     float64\n",
       "dtype: object"
      ]
     },
     "execution_count": 13,
     "metadata": {},
     "output_type": "execute_result"
    }
   ],
   "source": [
    "constraints = {\n",
    "  \"target\":[\n",
    "    (\"bmi\", \">\", 0.15),\n",
    "    (\"target\", \">\", 0)\n",
    "  ]\n",
    "}\n",
    "\n",
    "encoded_loader = syn_model._aggregator.get_encoded_loader()\n",
    "\n",
    "encoded_loader.data.dtypes"
   ]
  },
  {
   "cell_type": "code",
   "execution_count": 17,
   "metadata": {},
   "outputs": [
    {
     "name": "stdout",
     "output_type": "stream",
     "text": [
      "        sex       bmi       age  bp_cat        bp        s1        s2  \\\n",
      "0  0.050680 -0.006206  0.027178    -777  0.018430 -0.016704  0.017788   \n",
      "1 -0.044642  0.071397 -0.052738    -777 -0.074527 -0.015328 -0.034508   \n",
      "2  0.050680  0.127443  0.019913    -777  0.097615 -0.011201 -0.015092   \n",
      "3 -0.044642 -0.038540 -0.092695    -777 -0.019442 -0.068991 -0.074277   \n",
      "4 -0.044642 -0.047163 -0.045472    -777 -0.026328 -0.015328 -0.022608   \n",
      "\n",
      "         s3        s4        s5        s6  target  \n",
      "0 -0.039719 -0.002592 -0.018114 -0.025930    55.0  \n",
      "1  0.004460 -0.039493 -0.015999  0.069338    90.0  \n",
      "2 -0.054446  0.034309  0.060791  0.032059   295.0  \n",
      "3 -0.054446  0.012906  0.001148 -0.038357   252.0  \n",
      "4  0.015505 -0.002592  0.024055 -0.038357    66.0  \n"
     ]
    }
   ],
   "source": [
    "# 여기서 X=loader 를 함께 넘긴다고 가정\n",
    "synthetic_loader = syn_model.generate(\n",
    "    count=len(df),\n",
    "    constraints=constraints,\n",
    "    X=encoded_loader # <-- 꼭 넣어주세요!\n",
    ")\n",
    "\n",
    "\n",
    "# 6) 결과\n",
    "synthetic_df = synthetic_loader.dataframe()\n",
    "print(synthetic_df.head())"
   ]
  },
  {
   "cell_type": "code",
   "execution_count": 18,
   "metadata": {},
   "outputs": [
    {
     "name": "stdout",
     "output_type": "stream",
     "text": [
      "        sex       bmi       age bp_cat        bp        s1        s2  \\\n",
      "0  0.050680  0.061696  0.038076   -777  0.021872 -0.044223 -0.034821   \n",
      "1 -0.044642 -0.051474 -0.001882   -777 -0.026328 -0.008449 -0.019163   \n",
      "2  0.050680  0.044451  0.085299   -777 -0.005670 -0.045599 -0.034194   \n",
      "3 -0.044642 -0.011595 -0.089063   -777 -0.036656  0.012191  0.024991   \n",
      "4 -0.044642 -0.036385  0.005383   -777  0.021872  0.003935  0.015596   \n",
      "\n",
      "         s3        s4        s5        s6  target  \n",
      "0 -0.043401 -0.002592  0.019907 -0.017646   151.0  \n",
      "1  0.074412 -0.039493 -0.068332 -0.092204    75.0  \n",
      "2 -0.032356 -0.002592  0.002861 -0.025930   141.0  \n",
      "3 -0.036038  0.034309  0.022688 -0.009362   206.0  \n",
      "4  0.008142 -0.002592 -0.031988 -0.046641   135.0  \n",
      "        sex       bmi       age  bp_cat        bp        s1        s2  \\\n",
      "0  0.050680 -0.006206  0.027178    -777  0.018430 -0.016704  0.017788   \n",
      "1 -0.044642  0.071397 -0.052738    -777 -0.074527 -0.015328 -0.034508   \n",
      "2  0.050680  0.127443  0.019913    -777  0.097615 -0.011201 -0.015092   \n",
      "3 -0.044642 -0.038540 -0.092695    -777 -0.019442 -0.068991 -0.074277   \n",
      "4 -0.044642 -0.047163 -0.045472    -777 -0.026328 -0.015328 -0.022608   \n",
      "\n",
      "         s3        s4        s5        s6  target  \n",
      "0 -0.039719 -0.002592 -0.018114 -0.025930    55.0  \n",
      "1  0.004460 -0.039493 -0.015999  0.069338    90.0  \n",
      "2 -0.054446  0.034309  0.060791  0.032059   295.0  \n",
      "3 -0.054446  0.012906  0.001148 -0.038357   252.0  \n",
      "4  0.015505 -0.002592  0.024055 -0.038357    66.0  \n"
     ]
    }
   ],
   "source": [
    "# 6) 결과\n",
    "orginal_df = encoded_loader.dataframe()\n",
    "synthetic_df = synthetic_loader.dataframe()\n",
    "print(orginal_df.head())\n",
    "print(synthetic_df.head())"
   ]
  },
  {
   "cell_type": "code",
   "execution_count": 21,
   "metadata": {},
   "outputs": [
    {
     "name": "stdout",
     "output_type": "stream",
     "text": [
      "sex       category\n",
      "bmi        float64\n",
      "age       category\n",
      "bp_cat    category\n",
      "bp         float64\n",
      "s1         float64\n",
      "s2         float64\n",
      "s3         float64\n",
      "s4         float64\n",
      "s5         float64\n",
      "s6         float64\n",
      "target     float64\n",
      "dtype: object\n",
      "sex       category\n",
      "bmi        float64\n",
      "age       category\n",
      "bp_cat       int64\n",
      "bp         float64\n",
      "s1         float64\n",
      "s2         float64\n",
      "s3         float64\n",
      "s4         float64\n",
      "s5         float64\n",
      "s6         float64\n",
      "target     float64\n",
      "dtype: object\n",
      "age       float64\n",
      "sex       float64\n",
      "bmi       float64\n",
      "bp        float64\n",
      "s1        float64\n",
      "s2        float64\n",
      "s3        float64\n",
      "s4        float64\n",
      "s5        float64\n",
      "s6        float64\n",
      "target    float64\n",
      "dtype: object\n"
     ]
    }
   ],
   "source": [
    "print(orginal_df.dtypes)\n",
    "print(synthetic_df.dtypes)\n",
    "print(loader.dataframe().dtypes)"
   ]
  },
  {
   "cell_type": "code",
   "execution_count": 15,
   "metadata": {},
   "outputs": [
    {
     "ename": "ValueError",
     "evalue": "Need a DataLoader for decoding. (Syn_SeqDataLoader 등)",
     "output_type": "error",
     "traceback": [
      "\u001b[1;31m---------------------------------------------------------------------------\u001b[0m",
      "\u001b[1;31mValueError\u001b[0m                                Traceback (most recent call last)",
      "Cell \u001b[1;32mIn[15], line 4\u001b[0m\n\u001b[0;32m      1\u001b[0m \u001b[38;5;66;03m# third party\u001b[39;00m\n\u001b[0;32m      2\u001b[0m \u001b[38;5;28;01mimport\u001b[39;00m \u001b[38;5;21;01mmatplotlib\u001b[39;00m\u001b[38;5;21;01m.\u001b[39;00m\u001b[38;5;21;01mpyplot\u001b[39;00m \u001b[38;5;28;01mas\u001b[39;00m \u001b[38;5;21;01mplt\u001b[39;00m\n\u001b[1;32m----> 4\u001b[0m \u001b[43msyn_model\u001b[49m\u001b[38;5;241;43m.\u001b[39;49m\u001b[43mplot\u001b[49m\u001b[43m(\u001b[49m\u001b[43mplt\u001b[49m\u001b[43m,\u001b[49m\u001b[43m \u001b[49m\u001b[43mloader\u001b[49m\u001b[43m)\u001b[49m\n\u001b[0;32m      6\u001b[0m plt\u001b[38;5;241m.\u001b[39mshow()\n",
      "File \u001b[1;32mc:\\Users\\hsrhe\\anaconda3\\envs\\syn_seq\\lib\\site-packages\\pydantic\\deprecated\\decorator.py:55\u001b[0m, in \u001b[0;36mvalidate_arguments.<locals>.validate.<locals>.wrapper_function\u001b[1;34m(*args, **kwargs)\u001b[0m\n\u001b[0;32m     53\u001b[0m \u001b[38;5;129m@wraps\u001b[39m(_func)\n\u001b[0;32m     54\u001b[0m \u001b[38;5;28;01mdef\u001b[39;00m \u001b[38;5;21mwrapper_function\u001b[39m(\u001b[38;5;241m*\u001b[39margs: Any, \u001b[38;5;241m*\u001b[39m\u001b[38;5;241m*\u001b[39mkwargs: Any) \u001b[38;5;241m-\u001b[39m\u001b[38;5;241m>\u001b[39m Any:\n\u001b[1;32m---> 55\u001b[0m     \u001b[38;5;28;01mreturn\u001b[39;00m vd\u001b[38;5;241m.\u001b[39mcall(\u001b[38;5;241m*\u001b[39margs, \u001b[38;5;241m*\u001b[39m\u001b[38;5;241m*\u001b[39mkwargs)\n",
      "File \u001b[1;32mc:\\Users\\hsrhe\\anaconda3\\envs\\syn_seq\\lib\\site-packages\\pydantic\\deprecated\\decorator.py:150\u001b[0m, in \u001b[0;36mValidatedFunction.call\u001b[1;34m(self, *args, **kwargs)\u001b[0m\n\u001b[0;32m    148\u001b[0m \u001b[38;5;28;01mdef\u001b[39;00m \u001b[38;5;21mcall\u001b[39m(\u001b[38;5;28mself\u001b[39m, \u001b[38;5;241m*\u001b[39margs: Any, \u001b[38;5;241m*\u001b[39m\u001b[38;5;241m*\u001b[39mkwargs: Any) \u001b[38;5;241m-\u001b[39m\u001b[38;5;241m>\u001b[39m Any:\n\u001b[0;32m    149\u001b[0m     m \u001b[38;5;241m=\u001b[39m \u001b[38;5;28mself\u001b[39m\u001b[38;5;241m.\u001b[39minit_model_instance(\u001b[38;5;241m*\u001b[39margs, \u001b[38;5;241m*\u001b[39m\u001b[38;5;241m*\u001b[39mkwargs)\n\u001b[1;32m--> 150\u001b[0m     \u001b[38;5;28;01mreturn\u001b[39;00m \u001b[38;5;28;43mself\u001b[39;49m\u001b[38;5;241;43m.\u001b[39;49m\u001b[43mexecute\u001b[49m\u001b[43m(\u001b[49m\u001b[43mm\u001b[49m\u001b[43m)\u001b[49m\n",
      "File \u001b[1;32mc:\\Users\\hsrhe\\anaconda3\\envs\\syn_seq\\lib\\site-packages\\pydantic\\deprecated\\decorator.py:226\u001b[0m, in \u001b[0;36mValidatedFunction.execute\u001b[1;34m(self, m)\u001b[0m\n\u001b[0;32m    224\u001b[0m     \u001b[38;5;28;01mreturn\u001b[39;00m \u001b[38;5;28mself\u001b[39m\u001b[38;5;241m.\u001b[39mraw_function(\u001b[38;5;241m*\u001b[39margs_, \u001b[38;5;241m*\u001b[39m\u001b[38;5;241m*\u001b[39mkwargs, \u001b[38;5;241m*\u001b[39m\u001b[38;5;241m*\u001b[39mvar_kwargs)\n\u001b[0;32m    225\u001b[0m \u001b[38;5;28;01melse\u001b[39;00m:\n\u001b[1;32m--> 226\u001b[0m     \u001b[38;5;28;01mreturn\u001b[39;00m \u001b[38;5;28mself\u001b[39m\u001b[38;5;241m.\u001b[39mraw_function(\u001b[38;5;241m*\u001b[39m\u001b[38;5;241m*\u001b[39md, \u001b[38;5;241m*\u001b[39m\u001b[38;5;241m*\u001b[39mvar_kwargs)\n",
      "File \u001b[1;32m~\\Desktop\\synthcity\\src\\synthcity\\plugins\\core\\plugin.py:548\u001b[0m, in \u001b[0;36mPlugin.plot\u001b[1;34m(self, plt, X, count, plots, **kwargs)\u001b[0m\n\u001b[0;32m    529\u001b[0m \u001b[38;5;129m@validate_arguments\u001b[39m(config\u001b[38;5;241m=\u001b[39m\u001b[38;5;28mdict\u001b[39m(arbitrary_types_allowed\u001b[38;5;241m=\u001b[39m\u001b[38;5;28;01mTrue\u001b[39;00m))\n\u001b[0;32m    530\u001b[0m \u001b[38;5;28;01mdef\u001b[39;00m \u001b[38;5;21mplot\u001b[39m(\n\u001b[0;32m    531\u001b[0m     \u001b[38;5;28mself\u001b[39m,\n\u001b[1;32m   (...)\u001b[0m\n\u001b[0;32m    536\u001b[0m     \u001b[38;5;241m*\u001b[39m\u001b[38;5;241m*\u001b[39mkwargs: Any,\n\u001b[0;32m    537\u001b[0m ) \u001b[38;5;241m-\u001b[39m\u001b[38;5;241m>\u001b[39m Any:\n\u001b[0;32m    538\u001b[0m \u001b[38;5;250m    \u001b[39m\u001b[38;5;124;03m\"\"\"Plot the real-synthetic distributions.\u001b[39;00m\n\u001b[0;32m    539\u001b[0m \n\u001b[0;32m    540\u001b[0m \u001b[38;5;124;03m    Args:\u001b[39;00m\n\u001b[1;32m   (...)\u001b[0m\n\u001b[0;32m    546\u001b[0m \u001b[38;5;124;03m        self\u001b[39;00m\n\u001b[0;32m    547\u001b[0m \u001b[38;5;124;03m    \"\"\"\u001b[39;00m\n\u001b[1;32m--> 548\u001b[0m     X_syn \u001b[38;5;241m=\u001b[39m \u001b[38;5;28mself\u001b[39m\u001b[38;5;241m.\u001b[39mgenerate(count\u001b[38;5;241m=\u001b[39mcount, \u001b[38;5;241m*\u001b[39m\u001b[38;5;241m*\u001b[39mkwargs)\n\u001b[0;32m    550\u001b[0m     \u001b[38;5;28;01mif\u001b[39;00m \u001b[38;5;124m\"\u001b[39m\u001b[38;5;124mmarginal\u001b[39m\u001b[38;5;124m\"\u001b[39m \u001b[38;5;129;01min\u001b[39;00m plots:\n\u001b[0;32m    551\u001b[0m         plot_marginal_comparison(plt, X, X_syn)\n",
      "File \u001b[1;32m~\\Desktop\\synthcity\\src\\synthcity\\plugins\\generic\\plugin_syn_seq.py:82\u001b[0m, in \u001b[0;36mSyn_SeqPlugin.generate\u001b[1;34m(self, count, constraints, X, random_state, **kwargs)\u001b[0m\n\u001b[0;32m     80\u001b[0m     \u001b[38;5;28;01mraise\u001b[39;00m \u001b[38;5;167;01mRuntimeError\u001b[39;00m(\u001b[38;5;124m\"\u001b[39m\u001b[38;5;124mMust fit first.\u001b[39m\u001b[38;5;124m\"\u001b[39m)\n\u001b[0;32m     81\u001b[0m \u001b[38;5;28;01mif\u001b[39;00m X \u001b[38;5;129;01mis\u001b[39;00m \u001b[38;5;28;01mNone\u001b[39;00m:\n\u001b[1;32m---> 82\u001b[0m     \u001b[38;5;28;01mraise\u001b[39;00m \u001b[38;5;167;01mValueError\u001b[39;00m(\u001b[38;5;124m\"\u001b[39m\u001b[38;5;124mNeed a DataLoader for decoding. (Syn_SeqDataLoader 등)\u001b[39m\u001b[38;5;124m\"\u001b[39m)\n\u001b[0;32m     84\u001b[0m \u001b[38;5;28;01mif\u001b[39;00m random_state \u001b[38;5;129;01mis\u001b[39;00m \u001b[38;5;129;01mnot\u001b[39;00m \u001b[38;5;28;01mNone\u001b[39;00m:\n\u001b[0;32m     85\u001b[0m     \u001b[38;5;28;01mfrom\u001b[39;00m \u001b[38;5;21;01msynthcity\u001b[39;00m\u001b[38;5;21;01m.\u001b[39;00m\u001b[38;5;21;01mutils\u001b[39;00m\u001b[38;5;21;01m.\u001b[39;00m\u001b[38;5;21;01mreproducibility\u001b[39;00m \u001b[38;5;28;01mimport\u001b[39;00m enable_reproducible_results\n",
      "\u001b[1;31mValueError\u001b[0m: Need a DataLoader for decoding. (Syn_SeqDataLoader 등)"
     ]
    }
   ],
   "source": [
    "# third party\n",
    "import matplotlib.pyplot as plt\n",
    "\n",
    "syn_model.plot(plt, loader)\n",
    "\n",
    "plt.show()"
   ]
  },
  {
   "cell_type": "markdown",
   "metadata": {},
   "source": [
    "## Benchmarking metrics\n",
    "\n",
    "| **Metric**                                         | **Description**                                                                                                            |\n",
    "|----------------------------------------------------|----------------------------------------------------------------------------------------------------------------------------|\n",
    "| sanity.data\\_mismatch.score                        | Data types mismatch between the real//synthetic features                                                                   |\n",
    "| sanity.common\\_rows\\_proportion.score              | Real data copy-paste in the synthetic data                                                                                 |\n",
    "| sanity.nearest\\_syn\\_neighbor\\_distance.mean       | Computes the \\textless{}reduction\\textgreater{}(distance) from the real data to the closest neighbor in the synthetic data |\n",
    "| sanity.close\\_values\\_probability.score            | the probability of close values between the real and synthetic data.                                                       |\n",
    "| sanity.distant\\_values\\_probability.score          | the probability of distant values between the real and synthetic data.                                                     |\n",
    "| stats.jensenshannon\\_dist.marginal                 | the average Jensen-Shannon distance                                                                                        |\n",
    "| stats.chi\\_squared\\_test.marginal                  | the one-way chi-square test.                                                                                               |\n",
    "| stats.feature\\_corr.joint                          | the correlation/strength-of-association of features in data-set with both categorical and continuous features              |\n",
    "| stats.inv\\_kl\\_divergence.marginal                 | the average inverse of the Kullback–Leibler Divergence metric.                                                             |\n",
    "| stats.ks\\_test.marginal                            | the Kolmogorov-Smirnov test for goodness of fit.                                                                           |\n",
    "| stats.max\\_mean\\_discrepancy.joint                 | Empirical maximum mean discrepancy. The lower the result the more evidence that distributions are the same.                |\n",
    "| stats.prdc.precision                               | precision between the two manifolds                                                                                        |\n",
    "| stats.prdc.recall                                  | recall between the two manifolds                                                                                           |\n",
    "| stats.prdc.density                                 | density between the two manifolds                                                                                          |\n",
    "| stats.prdc.coverage                                | coverage between the two manifolds                                                                                         |\n",
    "| stats.alpha\\_precision.delta\\_precision\\_alpha\\_OC | Delta precision                                                                                                            |\n",
    "| stats.alpha\\_precision.delta\\_coverage\\_beta\\_OC   | Delta coverage                                                                                                             |\n",
    "| stats.alpha\\_precision.authenticity\\_OC            | Authetnticity                                                                                                              |\n",
    "| stats.survival\\_km\\_distance.optimism              | Kaplan-Meier distance between real-synthetic data                                                                          |\n",
    "| stats.survival\\_km\\_distance.abs\\_optimism         | Kaplan-Meier metrics absolute distance between real-syn data                                                               |\n",
    "| stats.survival\\_km\\_distance.sightedness           | Kaplan-Meier metrics distance on the temporal axis                                                                         |\n",
    "| performance.linear\\_model.gt.c\\_index              | Train on real, test on the test real data using CoxPH: C-Index                                                             |\n",
    "| performance.linear\\_model.gt.brier\\_score          | Train on real, test on the test real data using CoxPH: Brier score                                                         |\n",
    "| performance.linear\\_model.syn\\_id.c\\_index         | Train on synthetic, test on the train real data using CoxPH: C-Index                                                       |\n",
    "| performance.linear\\_model.syn\\_id.brier\\_score     | Train on synthetic, test on the train real data using CoxPH: Brier score                                                   |\n",
    "| performance.linear\\_model.syn\\_ood.c\\_index        | Train on synthetic, test on the test real data using CoxPH: C-Index                                                        |\n",
    "| performance.linear\\_model.syn\\_ood.brier\\_score    | Train on synthetic, test on the test real data using CoxPH: Brier score                                                    |\n",
    "| performance.mlp.gt.c\\_index                        | Train on real, test on the test real data using NN: C-Index                                                                |\n",
    "| performance.mlp.gt.brier\\_score                    | Train on real, test on the test real data using NN : Brier score                                                           |\n",
    "| performance.mlp.syn\\_id.c\\_index                   | Train on synthetic, test on the train real data using NN: C-Index                                                          |\n",
    "| performance.mlp.syn\\_id.brier\\_score               | Train on synthetic, test on the train real data using NN: Brier score                                                      |\n",
    "| performance.mlp.syn\\_ood.c\\_index                  | Train on synthetic, test on the test real data using NN: C-Index                                                           |\n",
    "| performance.mlp.syn\\_ood.brier\\_score              | Train on synthetic, test on the test real data using NN: Brier score                                                       |\n",
    "| performance.xgb.gt.c\\_index                        | Train on real, test on the test real data using XGB: C-Index                                                               |\n",
    "| performance.xgb.gt.brier\\_score                    | Train on real, test on the test real data using XGB : Brier score                                                          |\n",
    "| performance.xgb.syn\\_id.c\\_index                   | Train on synthetic, test on the train real data using XGB: C-Index                                                         |\n",
    "| performance.xgb.syn\\_id.brier\\_score               | Train on synthetic, test on the train real data using XGB: Brier score                                                     |\n",
    "| performance.xgb.syn\\_ood.c\\_index                  | Train on synthetic, test on the test real data using XGB: C-Index                                                          |\n",
    "| performance.xgb.syn\\_ood.brier\\_score              | Train on synthetic, test on the test real data using XGB: Brier score                                                      |\n",
    "| performance.feat\\_rank\\_distance.corr              | Correlation for the rank distances between the feature importance on real and synthetic data                               |\n",
    "| performance.feat\\_rank\\_distance.pvalue            | p-vale for the rank distances between the feature importance on real and synthetic data                                    |\n",
    "| detection.detection\\_xgb.mean                      | The average AUCROC score for detecting synthetic data using an XGBoost.                                                    |\n",
    "| detection.detection\\_mlp.mean                      | The average AUCROC score for detecting synthetic data using a NN.                                                          |\n",
    "| detection.detection\\_gmm.mean                      | The average AUCROC score for detecting synthetic data using a GMM.                                                         |\n",
    "| privacy.delta-presence.score                       | the maximum re-identification probability on the real dataset from the synthetic dataset.                                  |\n",
    "| privacy.k-anonymization.gt                         | the k-anon for the real data                                                                                               |\n",
    "| privacy.k-anonymization.syn                        | the k-anon for the synthetic data                                                                                          |\n",
    "| privacy.k-map.score                                | the minimum value k that satisfies the k-map rule.                                                                         |\n",
    "| privacy.distinct l-diversity.gt                    | the l-diversity for the real data                                                                                          |\n",
    "| privacy.distinct l-diversity.syn                   | the l-diversity for the synthetic data                                                                                     |\n",
    "| privacy.identifiability\\_score.score               | the re-identification score on the real dataset from the synthetic dataset.                                                |"
   ]
  },
  {
   "cell_type": "markdown",
   "metadata": {},
   "source": [
    "## Benchmark the quality of plugins\n",
    "\n",
    "For survival analysis, general purpose generators can be used as well."
   ]
  },
  {
   "cell_type": "code",
   "execution_count": null,
   "metadata": {},
   "outputs": [],
   "source": [
    "# synthcity absolute\n",
    "from synthcity.benchmark import Benchmarks\n",
    "\n",
    "score = Benchmarks.evaluate(\n",
    "    [(f\"test_{model}\", model, {}) for model in [\"syn_seq\", \"ctgan\"]],\n",
    "    loader,\n",
    "    synthetic_size=1000,\n",
    "    repeats=2,\n",
    "    task_type=\"survival_analysis\",\n",
    ")"
   ]
  },
  {
   "cell_type": "markdown",
   "metadata": {},
   "source": [
    "## Congratulations!\n",
    "\n",
    "Congratulations on completing this notebook tutorial! If you enjoyed this and would like to join the movement towards Machine learning and AI for medicine, you can do so in the following ways!\n",
    "\n",
    "### Star [Synthcity](https://github.com/vanderschaarlab/synthcity) on GitHub\n",
    "\n",
    "- The easiest way to help our community is just by starring the Repos! This helps raise awareness of the tools we're building.\n",
    "\n",
    "\n",
    "### Checkout other projects from vanderschaarlab\n",
    "- [HyperImpute](https://github.com/vanderschaarlab/hyperimpute)\n",
    "- [AutoPrognosis](https://github.com/vanderschaarlab/autoprognosis)\n"
   ]
  },
  {
   "cell_type": "code",
   "execution_count": null,
   "metadata": {},
   "outputs": [],
   "source": []
  }
 ],
 "metadata": {
  "kernelspec": {
   "display_name": "syn_seq",
   "language": "python",
   "name": "python3"
  },
  "language_info": {
   "codemirror_mode": {
    "name": "ipython",
    "version": 3
   },
   "file_extension": ".py",
   "mimetype": "text/x-python",
   "name": "python",
   "nbconvert_exporter": "python",
   "pygments_lexer": "ipython3",
   "version": "3.9.21"
  }
 },
 "nbformat": 4,
 "nbformat_minor": 2
}
