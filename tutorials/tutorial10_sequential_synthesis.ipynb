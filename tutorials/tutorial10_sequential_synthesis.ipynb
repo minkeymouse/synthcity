{
 "cells": [
  {
   "cell_type": "markdown",
   "metadata": {
    "vscode": {
     "languageId": "plaintext"
    }
   },
   "source": [
    "# Tutorial 10: Sequential Synthesis\n",
    "In this tutorial, we explore the **Sequential Synthesis** approach using\n",
    "the `syn_seq` plugin in `synthcity`. Sequential synthesis allows us to\n",
    "model variables one-by-one (column-by-column), using conditional relationships\n",
    "learned from the real data. The main idea is:\n",
    "1. Synthesize the first variable (often with sample-without-replacement, \"SWR\"),\n",
    "2. Then synthesize the second variable conditioned on the first,\n",
    "3. And so on for each subsequent variable.\n",
    "This approach can better preserve complex dependencies among columns than\n",
    "simple marginal or naive methods.\n",
    "We'll demonstrate this using the **diabetes** dataset, just like other tutorials,\n",
    "and compare the resulting synthetic data."
   ]
  },
  {
   "cell_type": "code",
   "execution_count": null,
   "metadata": {},
   "outputs": [],
   "source": [
    "!pip install synthcity"
   ]
  },
  {
   "cell_type": "code",
   "execution_count": null,
   "metadata": {},
   "outputs": [],
   "source": [
    "# stdlib\n",
    "import warnings\n",
    "\n",
    "warnings.filterwarnings(\"ignore\")\n",
    "\n",
    "# third party\n",
    "from sklearn.datasets import load_diabetes\n",
    "\n",
    "# synthcity absolute\n",
    "from synthcity.plugins import Plugins\n",
    "\n",
    "from synthcity.plugins.core.dataloader import Syn_SeqDataLoader\n",
    "\n",
    "eval_plugin = \"syn_seq\""
   ]
  },
  {
   "cell_type": "markdown",
   "metadata": {},
   "source": [
    "### Load dataset\n"
   ]
  },
  {
   "cell_type": "code",
   "execution_count": null,
   "metadata": {},
   "outputs": [],
   "source": [
    "# synthcity absolute\n",
    "from synthcity.plugins.core.dataloader import GenericDataLoader\n",
    "\n",
    "X, y = load_diabetes(return_X_y=True, as_frame=True)\n",
    "X[\"target\"] = y\n",
    "\n",
    "loader = Syn_SeqDataLoader(X, target_column=\"target\", sensitive_columns=[\"sex\"])\n",
    "\n",
    "loader.dataframe()"
   ]
  },
  {
   "cell_type": "markdown",
   "metadata": {},
   "source": [
    "### Train the generator\n"
   ]
  },
  {
   "cell_type": "code",
   "execution_count": null,
   "metadata": {},
   "outputs": [],
   "source": [
    "# synthcity absolute\n",
    "from synthcity.plugins import Plugins\n",
    "\n",
    "syn_model = Plugins().get(eval_plugin)\n",
    "\n",
    "syn_model.fit(loader)"
   ]
  },
  {
   "cell_type": "markdown",
   "metadata": {},
   "source": [
    "### Generate new samples\n"
   ]
  },
  {
   "cell_type": "code",
   "execution_count": null,
   "metadata": {},
   "outputs": [],
   "source": [
    "syn_model.generate(count=1000).dataframe()"
   ]
  },
  {
   "cell_type": "code",
   "execution_count": null,
   "metadata": {},
   "outputs": [],
   "source": [
    "# third party\n",
    "import matplotlib.pyplot as plt\n",
    "\n",
    "syn_model.plot(plt, loader)\n",
    "\n",
    "plt.show()"
   ]
  },
  {
   "cell_type": "markdown",
   "metadata": {},
   "source": [
    "### Benchmarks"
   ]
  },
  {
   "cell_type": "code",
   "execution_count": null,
   "metadata": {},
   "outputs": [],
   "source": [
    "# synthcity absolute\n",
    "from synthcity.benchmark import Benchmarks\n",
    "\n",
    "score = Benchmarks.evaluate(\n",
    "    [\n",
    "        (eval_plugin, eval_plugin, {\"n_iter\": 50})\n",
    "    ],  # (testname, plugin, plugin_args) REPLACE {\"n_iter\" : 50} with {} for better performance\n",
    "    loader,\n",
    "    repeats=2,\n",
    "    metrics={\"detection\": [\"detection_mlp\"]},  # DELETE THIS LINE FOR ALL METRICS\n",
    ")"
   ]
  },
  {
   "cell_type": "code",
   "execution_count": null,
   "metadata": {},
   "outputs": [],
   "source": [
    "Benchmarks.print(score)"
   ]
  },
  {
   "cell_type": "markdown",
   "metadata": {},
   "source": [
    "# User Modification\n",
    "\n",
    "from the below, we are using 'Adult' dataset which contains many highly skewed categorical variables.\n",
    "As you can see from the tutorial5_differential_privacy, such dataset resembles closely with real world dataset and it is very hard to synthesize."
   ]
  },
  {
   "cell_type": "markdown",
   "metadata": {},
   "source": [
    "## Load Dataset\n",
    "\n",
    "If we run the dataloader, it automatically shows order of synthesis and variable selection matrix. Variable selection matrix indicates which variables are used to synthesize the variable in each synthesis."
   ]
  },
  {
   "cell_type": "code",
   "execution_count": null,
   "metadata": {},
   "outputs": [],
   "source": [
    "# Load the reference data\n",
    "# Note: preprocessing data with OneHotEncoder or StandardScaler is not needed or recommended. Synthcity handles feature encoding and standardization internally.\n",
    "from synthcity.utils.datasets.categorical.categorical_adult import CategoricalAdultDataloader\n",
    "\n",
    "X = CategoricalAdultDataloader().load()\n",
    "\n",
    "X.head()"
   ]
  },
  {
   "cell_type": "markdown",
   "metadata": {},
   "source": [
    "## Preprocess the data for special values and imbalanced dataset\n",
    "\n",
    "We provide feature that preprocess the dataset to create better quality in sequential synthesis.\n",
    "Preprocessing includes data type assignment, encoded value flag, and imbalanced variable handling."
   ]
  },
  {
   "cell_type": "code",
   "execution_count": null,
   "metadata": {},
   "outputs": [],
   "source": [
    "# synthcity absolute\n",
    "from synthcity.plugins.core.models.syn_seq.syn_seq_preprocess import SynSeqPreprocessor\n",
    "\n",
    "prep = SynSeqPreprocessor(\n",
    "    user_dtypes={\n",
    "        \"workclass\": \"category\",\n",
    "        \"occupation\": \"category\",\n",
    "        \"relationship\": \"category\",\n",
    "        \"native-country\": \"category\",\n",
    "        \"race\": \"category\",\n",
    "        \"martial-status\": \"category\",\n",
    "        \"sex\": \"category\",\n",
    "        \"income>50K\": \"category\",\n",
    "    },\n",
    "    user_special_values={\n",
    "        \"capital-gain\": [0],\n",
    "        \"capital-loss\": [0]\n",
    "    },\n",
    "    max_categories=15\n",
    ")\n",
    "\n",
    "# 2) Preprocess (date -> offset, numeric split 등)\n",
    "X_processed = prep.preprocess(X, oversample=True)"
   ]
  },
  {
   "cell_type": "markdown",
   "metadata": {},
   "source": [
    "## Define the dataloader with user custom\n",
    "\n",
    "After preprocessing the dataset, user can define what order to synthesize and what methods to apply for each sequence.\n",
    "Variables with many categories like 'native-country' are recommended to come first."
   ]
  },
  {
   "cell_type": "code",
   "execution_count": null,
   "metadata": {},
   "outputs": [],
   "source": [
    "user_custom = {\n",
    "# Decide which order to synthesize the dataset.\n",
    "    'syn_order' : ['native-country', 'sex', 'workclass', 'education-num', 'marital-status', 'age',\n",
    "       'occupation', 'relationship', 'fnlwgt', 'race', 'capital-loss', 'hours-per-week', 'income>50K', 'capital-gain'],\n",
    "\n",
    "# Specify the method to use for certain variables. 'CART' is used as default.\n",
    "    'method' : {\"relationship\": \"rf\",\n",
    "                \"race\": \"pmm\"\n",
    "                },\n",
    "\n",
    "# Select which variables to use as predictor of synthesizing for each sequence.\n",
    "    'variable_selection' : {\n",
    "      'capital-loss': ['age', 'sex', 'workclass', 'education-num', 'marital-status',\n",
    "         'occupation', 'relationship', 'fnlwgt', 'race'],\n",
    "      'hours-per-week': ['age', 'workclass', 'fnlwgt', 'education-num', 'marital-status',\n",
    "         'occupation', 'relationship', 'race', 'sex'],\n",
    "      'native-country': ['age', 'workclass', 'fnlwgt', 'education-num', 'marital-status',\n",
    "       'occupation', 'relationship', 'race', 'sex', 'hours-per-week', 'native-country'],\n",
    "      'income>50K': ['age', 'workclass', 'fnlwgt', 'education-num', 'marital-status',\n",
    "       'occupation', 'relationship', 'race', 'sex', 'hours-per-week', 'native-country'],\n",
    "      'capital-gain': ['age', 'sex', 'workclass', 'education-num', 'marital-status',\n",
    "       'occupation', 'relationship', 'fnlwgt', 'race', 'capital-loss', 'hours-per-week', 'native-country', 'income>50K']\n",
    "         }\n",
    "}"
   ]
  },
  {
   "cell_type": "code",
   "execution_count": null,
   "metadata": {},
   "outputs": [],
   "source": [
    "loader = Syn_SeqDataLoader(X_processed,\n",
    "                           user_custom=user_custom,\n",
    "                           target_column=\"income>50K\", sensitive_columns=[\"sex\", \"race\"])\n",
    "\n",
    "loader.dataframe().head()"
   ]
  },
  {
   "cell_type": "markdown",
   "metadata": {},
   "source": [
    "## Existing plugins"
   ]
  },
  {
   "cell_type": "code",
   "execution_count": null,
   "metadata": {},
   "outputs": [],
   "source": [
    "# synthcity absolute\n",
    "from synthcity.plugins import Plugins\n",
    "\n",
    "generators = Plugins()\n",
    "\n",
    "generators.list()"
   ]
  },
  {
   "cell_type": "code",
   "execution_count": null,
   "metadata": {},
   "outputs": [],
   "source": [
    "syn_model = Plugins().get(\"syn_seq\")"
   ]
  },
  {
   "cell_type": "code",
   "execution_count": null,
   "metadata": {},
   "outputs": [],
   "source": [
    "syn_model.fit(loader)"
   ]
  },
  {
   "cell_type": "code",
   "execution_count": null,
   "metadata": {},
   "outputs": [],
   "source": [
    "synthetic_loader = syn_model.generate(\n",
    "    count = len(X)\n",
    "    )"
   ]
  },
  {
   "cell_type": "markdown",
   "metadata": {},
   "source": [
    "## Post processing\n",
    "\n",
    "User can also apply the rules and merge back the temporary created columns"
   ]
  },
  {
   "cell_type": "code",
   "execution_count": null,
   "metadata": {},
   "outputs": [],
   "source": [
    "synthetic_df = synthetic_loader.dataframe()"
   ]
  },
  {
   "cell_type": "code",
   "execution_count": null,
   "metadata": {},
   "outputs": [],
   "source": [
    "user_rules = {\n",
    "  \"martial-status\":[\n",
    "    (\"age\", \"<=\", 18),\n",
    "    (\"martial-status\", \"=\", 2)\n",
    "  ]\n",
    "}"
   ]
  },
  {
   "cell_type": "code",
   "execution_count": null,
   "metadata": {},
   "outputs": [],
   "source": [
    "synthetic_df = prep.postprocess(synthetic_df, rules=user_rules)"
   ]
  },
  {
   "cell_type": "code",
   "execution_count": null,
   "metadata": {},
   "outputs": [],
   "source": [
    "synthetic_df.head()"
   ]
  },
  {
   "cell_type": "markdown",
   "metadata": {},
   "source": [
    "## Congratulations!\n",
    "\n",
    "Congratulations on completing this notebook tutorial! If you enjoyed this and would like to join the movement towards Machine learning and AI for medicine, you can do so in the following ways!\n",
    "\n",
    "### Star [Synthcity](https://github.com/vanderschaarlab/synthcity) on GitHub\n",
    "\n",
    "- The easiest way to help our community is just by starring the Repos! This helps raise awareness of the tools we're building.\n",
    "\n",
    "\n",
    "### Checkout other projects from vanderschaarlab\n",
    "- [HyperImpute](https://github.com/vanderschaarlab/hyperimpute)\n",
    "- [AutoPrognosis](https://github.com/vanderschaarlab/autoprognosis)\n"
   ]
  },
  {
   "cell_type": "markdown",
   "metadata": {},
   "source": []
  }
 ],
 "metadata": {
  "kernelspec": {
   "display_name": "syn_seq",
   "language": "python",
   "name": "python3"
  },
  "language_info": {
   "codemirror_mode": {
    "name": "ipython",
    "version": 3
   },
   "file_extension": ".py",
   "mimetype": "text/x-python",
   "name": "python",
   "nbconvert_exporter": "python",
   "pygments_lexer": "ipython3",
   "version": "3.9.21"
  }
 },
 "nbformat": 4,
 "nbformat_minor": 2
}
